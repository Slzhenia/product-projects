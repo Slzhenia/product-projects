{
 "cells": [
  {
   "cell_type": "markdown",
   "metadata": {},
   "source": [
    "# Проект по интернет-магазину «Стримчик» <a id='intro'></a>\n",
    "**Задача проекта:**\n",
    "\n",
    "Используя исторические данные о продажах компьютерных игр, оценки пользователей и экспертов, жанры и платформы, выявить закономерности, определяющие успешность игры\n",
    "\n",
    "**Описание данных:**\n",
    "\n",
    "Таблица games:  \n",
    "Name — название игры  \n",
    "Platform — платформа  \n",
    "Year_of_Release — год выпуска  \n",
    "Genre — жанр игры  \n",
    "NA_sales — продажи в Северной Америке (миллионы проданных копий)  \n",
    "EU_sales — продажи в Европе (миллионы проданных копий)  \n",
    "JP_sales — продажи в Японии (миллионы проданных копий)  \n",
    "Other_sales — продажи в других странах (миллионы проданных копий)  \n",
    "Critic_Score — оценка критиков (максимум 100)  \n",
    "User_Score — оценка пользователей (максимум 10)  \n",
    "Rating — рейтинг от организации ESRB (англ. Entertainment Software Rating Board)\n",
    "\n",
    "**План проекта:**\n",
    "1) Изучить общую информацию о данных\n",
    "\n",
    "2) Подготовить данные для анализа, а именно:\n",
    "  * Привести названия столбцов к единому виду \n",
    "  * Где нужно изенить тип данных \n",
    "  * Обработать пропуски\n",
    "  * Посчитать суммарные продажи во всех регионах и записать их в отдельный столбец\n",
    "  \n",
    "3) Провести исследовательский анализ данных\n",
    "  * Посмотреть, сколько игр выпускалось в разные годы\n",
    "  * Посмотреть, как менялись продажи по платформам\n",
    "  * Выбрать акутальный период \n",
    "  * Выберать несколько потенциально прибыльных платформ\n",
    "  * Посмотреть, как влияют на продажи внутри одной популярной платформы отзывы пользователей и критиков\n",
    "  * Посмотреть на общее распределение игр по жанрам\n",
    "  \n",
    "4) Составьте портрет пользователя каждого региона, те для каждого региона (NA, EU, JP) выявить:\n",
    "  * Самые популярные платформы (топ-5)\n",
    "  * Самые популярные жанры (топ-5)\n",
    "  \n",
    "  Влияет ли рейтинг ESRB на продажи в отдельном регионе?\n",
    "\n",
    "  \n",
    "5) Проверить гипотезы:\n",
    "  * Средние пользовательские рейтинги платформ Xbox One и PC одинаковые\n",
    "  * Средние пользовательские рейтинги жанров Action и Sports разные\n",
    "  \n",
    "6) Сделать общие выводы \n",
    "\n",
    "\n"
   ]
  },
  {
   "cell_type": "markdown",
   "metadata": {},
   "source": [
    "## Общая информация"
   ]
  },
  {
   "cell_type": "code",
   "execution_count": 1,
   "metadata": {},
   "outputs": [],
   "source": [
    "import pandas as pd\n",
    "import seaborn as sns\n",
    "import matplotlib.pyplot as plt\n",
    "from scipy import stats as st\n",
    "import numpy as np"
   ]
  },
  {
   "cell_type": "code",
   "execution_count": 2,
   "metadata": {},
   "outputs": [],
   "source": [
    "data = pd.read_csv('/datasets/games.csv')"
   ]
  },
  {
   "cell_type": "code",
   "execution_count": 3,
   "metadata": {},
   "outputs": [
    {
     "data": {
      "text/html": [
       "<div>\n",
       "<style scoped>\n",
       "    .dataframe tbody tr th:only-of-type {\n",
       "        vertical-align: middle;\n",
       "    }\n",
       "\n",
       "    .dataframe tbody tr th {\n",
       "        vertical-align: top;\n",
       "    }\n",
       "\n",
       "    .dataframe thead th {\n",
       "        text-align: right;\n",
       "    }\n",
       "</style>\n",
       "<table border=\"1\" class=\"dataframe\">\n",
       "  <thead>\n",
       "    <tr style=\"text-align: right;\">\n",
       "      <th></th>\n",
       "      <th>Name</th>\n",
       "      <th>Platform</th>\n",
       "      <th>Year_of_Release</th>\n",
       "      <th>Genre</th>\n",
       "      <th>NA_sales</th>\n",
       "      <th>EU_sales</th>\n",
       "      <th>JP_sales</th>\n",
       "      <th>Other_sales</th>\n",
       "      <th>Critic_Score</th>\n",
       "      <th>User_Score</th>\n",
       "      <th>Rating</th>\n",
       "    </tr>\n",
       "  </thead>\n",
       "  <tbody>\n",
       "    <tr>\n",
       "      <th>0</th>\n",
       "      <td>Wii Sports</td>\n",
       "      <td>Wii</td>\n",
       "      <td>2006.0</td>\n",
       "      <td>Sports</td>\n",
       "      <td>41.36</td>\n",
       "      <td>28.96</td>\n",
       "      <td>3.77</td>\n",
       "      <td>8.45</td>\n",
       "      <td>76.0</td>\n",
       "      <td>8</td>\n",
       "      <td>E</td>\n",
       "    </tr>\n",
       "    <tr>\n",
       "      <th>1</th>\n",
       "      <td>Super Mario Bros.</td>\n",
       "      <td>NES</td>\n",
       "      <td>1985.0</td>\n",
       "      <td>Platform</td>\n",
       "      <td>29.08</td>\n",
       "      <td>3.58</td>\n",
       "      <td>6.81</td>\n",
       "      <td>0.77</td>\n",
       "      <td>NaN</td>\n",
       "      <td>NaN</td>\n",
       "      <td>NaN</td>\n",
       "    </tr>\n",
       "    <tr>\n",
       "      <th>2</th>\n",
       "      <td>Mario Kart Wii</td>\n",
       "      <td>Wii</td>\n",
       "      <td>2008.0</td>\n",
       "      <td>Racing</td>\n",
       "      <td>15.68</td>\n",
       "      <td>12.76</td>\n",
       "      <td>3.79</td>\n",
       "      <td>3.29</td>\n",
       "      <td>82.0</td>\n",
       "      <td>8.3</td>\n",
       "      <td>E</td>\n",
       "    </tr>\n",
       "    <tr>\n",
       "      <th>3</th>\n",
       "      <td>Wii Sports Resort</td>\n",
       "      <td>Wii</td>\n",
       "      <td>2009.0</td>\n",
       "      <td>Sports</td>\n",
       "      <td>15.61</td>\n",
       "      <td>10.93</td>\n",
       "      <td>3.28</td>\n",
       "      <td>2.95</td>\n",
       "      <td>80.0</td>\n",
       "      <td>8</td>\n",
       "      <td>E</td>\n",
       "    </tr>\n",
       "    <tr>\n",
       "      <th>4</th>\n",
       "      <td>Pokemon Red/Pokemon Blue</td>\n",
       "      <td>GB</td>\n",
       "      <td>1996.0</td>\n",
       "      <td>Role-Playing</td>\n",
       "      <td>11.27</td>\n",
       "      <td>8.89</td>\n",
       "      <td>10.22</td>\n",
       "      <td>1.00</td>\n",
       "      <td>NaN</td>\n",
       "      <td>NaN</td>\n",
       "      <td>NaN</td>\n",
       "    </tr>\n",
       "    <tr>\n",
       "      <th>5</th>\n",
       "      <td>Tetris</td>\n",
       "      <td>GB</td>\n",
       "      <td>1989.0</td>\n",
       "      <td>Puzzle</td>\n",
       "      <td>23.20</td>\n",
       "      <td>2.26</td>\n",
       "      <td>4.22</td>\n",
       "      <td>0.58</td>\n",
       "      <td>NaN</td>\n",
       "      <td>NaN</td>\n",
       "      <td>NaN</td>\n",
       "    </tr>\n",
       "    <tr>\n",
       "      <th>6</th>\n",
       "      <td>New Super Mario Bros.</td>\n",
       "      <td>DS</td>\n",
       "      <td>2006.0</td>\n",
       "      <td>Platform</td>\n",
       "      <td>11.28</td>\n",
       "      <td>9.14</td>\n",
       "      <td>6.50</td>\n",
       "      <td>2.88</td>\n",
       "      <td>89.0</td>\n",
       "      <td>8.5</td>\n",
       "      <td>E</td>\n",
       "    </tr>\n",
       "    <tr>\n",
       "      <th>7</th>\n",
       "      <td>Wii Play</td>\n",
       "      <td>Wii</td>\n",
       "      <td>2006.0</td>\n",
       "      <td>Misc</td>\n",
       "      <td>13.96</td>\n",
       "      <td>9.18</td>\n",
       "      <td>2.93</td>\n",
       "      <td>2.84</td>\n",
       "      <td>58.0</td>\n",
       "      <td>6.6</td>\n",
       "      <td>E</td>\n",
       "    </tr>\n",
       "    <tr>\n",
       "      <th>8</th>\n",
       "      <td>New Super Mario Bros. Wii</td>\n",
       "      <td>Wii</td>\n",
       "      <td>2009.0</td>\n",
       "      <td>Platform</td>\n",
       "      <td>14.44</td>\n",
       "      <td>6.94</td>\n",
       "      <td>4.70</td>\n",
       "      <td>2.24</td>\n",
       "      <td>87.0</td>\n",
       "      <td>8.4</td>\n",
       "      <td>E</td>\n",
       "    </tr>\n",
       "    <tr>\n",
       "      <th>9</th>\n",
       "      <td>Duck Hunt</td>\n",
       "      <td>NES</td>\n",
       "      <td>1984.0</td>\n",
       "      <td>Shooter</td>\n",
       "      <td>26.93</td>\n",
       "      <td>0.63</td>\n",
       "      <td>0.28</td>\n",
       "      <td>0.47</td>\n",
       "      <td>NaN</td>\n",
       "      <td>NaN</td>\n",
       "      <td>NaN</td>\n",
       "    </tr>\n",
       "    <tr>\n",
       "      <th>10</th>\n",
       "      <td>Nintendogs</td>\n",
       "      <td>DS</td>\n",
       "      <td>2005.0</td>\n",
       "      <td>Simulation</td>\n",
       "      <td>9.05</td>\n",
       "      <td>10.95</td>\n",
       "      <td>1.93</td>\n",
       "      <td>2.74</td>\n",
       "      <td>NaN</td>\n",
       "      <td>NaN</td>\n",
       "      <td>NaN</td>\n",
       "    </tr>\n",
       "    <tr>\n",
       "      <th>11</th>\n",
       "      <td>Mario Kart DS</td>\n",
       "      <td>DS</td>\n",
       "      <td>2005.0</td>\n",
       "      <td>Racing</td>\n",
       "      <td>9.71</td>\n",
       "      <td>7.47</td>\n",
       "      <td>4.13</td>\n",
       "      <td>1.90</td>\n",
       "      <td>91.0</td>\n",
       "      <td>8.6</td>\n",
       "      <td>E</td>\n",
       "    </tr>\n",
       "    <tr>\n",
       "      <th>12</th>\n",
       "      <td>Pokemon Gold/Pokemon Silver</td>\n",
       "      <td>GB</td>\n",
       "      <td>1999.0</td>\n",
       "      <td>Role-Playing</td>\n",
       "      <td>9.00</td>\n",
       "      <td>6.18</td>\n",
       "      <td>7.20</td>\n",
       "      <td>0.71</td>\n",
       "      <td>NaN</td>\n",
       "      <td>NaN</td>\n",
       "      <td>NaN</td>\n",
       "    </tr>\n",
       "    <tr>\n",
       "      <th>13</th>\n",
       "      <td>Wii Fit</td>\n",
       "      <td>Wii</td>\n",
       "      <td>2007.0</td>\n",
       "      <td>Sports</td>\n",
       "      <td>8.92</td>\n",
       "      <td>8.03</td>\n",
       "      <td>3.60</td>\n",
       "      <td>2.15</td>\n",
       "      <td>80.0</td>\n",
       "      <td>7.7</td>\n",
       "      <td>E</td>\n",
       "    </tr>\n",
       "    <tr>\n",
       "      <th>14</th>\n",
       "      <td>Kinect Adventures!</td>\n",
       "      <td>X360</td>\n",
       "      <td>2010.0</td>\n",
       "      <td>Misc</td>\n",
       "      <td>15.00</td>\n",
       "      <td>4.89</td>\n",
       "      <td>0.24</td>\n",
       "      <td>1.69</td>\n",
       "      <td>61.0</td>\n",
       "      <td>6.3</td>\n",
       "      <td>E</td>\n",
       "    </tr>\n",
       "    <tr>\n",
       "      <th>15</th>\n",
       "      <td>Wii Fit Plus</td>\n",
       "      <td>Wii</td>\n",
       "      <td>2009.0</td>\n",
       "      <td>Sports</td>\n",
       "      <td>9.01</td>\n",
       "      <td>8.49</td>\n",
       "      <td>2.53</td>\n",
       "      <td>1.77</td>\n",
       "      <td>80.0</td>\n",
       "      <td>7.4</td>\n",
       "      <td>E</td>\n",
       "    </tr>\n",
       "    <tr>\n",
       "      <th>16</th>\n",
       "      <td>Grand Theft Auto V</td>\n",
       "      <td>PS3</td>\n",
       "      <td>2013.0</td>\n",
       "      <td>Action</td>\n",
       "      <td>7.02</td>\n",
       "      <td>9.09</td>\n",
       "      <td>0.98</td>\n",
       "      <td>3.96</td>\n",
       "      <td>97.0</td>\n",
       "      <td>8.2</td>\n",
       "      <td>M</td>\n",
       "    </tr>\n",
       "    <tr>\n",
       "      <th>17</th>\n",
       "      <td>Grand Theft Auto: San Andreas</td>\n",
       "      <td>PS2</td>\n",
       "      <td>2004.0</td>\n",
       "      <td>Action</td>\n",
       "      <td>9.43</td>\n",
       "      <td>0.40</td>\n",
       "      <td>0.41</td>\n",
       "      <td>10.57</td>\n",
       "      <td>95.0</td>\n",
       "      <td>9</td>\n",
       "      <td>M</td>\n",
       "    </tr>\n",
       "    <tr>\n",
       "      <th>18</th>\n",
       "      <td>Super Mario World</td>\n",
       "      <td>SNES</td>\n",
       "      <td>1990.0</td>\n",
       "      <td>Platform</td>\n",
       "      <td>12.78</td>\n",
       "      <td>3.75</td>\n",
       "      <td>3.54</td>\n",
       "      <td>0.55</td>\n",
       "      <td>NaN</td>\n",
       "      <td>NaN</td>\n",
       "      <td>NaN</td>\n",
       "    </tr>\n",
       "    <tr>\n",
       "      <th>19</th>\n",
       "      <td>Brain Age: Train Your Brain in Minutes a Day</td>\n",
       "      <td>DS</td>\n",
       "      <td>2005.0</td>\n",
       "      <td>Misc</td>\n",
       "      <td>4.74</td>\n",
       "      <td>9.20</td>\n",
       "      <td>4.16</td>\n",
       "      <td>2.04</td>\n",
       "      <td>77.0</td>\n",
       "      <td>7.9</td>\n",
       "      <td>E</td>\n",
       "    </tr>\n",
       "  </tbody>\n",
       "</table>\n",
       "</div>"
      ],
      "text/plain": [
       "                                            Name Platform  Year_of_Release  \\\n",
       "0                                     Wii Sports      Wii           2006.0   \n",
       "1                              Super Mario Bros.      NES           1985.0   \n",
       "2                                 Mario Kart Wii      Wii           2008.0   \n",
       "3                              Wii Sports Resort      Wii           2009.0   \n",
       "4                       Pokemon Red/Pokemon Blue       GB           1996.0   \n",
       "5                                         Tetris       GB           1989.0   \n",
       "6                          New Super Mario Bros.       DS           2006.0   \n",
       "7                                       Wii Play      Wii           2006.0   \n",
       "8                      New Super Mario Bros. Wii      Wii           2009.0   \n",
       "9                                      Duck Hunt      NES           1984.0   \n",
       "10                                    Nintendogs       DS           2005.0   \n",
       "11                                 Mario Kart DS       DS           2005.0   \n",
       "12                   Pokemon Gold/Pokemon Silver       GB           1999.0   \n",
       "13                                       Wii Fit      Wii           2007.0   \n",
       "14                            Kinect Adventures!     X360           2010.0   \n",
       "15                                  Wii Fit Plus      Wii           2009.0   \n",
       "16                            Grand Theft Auto V      PS3           2013.0   \n",
       "17                 Grand Theft Auto: San Andreas      PS2           2004.0   \n",
       "18                             Super Mario World     SNES           1990.0   \n",
       "19  Brain Age: Train Your Brain in Minutes a Day       DS           2005.0   \n",
       "\n",
       "           Genre  NA_sales  EU_sales  JP_sales  Other_sales  Critic_Score  \\\n",
       "0         Sports     41.36     28.96      3.77         8.45          76.0   \n",
       "1       Platform     29.08      3.58      6.81         0.77           NaN   \n",
       "2         Racing     15.68     12.76      3.79         3.29          82.0   \n",
       "3         Sports     15.61     10.93      3.28         2.95          80.0   \n",
       "4   Role-Playing     11.27      8.89     10.22         1.00           NaN   \n",
       "5         Puzzle     23.20      2.26      4.22         0.58           NaN   \n",
       "6       Platform     11.28      9.14      6.50         2.88          89.0   \n",
       "7           Misc     13.96      9.18      2.93         2.84          58.0   \n",
       "8       Platform     14.44      6.94      4.70         2.24          87.0   \n",
       "9        Shooter     26.93      0.63      0.28         0.47           NaN   \n",
       "10    Simulation      9.05     10.95      1.93         2.74           NaN   \n",
       "11        Racing      9.71      7.47      4.13         1.90          91.0   \n",
       "12  Role-Playing      9.00      6.18      7.20         0.71           NaN   \n",
       "13        Sports      8.92      8.03      3.60         2.15          80.0   \n",
       "14          Misc     15.00      4.89      0.24         1.69          61.0   \n",
       "15        Sports      9.01      8.49      2.53         1.77          80.0   \n",
       "16        Action      7.02      9.09      0.98         3.96          97.0   \n",
       "17        Action      9.43      0.40      0.41        10.57          95.0   \n",
       "18      Platform     12.78      3.75      3.54         0.55           NaN   \n",
       "19          Misc      4.74      9.20      4.16         2.04          77.0   \n",
       "\n",
       "   User_Score Rating  \n",
       "0           8      E  \n",
       "1         NaN    NaN  \n",
       "2         8.3      E  \n",
       "3           8      E  \n",
       "4         NaN    NaN  \n",
       "5         NaN    NaN  \n",
       "6         8.5      E  \n",
       "7         6.6      E  \n",
       "8         8.4      E  \n",
       "9         NaN    NaN  \n",
       "10        NaN    NaN  \n",
       "11        8.6      E  \n",
       "12        NaN    NaN  \n",
       "13        7.7      E  \n",
       "14        6.3      E  \n",
       "15        7.4      E  \n",
       "16        8.2      M  \n",
       "17          9      M  \n",
       "18        NaN    NaN  \n",
       "19        7.9      E  "
      ]
     },
     "execution_count": 3,
     "metadata": {},
     "output_type": "execute_result"
    }
   ],
   "source": [
    "data.head(20)"
   ]
  },
  {
   "cell_type": "code",
   "execution_count": 4,
   "metadata": {
    "scrolled": true
   },
   "outputs": [
    {
     "name": "stdout",
     "output_type": "stream",
     "text": [
      "<class 'pandas.core.frame.DataFrame'>\n",
      "RangeIndex: 16715 entries, 0 to 16714\n",
      "Data columns (total 11 columns):\n",
      " #   Column           Non-Null Count  Dtype  \n",
      "---  ------           --------------  -----  \n",
      " 0   Name             16713 non-null  object \n",
      " 1   Platform         16715 non-null  object \n",
      " 2   Year_of_Release  16446 non-null  float64\n",
      " 3   Genre            16713 non-null  object \n",
      " 4   NA_sales         16715 non-null  float64\n",
      " 5   EU_sales         16715 non-null  float64\n",
      " 6   JP_sales         16715 non-null  float64\n",
      " 7   Other_sales      16715 non-null  float64\n",
      " 8   Critic_Score     8137 non-null   float64\n",
      " 9   User_Score       10014 non-null  object \n",
      " 10  Rating           9949 non-null   object \n",
      "dtypes: float64(6), object(5)\n",
      "memory usage: 1.4+ MB\n"
     ]
    }
   ],
   "source": [
    "data.info()"
   ]
  },
  {
   "cell_type": "code",
   "execution_count": 5,
   "metadata": {},
   "outputs": [
    {
     "name": "stdout",
     "output_type": "stream",
     "text": [
      "16715\n"
     ]
    }
   ],
   "source": [
    "number_old=data.shape[0]\n",
    "print(number_old)"
   ]
  },
  {
   "cell_type": "markdown",
   "metadata": {},
   "source": [
    "**Вывод:** в таблице всего 16715 строк. Заметно, что больше всего пропущено строк в трех последних столбцах, гд еотображен рейтинг и оценки критиков и пользователей. Также видно, что все столбцы названы неправильно и у некоторых неправильный тип данных. \n"
   ]
  },
  {
   "cell_type": "markdown",
   "metadata": {},
   "source": [
    "## Предоработка данных "
   ]
  },
  {
   "cell_type": "code",
   "execution_count": 6,
   "metadata": {
    "scrolled": true
   },
   "outputs": [
    {
     "name": "stdout",
     "output_type": "stream",
     "text": [
      "Index(['Name', 'Platform', 'Year_of_Release', 'Genre', 'NA_sales', 'EU_sales',\n",
      "       'JP_sales', 'Other_sales', 'Critic_Score', 'User_Score', 'Rating'],\n",
      "      dtype='object')\n",
      "Index(['name', 'platform', 'year_of_release', 'genre', 'na_sales', 'eu_sales',\n",
      "       'jp_sales', 'other_sales', 'critic_score', 'user_score', 'rating'],\n",
      "      dtype='object')\n"
     ]
    }
   ],
   "source": [
    "print(data.columns)\n",
    "for name in data.columns:\n",
    "    data=data.rename(columns={name:name.lower()})\n",
    "print(data.columns)"
   ]
  },
  {
   "cell_type": "code",
   "execution_count": 7,
   "metadata": {
    "scrolled": true
   },
   "outputs": [
    {
     "data": {
      "text/plain": [
       "name                  2\n",
       "platform              0\n",
       "year_of_release     269\n",
       "genre                 2\n",
       "na_sales              0\n",
       "eu_sales              0\n",
       "jp_sales              0\n",
       "other_sales           0\n",
       "critic_score       8578\n",
       "user_score         6701\n",
       "rating             6766\n",
       "dtype: int64"
      ]
     },
     "execution_count": 7,
     "metadata": {},
     "output_type": "execute_result"
    }
   ],
   "source": [
    "data.isna().sum()"
   ]
  },
  {
   "cell_type": "markdown",
   "metadata": {},
   "source": [
    "**Пояснение:** пропуски в столбце name никак не повлияют на дальнейший анализ, к тому же их всего два, так что заменим их на unknown. А вот пропуски в столбце genre уже будут задействованы в анализе, так что их проще удалить. Так как в дальнейшем анализе будем очень много смотреть на то, в каком году была выпущена, мне кажется, что строчки с пропусками в столбце Year_of_Release можно убрать, к тому же это меньше 2% от всех данных. пропуски в стоблце rating попробуем заменить на unknown. А вот удалить строчки с пропусками в столбцах critic_score и user_score или заменить их какие-то значения без послетствий не получится, так что оставим их. "
   ]
  },
  {
   "cell_type": "code",
   "execution_count": 8,
   "metadata": {},
   "outputs": [
    {
     "data": {
      "text/plain": [
       "name                  0\n",
       "platform              0\n",
       "year_of_release       0\n",
       "genre                 0\n",
       "na_sales              0\n",
       "eu_sales              0\n",
       "jp_sales              0\n",
       "other_sales           0\n",
       "critic_score       8461\n",
       "user_score         6605\n",
       "rating             6676\n",
       "dtype: int64"
      ]
     },
     "execution_count": 8,
     "metadata": {},
     "output_type": "execute_result"
    }
   ],
   "source": [
    "data=data.dropna(subset=['genre'])\n",
    "data=data.dropna(subset=['year_of_release'])\n",
    "data.isna().sum()"
   ]
  },
  {
   "cell_type": "code",
   "execution_count": 9,
   "metadata": {},
   "outputs": [
    {
     "data": {
      "text/plain": [
       "2"
      ]
     },
     "execution_count": 9,
     "metadata": {},
     "output_type": "execute_result"
    }
   ],
   "source": [
    "round(100-(data.shape[0]/number_old)*100)"
   ]
  },
  {
   "cell_type": "markdown",
   "metadata": {},
   "source": [
    "**Пояснение:** другими словами, мы потеряли лишь 2% данных, что приемлемо "
   ]
  },
  {
   "cell_type": "code",
   "execution_count": 10,
   "metadata": {
    "scrolled": true
   },
   "outputs": [],
   "source": [
    "data['year_of_release']=data['year_of_release'].astype(int)"
   ]
  },
  {
   "cell_type": "code",
   "execution_count": 11,
   "metadata": {
    "scrolled": true
   },
   "outputs": [
    {
     "data": {
      "text/plain": [
       "array(['0', '0.2', '0.3', '0.5', '0.6', '0.7', '0.9', '1', '1.1', '1.2',\n",
       "       '1.3', '1.4', '1.5', '1.6', '1.7', '1.8', '1.9', '2', '2.1', '2.2',\n",
       "       '2.3', '2.4', '2.5', '2.6', '2.7', '2.8', '2.9', '3', '3.1', '3.2',\n",
       "       '3.3', '3.4', '3.5', '3.6', '3.7', '3.8', '3.9', '4', '4.1', '4.2',\n",
       "       '4.3', '4.4', '4.5', '4.6', '4.7', '4.8', '4.9', '5', '5.1', '5.2',\n",
       "       '5.3', '5.4', '5.5', '5.6', '5.7', '5.8', '5.9', '6', '6.1', '6.2',\n",
       "       '6.3', '6.4', '6.5', '6.6', '6.7', '6.8', '6.9', '7', '7.1', '7.2',\n",
       "       '7.3', '7.4', '7.5', '7.6', '7.7', '7.8', '7.9', '8', '8.1', '8.2',\n",
       "       '8.3', '8.4', '8.5', '8.6', '8.7', '8.8', '8.9', '9', '9.1', '9.2',\n",
       "       '9.3', '9.4', '9.5', '9.6', '9.7', 'tbd', nan], dtype=object)"
      ]
     },
     "execution_count": 11,
     "metadata": {},
     "output_type": "execute_result"
    }
   ],
   "source": [
    "data['user_score'].sort_values().unique()\n",
    "#data['user_score']=data['user_score'].astype(float)"
   ]
  },
  {
   "cell_type": "markdown",
   "metadata": {},
   "source": [
    "**Пояснение:** аббревиатура 'tbd' означает 'будет определен позднее', те получается, что рейтинг у такой игры был еще не определен, следовательно можно его заполнить пропуском. И после этого заменить тип данных в этом столбце на числовой. "
   ]
  },
  {
   "cell_type": "code",
   "execution_count": 12,
   "metadata": {
    "scrolled": true
   },
   "outputs": [
    {
     "name": "stdout",
     "output_type": "stream",
     "text": [
      "<class 'pandas.core.frame.DataFrame'>\n",
      "Int64Index: 16444 entries, 0 to 16714\n",
      "Data columns (total 11 columns):\n",
      " #   Column           Non-Null Count  Dtype  \n",
      "---  ------           --------------  -----  \n",
      " 0   name             16444 non-null  object \n",
      " 1   platform         16444 non-null  object \n",
      " 2   year_of_release  16444 non-null  int64  \n",
      " 3   genre            16444 non-null  object \n",
      " 4   na_sales         16444 non-null  float64\n",
      " 5   eu_sales         16444 non-null  float64\n",
      " 6   jp_sales         16444 non-null  float64\n",
      " 7   other_sales      16444 non-null  float64\n",
      " 8   critic_score     7983 non-null   float64\n",
      " 9   user_score       7463 non-null   float64\n",
      " 10  rating           9768 non-null   object \n",
      "dtypes: float64(6), int64(1), object(4)\n",
      "memory usage: 1.5+ MB\n"
     ]
    }
   ],
   "source": [
    "data.loc[data['user_score']=='tbd', 'user_score']=np.nan\n",
    "data['user_score']=data['user_score'].astype(float)\n",
    "data.info()"
   ]
  },
  {
   "cell_type": "code",
   "execution_count": 13,
   "metadata": {},
   "outputs": [
    {
     "data": {
      "text/html": [
       "<div>\n",
       "<style scoped>\n",
       "    .dataframe tbody tr th:only-of-type {\n",
       "        vertical-align: middle;\n",
       "    }\n",
       "\n",
       "    .dataframe tbody tr th {\n",
       "        vertical-align: top;\n",
       "    }\n",
       "\n",
       "    .dataframe thead th {\n",
       "        text-align: right;\n",
       "    }\n",
       "</style>\n",
       "<table border=\"1\" class=\"dataframe\">\n",
       "  <thead>\n",
       "    <tr style=\"text-align: right;\">\n",
       "      <th></th>\n",
       "      <th>name</th>\n",
       "      <th>platform</th>\n",
       "      <th>year_of_release</th>\n",
       "      <th>genre</th>\n",
       "      <th>na_sales</th>\n",
       "      <th>eu_sales</th>\n",
       "      <th>jp_sales</th>\n",
       "      <th>other_sales</th>\n",
       "      <th>critic_score</th>\n",
       "      <th>user_score</th>\n",
       "      <th>rating</th>\n",
       "      <th>sum_sales</th>\n",
       "    </tr>\n",
       "  </thead>\n",
       "  <tbody>\n",
       "    <tr>\n",
       "      <th>0</th>\n",
       "      <td>Wii Sports</td>\n",
       "      <td>Wii</td>\n",
       "      <td>2006</td>\n",
       "      <td>Sports</td>\n",
       "      <td>41.36</td>\n",
       "      <td>28.96</td>\n",
       "      <td>3.77</td>\n",
       "      <td>8.45</td>\n",
       "      <td>76.0</td>\n",
       "      <td>8.0</td>\n",
       "      <td>E</td>\n",
       "      <td>82.54</td>\n",
       "    </tr>\n",
       "    <tr>\n",
       "      <th>1</th>\n",
       "      <td>Super Mario Bros.</td>\n",
       "      <td>NES</td>\n",
       "      <td>1985</td>\n",
       "      <td>Platform</td>\n",
       "      <td>29.08</td>\n",
       "      <td>3.58</td>\n",
       "      <td>6.81</td>\n",
       "      <td>0.77</td>\n",
       "      <td>NaN</td>\n",
       "      <td>NaN</td>\n",
       "      <td>NaN</td>\n",
       "      <td>40.24</td>\n",
       "    </tr>\n",
       "    <tr>\n",
       "      <th>2</th>\n",
       "      <td>Mario Kart Wii</td>\n",
       "      <td>Wii</td>\n",
       "      <td>2008</td>\n",
       "      <td>Racing</td>\n",
       "      <td>15.68</td>\n",
       "      <td>12.76</td>\n",
       "      <td>3.79</td>\n",
       "      <td>3.29</td>\n",
       "      <td>82.0</td>\n",
       "      <td>8.3</td>\n",
       "      <td>E</td>\n",
       "      <td>35.52</td>\n",
       "    </tr>\n",
       "    <tr>\n",
       "      <th>3</th>\n",
       "      <td>Wii Sports Resort</td>\n",
       "      <td>Wii</td>\n",
       "      <td>2009</td>\n",
       "      <td>Sports</td>\n",
       "      <td>15.61</td>\n",
       "      <td>10.93</td>\n",
       "      <td>3.28</td>\n",
       "      <td>2.95</td>\n",
       "      <td>80.0</td>\n",
       "      <td>8.0</td>\n",
       "      <td>E</td>\n",
       "      <td>32.77</td>\n",
       "    </tr>\n",
       "    <tr>\n",
       "      <th>4</th>\n",
       "      <td>Pokemon Red/Pokemon Blue</td>\n",
       "      <td>GB</td>\n",
       "      <td>1996</td>\n",
       "      <td>Role-Playing</td>\n",
       "      <td>11.27</td>\n",
       "      <td>8.89</td>\n",
       "      <td>10.22</td>\n",
       "      <td>1.00</td>\n",
       "      <td>NaN</td>\n",
       "      <td>NaN</td>\n",
       "      <td>NaN</td>\n",
       "      <td>31.38</td>\n",
       "    </tr>\n",
       "  </tbody>\n",
       "</table>\n",
       "</div>"
      ],
      "text/plain": [
       "                       name platform  year_of_release         genre  na_sales  \\\n",
       "0                Wii Sports      Wii             2006        Sports     41.36   \n",
       "1         Super Mario Bros.      NES             1985      Platform     29.08   \n",
       "2            Mario Kart Wii      Wii             2008        Racing     15.68   \n",
       "3         Wii Sports Resort      Wii             2009        Sports     15.61   \n",
       "4  Pokemon Red/Pokemon Blue       GB             1996  Role-Playing     11.27   \n",
       "\n",
       "   eu_sales  jp_sales  other_sales  critic_score  user_score rating  sum_sales  \n",
       "0     28.96      3.77         8.45          76.0         8.0      E      82.54  \n",
       "1      3.58      6.81         0.77           NaN         NaN    NaN      40.24  \n",
       "2     12.76      3.79         3.29          82.0         8.3      E      35.52  \n",
       "3     10.93      3.28         2.95          80.0         8.0      E      32.77  \n",
       "4      8.89     10.22         1.00           NaN         NaN    NaN      31.38  "
      ]
     },
     "execution_count": 13,
     "metadata": {},
     "output_type": "execute_result"
    }
   ],
   "source": [
    "data['sum_sales']=data['na_sales']+data['eu_sales']+data['jp_sales']+data['other_sales']\n",
    "data.head()"
   ]
  },
  {
   "cell_type": "markdown",
   "metadata": {},
   "source": [
    "Заменим пропуски в столбце rating на unknown, так как мне кажется, что в большинстве своем пропуски будут у игр, выпущенных где-то не в США, ведь рейтинг американский. А игры, выпущенные, например, в Японии будут и продаваться хорошо в Японии. Так что пропуски могут повлиять на 4 пункт анализа."
   ]
  },
  {
   "cell_type": "code",
   "execution_count": 14,
   "metadata": {},
   "outputs": [],
   "source": [
    "data['rating']=data['rating'].fillna('unknown')"
   ]
  },
  {
   "cell_type": "code",
   "execution_count": 15,
   "metadata": {},
   "outputs": [
    {
     "data": {
      "text/html": [
       "<div>\n",
       "<style scoped>\n",
       "    .dataframe tbody tr th:only-of-type {\n",
       "        vertical-align: middle;\n",
       "    }\n",
       "\n",
       "    .dataframe tbody tr th {\n",
       "        vertical-align: top;\n",
       "    }\n",
       "\n",
       "    .dataframe thead th {\n",
       "        text-align: right;\n",
       "    }\n",
       "</style>\n",
       "<table border=\"1\" class=\"dataframe\">\n",
       "  <thead>\n",
       "    <tr style=\"text-align: right;\">\n",
       "      <th></th>\n",
       "      <th>name</th>\n",
       "      <th>platform</th>\n",
       "      <th>year_of_release</th>\n",
       "      <th>genre</th>\n",
       "      <th>na_sales</th>\n",
       "      <th>eu_sales</th>\n",
       "      <th>jp_sales</th>\n",
       "      <th>other_sales</th>\n",
       "      <th>critic_score</th>\n",
       "      <th>user_score</th>\n",
       "      <th>rating</th>\n",
       "      <th>sum_sales</th>\n",
       "    </tr>\n",
       "  </thead>\n",
       "  <tbody>\n",
       "    <tr>\n",
       "      <th>0</th>\n",
       "      <td>Wii Sports</td>\n",
       "      <td>Wii</td>\n",
       "      <td>2006</td>\n",
       "      <td>Sports</td>\n",
       "      <td>41.36</td>\n",
       "      <td>28.96</td>\n",
       "      <td>3.77</td>\n",
       "      <td>8.45</td>\n",
       "      <td>76.0</td>\n",
       "      <td>8.0</td>\n",
       "      <td>E</td>\n",
       "      <td>82.54</td>\n",
       "    </tr>\n",
       "    <tr>\n",
       "      <th>1</th>\n",
       "      <td>Super Mario Bros.</td>\n",
       "      <td>NES</td>\n",
       "      <td>1985</td>\n",
       "      <td>Platform</td>\n",
       "      <td>29.08</td>\n",
       "      <td>3.58</td>\n",
       "      <td>6.81</td>\n",
       "      <td>0.77</td>\n",
       "      <td>NaN</td>\n",
       "      <td>NaN</td>\n",
       "      <td>unknown</td>\n",
       "      <td>40.24</td>\n",
       "    </tr>\n",
       "    <tr>\n",
       "      <th>2</th>\n",
       "      <td>Mario Kart Wii</td>\n",
       "      <td>Wii</td>\n",
       "      <td>2008</td>\n",
       "      <td>Racing</td>\n",
       "      <td>15.68</td>\n",
       "      <td>12.76</td>\n",
       "      <td>3.79</td>\n",
       "      <td>3.29</td>\n",
       "      <td>82.0</td>\n",
       "      <td>8.3</td>\n",
       "      <td>E</td>\n",
       "      <td>35.52</td>\n",
       "    </tr>\n",
       "    <tr>\n",
       "      <th>3</th>\n",
       "      <td>Wii Sports Resort</td>\n",
       "      <td>Wii</td>\n",
       "      <td>2009</td>\n",
       "      <td>Sports</td>\n",
       "      <td>15.61</td>\n",
       "      <td>10.93</td>\n",
       "      <td>3.28</td>\n",
       "      <td>2.95</td>\n",
       "      <td>80.0</td>\n",
       "      <td>8.0</td>\n",
       "      <td>E</td>\n",
       "      <td>32.77</td>\n",
       "    </tr>\n",
       "    <tr>\n",
       "      <th>4</th>\n",
       "      <td>Pokemon Red/Pokemon Blue</td>\n",
       "      <td>GB</td>\n",
       "      <td>1996</td>\n",
       "      <td>Role-Playing</td>\n",
       "      <td>11.27</td>\n",
       "      <td>8.89</td>\n",
       "      <td>10.22</td>\n",
       "      <td>1.00</td>\n",
       "      <td>NaN</td>\n",
       "      <td>NaN</td>\n",
       "      <td>unknown</td>\n",
       "      <td>31.38</td>\n",
       "    </tr>\n",
       "  </tbody>\n",
       "</table>\n",
       "</div>"
      ],
      "text/plain": [
       "                       name platform  year_of_release         genre  na_sales  \\\n",
       "0                Wii Sports      Wii             2006        Sports     41.36   \n",
       "1         Super Mario Bros.      NES             1985      Platform     29.08   \n",
       "2            Mario Kart Wii      Wii             2008        Racing     15.68   \n",
       "3         Wii Sports Resort      Wii             2009        Sports     15.61   \n",
       "4  Pokemon Red/Pokemon Blue       GB             1996  Role-Playing     11.27   \n",
       "\n",
       "   eu_sales  jp_sales  other_sales  critic_score  user_score   rating  \\\n",
       "0     28.96      3.77         8.45          76.0         8.0        E   \n",
       "1      3.58      6.81         0.77           NaN         NaN  unknown   \n",
       "2     12.76      3.79         3.29          82.0         8.3        E   \n",
       "3     10.93      3.28         2.95          80.0         8.0        E   \n",
       "4      8.89     10.22         1.00           NaN         NaN  unknown   \n",
       "\n",
       "   sum_sales  \n",
       "0      82.54  \n",
       "1      40.24  \n",
       "2      35.52  \n",
       "3      32.77  \n",
       "4      31.38  "
      ]
     },
     "execution_count": 15,
     "metadata": {},
     "output_type": "execute_result"
    }
   ],
   "source": [
    "data.head()"
   ]
  },
  {
   "cell_type": "markdown",
   "metadata": {},
   "source": [
    "## Исследовательский анализ данных"
   ]
  },
  {
   "cell_type": "code",
   "execution_count": 16,
   "metadata": {
    "scrolled": false
   },
   "outputs": [
    {
     "data": {
      "text/html": [
       "<div>\n",
       "<style scoped>\n",
       "    .dataframe tbody tr th:only-of-type {\n",
       "        vertical-align: middle;\n",
       "    }\n",
       "\n",
       "    .dataframe tbody tr th {\n",
       "        vertical-align: top;\n",
       "    }\n",
       "\n",
       "    .dataframe thead th {\n",
       "        text-align: right;\n",
       "    }\n",
       "</style>\n",
       "<table border=\"1\" class=\"dataframe\">\n",
       "  <thead>\n",
       "    <tr style=\"text-align: right;\">\n",
       "      <th></th>\n",
       "      <th>year_of_release</th>\n",
       "    </tr>\n",
       "  </thead>\n",
       "  <tbody>\n",
       "    <tr>\n",
       "      <th>2008</th>\n",
       "      <td>1427</td>\n",
       "    </tr>\n",
       "    <tr>\n",
       "      <th>2009</th>\n",
       "      <td>1426</td>\n",
       "    </tr>\n",
       "    <tr>\n",
       "      <th>2010</th>\n",
       "      <td>1255</td>\n",
       "    </tr>\n",
       "    <tr>\n",
       "      <th>2007</th>\n",
       "      <td>1197</td>\n",
       "    </tr>\n",
       "    <tr>\n",
       "      <th>2011</th>\n",
       "      <td>1136</td>\n",
       "    </tr>\n",
       "    <tr>\n",
       "      <th>2006</th>\n",
       "      <td>1006</td>\n",
       "    </tr>\n",
       "    <tr>\n",
       "      <th>2005</th>\n",
       "      <td>939</td>\n",
       "    </tr>\n",
       "    <tr>\n",
       "      <th>2002</th>\n",
       "      <td>829</td>\n",
       "    </tr>\n",
       "    <tr>\n",
       "      <th>2003</th>\n",
       "      <td>775</td>\n",
       "    </tr>\n",
       "    <tr>\n",
       "      <th>2004</th>\n",
       "      <td>762</td>\n",
       "    </tr>\n",
       "    <tr>\n",
       "      <th>2012</th>\n",
       "      <td>653</td>\n",
       "    </tr>\n",
       "    <tr>\n",
       "      <th>2015</th>\n",
       "      <td>606</td>\n",
       "    </tr>\n",
       "    <tr>\n",
       "      <th>2014</th>\n",
       "      <td>581</td>\n",
       "    </tr>\n",
       "    <tr>\n",
       "      <th>2013</th>\n",
       "      <td>544</td>\n",
       "    </tr>\n",
       "    <tr>\n",
       "      <th>2016</th>\n",
       "      <td>502</td>\n",
       "    </tr>\n",
       "    <tr>\n",
       "      <th>2001</th>\n",
       "      <td>482</td>\n",
       "    </tr>\n",
       "    <tr>\n",
       "      <th>1998</th>\n",
       "      <td>379</td>\n",
       "    </tr>\n",
       "    <tr>\n",
       "      <th>2000</th>\n",
       "      <td>350</td>\n",
       "    </tr>\n",
       "    <tr>\n",
       "      <th>1999</th>\n",
       "      <td>338</td>\n",
       "    </tr>\n",
       "    <tr>\n",
       "      <th>1997</th>\n",
       "      <td>289</td>\n",
       "    </tr>\n",
       "    <tr>\n",
       "      <th>1996</th>\n",
       "      <td>263</td>\n",
       "    </tr>\n",
       "    <tr>\n",
       "      <th>1995</th>\n",
       "      <td>219</td>\n",
       "    </tr>\n",
       "    <tr>\n",
       "      <th>1994</th>\n",
       "      <td>121</td>\n",
       "    </tr>\n",
       "    <tr>\n",
       "      <th>1993</th>\n",
       "      <td>60</td>\n",
       "    </tr>\n",
       "    <tr>\n",
       "      <th>1981</th>\n",
       "      <td>46</td>\n",
       "    </tr>\n",
       "    <tr>\n",
       "      <th>1992</th>\n",
       "      <td>43</td>\n",
       "    </tr>\n",
       "    <tr>\n",
       "      <th>1991</th>\n",
       "      <td>41</td>\n",
       "    </tr>\n",
       "    <tr>\n",
       "      <th>1982</th>\n",
       "      <td>36</td>\n",
       "    </tr>\n",
       "    <tr>\n",
       "      <th>1986</th>\n",
       "      <td>21</td>\n",
       "    </tr>\n",
       "    <tr>\n",
       "      <th>1983</th>\n",
       "      <td>17</td>\n",
       "    </tr>\n",
       "    <tr>\n",
       "      <th>1989</th>\n",
       "      <td>17</td>\n",
       "    </tr>\n",
       "    <tr>\n",
       "      <th>1990</th>\n",
       "      <td>16</td>\n",
       "    </tr>\n",
       "    <tr>\n",
       "      <th>1987</th>\n",
       "      <td>16</td>\n",
       "    </tr>\n",
       "    <tr>\n",
       "      <th>1988</th>\n",
       "      <td>15</td>\n",
       "    </tr>\n",
       "    <tr>\n",
       "      <th>1985</th>\n",
       "      <td>14</td>\n",
       "    </tr>\n",
       "    <tr>\n",
       "      <th>1984</th>\n",
       "      <td>14</td>\n",
       "    </tr>\n",
       "    <tr>\n",
       "      <th>1980</th>\n",
       "      <td>9</td>\n",
       "    </tr>\n",
       "  </tbody>\n",
       "</table>\n",
       "</div>"
      ],
      "text/plain": [
       "      year_of_release\n",
       "2008             1427\n",
       "2009             1426\n",
       "2010             1255\n",
       "2007             1197\n",
       "2011             1136\n",
       "2006             1006\n",
       "2005              939\n",
       "2002              829\n",
       "2003              775\n",
       "2004              762\n",
       "2012              653\n",
       "2015              606\n",
       "2014              581\n",
       "2013              544\n",
       "2016              502\n",
       "2001              482\n",
       "1998              379\n",
       "2000              350\n",
       "1999              338\n",
       "1997              289\n",
       "1996              263\n",
       "1995              219\n",
       "1994              121\n",
       "1993               60\n",
       "1981               46\n",
       "1992               43\n",
       "1991               41\n",
       "1982               36\n",
       "1986               21\n",
       "1983               17\n",
       "1989               17\n",
       "1990               16\n",
       "1987               16\n",
       "1988               15\n",
       "1985               14\n",
       "1984               14\n",
       "1980                9"
      ]
     },
     "execution_count": 16,
     "metadata": {},
     "output_type": "execute_result"
    }
   ],
   "source": [
    "data.year_of_release.value_counts().to_frame()"
   ]
  },
  {
   "cell_type": "code",
   "execution_count": 17,
   "metadata": {},
   "outputs": [
    {
     "data": {
      "image/png": "[encoded data removed]",
      "text/plain": [
       "<Figure size 1080x504 with 1 Axes>"
      ]
     },
     "metadata": {
      "needs_background": "light"
     },
     "output_type": "display_data"
    }
   ],
   "source": [
    "plt.figure(figsize=(15, 7))\n",
    "\n",
    "data.groupby('year_of_release')['name'].count().plot()\n",
    "\n",
    "plt.title('Динамика релизов игр', size=17)\n",
    "plt.xlabel('Год',size=12)\n",
    "plt.ylabel('Количество выпущенных игр', size=12)\n",
    "plt.show()"
   ]
  },
  {
   "cell_type": "code",
   "execution_count": 18,
   "metadata": {},
   "outputs": [
    {
     "data": {
      "text/html": [
       "<div>\n",
       "<style scoped>\n",
       "    .dataframe tbody tr th:only-of-type {\n",
       "        vertical-align: middle;\n",
       "    }\n",
       "\n",
       "    .dataframe tbody tr th {\n",
       "        vertical-align: top;\n",
       "    }\n",
       "\n",
       "    .dataframe thead th {\n",
       "        text-align: right;\n",
       "    }\n",
       "</style>\n",
       "<table border=\"1\" class=\"dataframe\">\n",
       "  <thead>\n",
       "    <tr style=\"text-align: right;\">\n",
       "      <th></th>\n",
       "      <th>sum_of_sum_sales</th>\n",
       "    </tr>\n",
       "    <tr>\n",
       "      <th>platform</th>\n",
       "      <th></th>\n",
       "    </tr>\n",
       "  </thead>\n",
       "  <tbody>\n",
       "    <tr>\n",
       "      <th>PS2</th>\n",
       "      <td>1233.56</td>\n",
       "    </tr>\n",
       "    <tr>\n",
       "      <th>X360</th>\n",
       "      <td>961.24</td>\n",
       "    </tr>\n",
       "    <tr>\n",
       "      <th>PS3</th>\n",
       "      <td>931.34</td>\n",
       "    </tr>\n",
       "    <tr>\n",
       "      <th>Wii</th>\n",
       "      <td>891.18</td>\n",
       "    </tr>\n",
       "    <tr>\n",
       "      <th>DS</th>\n",
       "      <td>802.78</td>\n",
       "    </tr>\n",
       "    <tr>\n",
       "      <th>PS</th>\n",
       "      <td>727.58</td>\n",
       "    </tr>\n",
       "    <tr>\n",
       "      <th>PS4</th>\n",
       "      <td>314.14</td>\n",
       "    </tr>\n",
       "    <tr>\n",
       "      <th>GBA</th>\n",
       "      <td>312.88</td>\n",
       "    </tr>\n",
       "    <tr>\n",
       "      <th>PSP</th>\n",
       "      <td>289.53</td>\n",
       "    </tr>\n",
       "    <tr>\n",
       "      <th>3DS</th>\n",
       "      <td>257.81</td>\n",
       "    </tr>\n",
       "    <tr>\n",
       "      <th>PC</th>\n",
       "      <td>255.76</td>\n",
       "    </tr>\n",
       "    <tr>\n",
       "      <th>GB</th>\n",
       "      <td>254.43</td>\n",
       "    </tr>\n",
       "    <tr>\n",
       "      <th>XB</th>\n",
       "      <td>251.57</td>\n",
       "    </tr>\n",
       "    <tr>\n",
       "      <th>NES</th>\n",
       "      <td>251.05</td>\n",
       "    </tr>\n",
       "    <tr>\n",
       "      <th>N64</th>\n",
       "      <td>218.01</td>\n",
       "    </tr>\n",
       "    <tr>\n",
       "      <th>SNES</th>\n",
       "      <td>200.04</td>\n",
       "    </tr>\n",
       "    <tr>\n",
       "      <th>GC</th>\n",
       "      <td>196.73</td>\n",
       "    </tr>\n",
       "    <tr>\n",
       "      <th>XOne</th>\n",
       "      <td>159.32</td>\n",
       "    </tr>\n",
       "    <tr>\n",
       "      <th>2600</th>\n",
       "      <td>86.48</td>\n",
       "    </tr>\n",
       "    <tr>\n",
       "      <th>WiiU</th>\n",
       "      <td>82.19</td>\n",
       "    </tr>\n",
       "    <tr>\n",
       "      <th>PSV</th>\n",
       "      <td>53.81</td>\n",
       "    </tr>\n",
       "    <tr>\n",
       "      <th>SAT</th>\n",
       "      <td>33.59</td>\n",
       "    </tr>\n",
       "    <tr>\n",
       "      <th>GEN</th>\n",
       "      <td>28.35</td>\n",
       "    </tr>\n",
       "    <tr>\n",
       "      <th>DC</th>\n",
       "      <td>15.95</td>\n",
       "    </tr>\n",
       "    <tr>\n",
       "      <th>SCD</th>\n",
       "      <td>1.86</td>\n",
       "    </tr>\n",
       "    <tr>\n",
       "      <th>NG</th>\n",
       "      <td>1.44</td>\n",
       "    </tr>\n",
       "    <tr>\n",
       "      <th>WS</th>\n",
       "      <td>1.42</td>\n",
       "    </tr>\n",
       "    <tr>\n",
       "      <th>TG16</th>\n",
       "      <td>0.16</td>\n",
       "    </tr>\n",
       "    <tr>\n",
       "      <th>3DO</th>\n",
       "      <td>0.10</td>\n",
       "    </tr>\n",
       "    <tr>\n",
       "      <th>GG</th>\n",
       "      <td>0.04</td>\n",
       "    </tr>\n",
       "    <tr>\n",
       "      <th>PCFX</th>\n",
       "      <td>0.03</td>\n",
       "    </tr>\n",
       "  </tbody>\n",
       "</table>\n",
       "</div>"
      ],
      "text/plain": [
       "          sum_of_sum_sales\n",
       "platform                  \n",
       "PS2                1233.56\n",
       "X360                961.24\n",
       "PS3                 931.34\n",
       "Wii                 891.18\n",
       "DS                  802.78\n",
       "PS                  727.58\n",
       "PS4                 314.14\n",
       "GBA                 312.88\n",
       "PSP                 289.53\n",
       "3DS                 257.81\n",
       "PC                  255.76\n",
       "GB                  254.43\n",
       "XB                  251.57\n",
       "NES                 251.05\n",
       "N64                 218.01\n",
       "SNES                200.04\n",
       "GC                  196.73\n",
       "XOne                159.32\n",
       "2600                 86.48\n",
       "WiiU                 82.19\n",
       "PSV                  53.81\n",
       "SAT                  33.59\n",
       "GEN                  28.35\n",
       "DC                   15.95\n",
       "SCD                   1.86\n",
       "NG                    1.44\n",
       "WS                    1.42\n",
       "TG16                  0.16\n",
       "3DO                   0.10\n",
       "GG                    0.04\n",
       "PCFX                  0.03"
      ]
     },
     "execution_count": 18,
     "metadata": {},
     "output_type": "execute_result"
    }
   ],
   "source": [
    "data_platform=data.groupby('platform').agg({'sum_sales':'sum'})\n",
    "data_platform.columns=['sum_of_sum_sales']\n",
    "data_platform.sort_values(by='sum_of_sum_sales', ascending=False)"
   ]
  },
  {
   "cell_type": "markdown",
   "metadata": {},
   "source": [
    "**Пояснение:** Мне кажется, тут есть смысл рассматривать распределение продаж по годам у первых 6 платформах, так как продажи на 7-ой платформе меньше почти в 2 раза продаж на 6-ой платформе. "
   ]
  },
  {
   "cell_type": "code",
   "execution_count": 19,
   "metadata": {},
   "outputs": [],
   "source": [
    "platform_top6=[\"PS2\",\"X360\",\"PS3\",\"Wii\",\"DS\",\"PS\"]\n",
    "data_platform_top6=data.query('platform in @platform_top6').groupby(['platform','year_of_release']).agg({'sum_sales':'sum'})\n"
   ]
  },
  {
   "cell_type": "code",
   "execution_count": 20,
   "metadata": {},
   "outputs": [],
   "source": [
    "data_merged=data_platform_top6.join(data_platform_top6.index.to_frame())"
   ]
  },
  {
   "cell_type": "code",
   "execution_count": 21,
   "metadata": {},
   "outputs": [
    {
     "data": {
      "text/html": [
       "<div>\n",
       "<style scoped>\n",
       "    .dataframe tbody tr th:only-of-type {\n",
       "        vertical-align: middle;\n",
       "    }\n",
       "\n",
       "    .dataframe tbody tr th {\n",
       "        vertical-align: top;\n",
       "    }\n",
       "\n",
       "    .dataframe thead th {\n",
       "        text-align: right;\n",
       "    }\n",
       "</style>\n",
       "<table border=\"1\" class=\"dataframe\">\n",
       "  <thead>\n",
       "    <tr style=\"text-align: right;\">\n",
       "      <th></th>\n",
       "      <th></th>\n",
       "      <th>sum_sales</th>\n",
       "      <th>platform</th>\n",
       "      <th>year_of_release</th>\n",
       "    </tr>\n",
       "    <tr>\n",
       "      <th>platform</th>\n",
       "      <th>year_of_release</th>\n",
       "      <th></th>\n",
       "      <th></th>\n",
       "      <th></th>\n",
       "    </tr>\n",
       "  </thead>\n",
       "  <tbody>\n",
       "    <tr>\n",
       "      <th rowspan=\"5\" valign=\"top\">DS</th>\n",
       "      <th>1985</th>\n",
       "      <td>0.02</td>\n",
       "      <td>DS</td>\n",
       "      <td>1985</td>\n",
       "    </tr>\n",
       "    <tr>\n",
       "      <th>2004</th>\n",
       "      <td>17.27</td>\n",
       "      <td>DS</td>\n",
       "      <td>2004</td>\n",
       "    </tr>\n",
       "    <tr>\n",
       "      <th>2005</th>\n",
       "      <td>130.14</td>\n",
       "      <td>DS</td>\n",
       "      <td>2005</td>\n",
       "    </tr>\n",
       "    <tr>\n",
       "      <th>2006</th>\n",
       "      <td>119.81</td>\n",
       "      <td>DS</td>\n",
       "      <td>2006</td>\n",
       "    </tr>\n",
       "    <tr>\n",
       "      <th>2007</th>\n",
       "      <td>146.94</td>\n",
       "      <td>DS</td>\n",
       "      <td>2007</td>\n",
       "    </tr>\n",
       "    <tr>\n",
       "      <th>...</th>\n",
       "      <th>...</th>\n",
       "      <td>...</td>\n",
       "      <td>...</td>\n",
       "      <td>...</td>\n",
       "    </tr>\n",
       "    <tr>\n",
       "      <th rowspan=\"5\" valign=\"top\">X360</th>\n",
       "      <th>2012</th>\n",
       "      <td>99.74</td>\n",
       "      <td>X360</td>\n",
       "      <td>2012</td>\n",
       "    </tr>\n",
       "    <tr>\n",
       "      <th>2013</th>\n",
       "      <td>88.58</td>\n",
       "      <td>X360</td>\n",
       "      <td>2013</td>\n",
       "    </tr>\n",
       "    <tr>\n",
       "      <th>2014</th>\n",
       "      <td>34.74</td>\n",
       "      <td>X360</td>\n",
       "      <td>2014</td>\n",
       "    </tr>\n",
       "    <tr>\n",
       "      <th>2015</th>\n",
       "      <td>11.96</td>\n",
       "      <td>X360</td>\n",
       "      <td>2015</td>\n",
       "    </tr>\n",
       "    <tr>\n",
       "      <th>2016</th>\n",
       "      <td>1.52</td>\n",
       "      <td>X360</td>\n",
       "      <td>2016</td>\n",
       "    </tr>\n",
       "  </tbody>\n",
       "</table>\n",
       "<p>67 rows × 3 columns</p>\n",
       "</div>"
      ],
      "text/plain": [
       "                          sum_sales platform  year_of_release\n",
       "platform year_of_release                                     \n",
       "DS       1985                  0.02       DS             1985\n",
       "         2004                 17.27       DS             2004\n",
       "         2005                130.14       DS             2005\n",
       "         2006                119.81       DS             2006\n",
       "         2007                146.94       DS             2007\n",
       "...                             ...      ...              ...\n",
       "X360     2012                 99.74     X360             2012\n",
       "         2013                 88.58     X360             2013\n",
       "         2014                 34.74     X360             2014\n",
       "         2015                 11.96     X360             2015\n",
       "         2016                  1.52     X360             2016\n",
       "\n",
       "[67 rows x 3 columns]"
      ]
     },
     "metadata": {},
     "output_type": "display_data"
    }
   ],
   "source": [
    "display(data_merged)"
   ]
  },
  {
   "cell_type": "code",
   "execution_count": 22,
   "metadata": {
    "scrolled": false
   },
   "outputs": [
    {
     "data": {
      "image/png": "[encoded data removed]",
      "text/plain": [
       "<Figure size 1080x504 with 1 Axes>"
      ]
     },
     "metadata": {
      "needs_background": "light"
     },
     "output_type": "display_data"
    }
   ],
   "source": [
    "plt.figure(figsize=(15, 7))\n",
    "\n",
    "ax = sns.barplot(x='year_of_release',\n",
    "            y='sum_sales',\n",
    "            hue=\"platform\",\n",
    "            data=data_merged,\n",
    "            \n",
    ")\n",
    "ax.set_title('Распределение продаж по платформам и годам')\n",
    "ax.set(xlabel='Номер года', ylabel='Суммарные продажи');"
   ]
  },
  {
   "cell_type": "code",
   "execution_count": 23,
   "metadata": {
    "scrolled": false
   },
   "outputs": [
    {
     "data": {
      "image/png": "[encoded data removed]",
      "text/plain": [
       "<Figure size 432x288 with 1 Axes>"
      ]
     },
     "metadata": {
      "needs_background": "light"
     },
     "output_type": "display_data"
    },
    {
     "data": {
      "image/png": "[encoded data removed]",
      "text/plain": [
       "<Figure size 432x288 with 1 Axes>"
      ]
     },
     "metadata": {
      "needs_background": "light"
     },
     "output_type": "display_data"
    },
    {
     "data": {
      "image/png": "[encoded data removed]",
      "text/plain": [
       "<Figure size 432x288 with 1 Axes>"
      ]
     },
     "metadata": {
      "needs_background": "light"
     },
     "output_type": "display_data"
    },
    {
     "data": {
      "image/png": "[encoded data removed]",
      "text/plain": [
       "<Figure size 432x288 with 1 Axes>"
      ]
     },
     "metadata": {
      "needs_background": "light"
     },
     "output_type": "display_data"
    },
    {
     "data": {
      "image/png": "[encoded data removed]",
      "text/plain": [
       "<Figure size 432x288 with 1 Axes>"
      ]
     },
     "metadata": {
      "needs_background": "light"
     },
     "output_type": "display_data"
    },
    {
     "data": {
      "image/png": "[encoded data removed]",
      "text/plain": [
       "<Figure size 432x288 with 1 Axes>"
      ]
     },
     "metadata": {
      "needs_background": "light"
     },
     "output_type": "display_data"
    }
   ],
   "source": [
    "data_merged.query('platform == \"DS\"').plot(x='year_of_release',\n",
    "            y='sum_sales', title='DS');\n",
    "data_merged.query('platform == \"PS2\"').plot(x='year_of_release',\n",
    "            y='sum_sales', title='PS2');\n",
    "data_merged.query('platform == \"PS3\"').plot(x='year_of_release',\n",
    "            y='sum_sales', title='PS3');\n",
    "data_merged.query('platform == \"Wii\"').plot(x='year_of_release',\n",
    "            y='sum_sales', title='Wii');\n",
    "data_merged.query('platform == \"PS\"').plot(x='year_of_release',\n",
    "            y='sum_sales', title='PS');\n",
    "data_merged.query('platform == \"X360\"').plot(x='year_of_release',\n",
    "            y='sum_sales', title='X360');"
   ]
  },
  {
   "cell_type": "markdown",
   "metadata": {},
   "source": [
    "**Поянение:** а теперь для наглядности поменим все на один график."
   ]
  },
  {
   "cell_type": "code",
   "execution_count": 24,
   "metadata": {},
   "outputs": [
    {
     "data": {
      "image/png": "[encoded data removed]",
      "text/plain": [
       "<Figure size 432x288 with 1 Axes>"
      ]
     },
     "metadata": {
      "needs_background": "light"
     },
     "output_type": "display_data"
    }
   ],
   "source": [
    "plt.plot('year_of_release', 'sum_sales', data=data_merged.query('platform == \"DS\"'), label ='DS')\n",
    "plt.plot('year_of_release', 'sum_sales',data=data_merged.query('platform == \"PS2\"'), label ='PS2')\n",
    "plt.plot('year_of_release', 'sum_sales', data=data_merged.query('platform == \"PS3\"'), label ='PS3')\n",
    "plt.plot('year_of_release', 'sum_sales',data=data_merged.query('platform == \"Wii\"'), label ='Wii')\n",
    "plt.plot('year_of_release', 'sum_sales', data=data_merged.query('platform == \"PS\"'), label ='PS')\n",
    "plt.plot('year_of_release', 'sum_sales',data=data_merged.query('platform == \"X360\"'), label ='X360')\n",
    "\n",
    "plt.xlabel(\"Год\")\n",
    "plt.ylabel(\"Суммарные продажи\")\n",
    "plt.legend()\n",
    "plt.title('Распределение по годам суммарных продаж наиболее продоваемых платформ')\n",
    "plt.show()\n"
   ]
  },
  {
   "cell_type": "markdown",
   "metadata": {},
   "source": [
    "**Пояснение:** в основном жизненный цикл платформы составляет 10 лет. Другими словами, проходит 10 лет от возникновения платформы до ее исчезновения. "
   ]
  },
  {
   "cell_type": "markdown",
   "metadata": {},
   "source": [
    "**Вывод:** Если основной жизненный цикл платформы составляет 10 лет, то для того, чтобы построить прогноз на 2017 год, лучше смотреть данные по платформам, которые имееют хоть какие-то продажи в 2016 году и за несколько лет до. Таким образом, мы сможем отсеять и самые начальные года, где было очень мало суммарных продаж и маленькое количсетво выпущенных игр, и те платформы, которые уже исчезли"
   ]
  },
  {
   "cell_type": "code",
   "execution_count": 25,
   "metadata": {},
   "outputs": [
    {
     "name": "stdout",
     "output_type": "stream",
     "text": [
      "['3DS', 'PC', 'PS3', 'PS4', 'PSV', 'Wii', 'WiiU', 'X360', 'XOne']\n"
     ]
    }
   ],
   "source": [
    "platform_names=[]\n",
    "for name in data['platform'].sort_values().unique():\n",
    "    if data.loc[data['platform']==name]['year_of_release'].max() == 2016:\n",
    "        platform_names.append(name)\n",
    "print(platform_names)   \n"
   ]
  },
  {
   "cell_type": "code",
   "execution_count": 26,
   "metadata": {
    "scrolled": false
   },
   "outputs": [
    {
     "data": {
      "text/html": [
       "<div>\n",
       "<style scoped>\n",
       "    .dataframe tbody tr th:only-of-type {\n",
       "        vertical-align: middle;\n",
       "    }\n",
       "\n",
       "    .dataframe tbody tr th {\n",
       "        vertical-align: top;\n",
       "    }\n",
       "\n",
       "    .dataframe thead th {\n",
       "        text-align: right;\n",
       "    }\n",
       "</style>\n",
       "<table border=\"1\" class=\"dataframe\">\n",
       "  <thead>\n",
       "    <tr style=\"text-align: right;\">\n",
       "      <th></th>\n",
       "      <th></th>\n",
       "      <th>sum_sales</th>\n",
       "      <th>platform</th>\n",
       "      <th>year_of_release</th>\n",
       "    </tr>\n",
       "    <tr>\n",
       "      <th>platform</th>\n",
       "      <th>year_of_release</th>\n",
       "      <th></th>\n",
       "      <th></th>\n",
       "      <th></th>\n",
       "    </tr>\n",
       "  </thead>\n",
       "  <tbody>\n",
       "    <tr>\n",
       "      <th rowspan=\"6\" valign=\"top\">3DS</th>\n",
       "      <th>2011</th>\n",
       "      <td>63.20</td>\n",
       "      <td>3DS</td>\n",
       "      <td>2011</td>\n",
       "    </tr>\n",
       "    <tr>\n",
       "      <th>2012</th>\n",
       "      <td>51.36</td>\n",
       "      <td>3DS</td>\n",
       "      <td>2012</td>\n",
       "    </tr>\n",
       "    <tr>\n",
       "      <th>2013</th>\n",
       "      <td>56.57</td>\n",
       "      <td>3DS</td>\n",
       "      <td>2013</td>\n",
       "    </tr>\n",
       "    <tr>\n",
       "      <th>2014</th>\n",
       "      <td>43.76</td>\n",
       "      <td>3DS</td>\n",
       "      <td>2014</td>\n",
       "    </tr>\n",
       "    <tr>\n",
       "      <th>2015</th>\n",
       "      <td>27.78</td>\n",
       "      <td>3DS</td>\n",
       "      <td>2015</td>\n",
       "    </tr>\n",
       "    <tr>\n",
       "      <th>2016</th>\n",
       "      <td>15.14</td>\n",
       "      <td>3DS</td>\n",
       "      <td>2016</td>\n",
       "    </tr>\n",
       "    <tr>\n",
       "      <th rowspan=\"14\" valign=\"top\">PC</th>\n",
       "      <th>1985</th>\n",
       "      <td>0.04</td>\n",
       "      <td>PC</td>\n",
       "      <td>1985</td>\n",
       "    </tr>\n",
       "    <tr>\n",
       "      <th>1988</th>\n",
       "      <td>0.03</td>\n",
       "      <td>PC</td>\n",
       "      <td>1988</td>\n",
       "    </tr>\n",
       "    <tr>\n",
       "      <th>1992</th>\n",
       "      <td>3.03</td>\n",
       "      <td>PC</td>\n",
       "      <td>1992</td>\n",
       "    </tr>\n",
       "    <tr>\n",
       "      <th>1994</th>\n",
       "      <td>12.87</td>\n",
       "      <td>PC</td>\n",
       "      <td>1994</td>\n",
       "    </tr>\n",
       "    <tr>\n",
       "      <th>1995</th>\n",
       "      <td>4.22</td>\n",
       "      <td>PC</td>\n",
       "      <td>1995</td>\n",
       "    </tr>\n",
       "    <tr>\n",
       "      <th>1996</th>\n",
       "      <td>10.58</td>\n",
       "      <td>PC</td>\n",
       "      <td>1996</td>\n",
       "    </tr>\n",
       "    <tr>\n",
       "      <th>1997</th>\n",
       "      <td>11.27</td>\n",
       "      <td>PC</td>\n",
       "      <td>1997</td>\n",
       "    </tr>\n",
       "    <tr>\n",
       "      <th>1998</th>\n",
       "      <td>3.26</td>\n",
       "      <td>PC</td>\n",
       "      <td>1998</td>\n",
       "    </tr>\n",
       "    <tr>\n",
       "      <th>1999</th>\n",
       "      <td>4.74</td>\n",
       "      <td>PC</td>\n",
       "      <td>1999</td>\n",
       "    </tr>\n",
       "    <tr>\n",
       "      <th>2000</th>\n",
       "      <td>4.66</td>\n",
       "      <td>PC</td>\n",
       "      <td>2000</td>\n",
       "    </tr>\n",
       "    <tr>\n",
       "      <th>2001</th>\n",
       "      <td>5.47</td>\n",
       "      <td>PC</td>\n",
       "      <td>2001</td>\n",
       "    </tr>\n",
       "    <tr>\n",
       "      <th>2002</th>\n",
       "      <td>8.57</td>\n",
       "      <td>PC</td>\n",
       "      <td>2002</td>\n",
       "    </tr>\n",
       "    <tr>\n",
       "      <th>2003</th>\n",
       "      <td>8.84</td>\n",
       "      <td>PC</td>\n",
       "      <td>2003</td>\n",
       "    </tr>\n",
       "    <tr>\n",
       "      <th>2004</th>\n",
       "      <td>10.39</td>\n",
       "      <td>PC</td>\n",
       "      <td>2004</td>\n",
       "    </tr>\n",
       "  </tbody>\n",
       "</table>\n",
       "</div>"
      ],
      "text/plain": [
       "                          sum_sales platform  year_of_release\n",
       "platform year_of_release                                     \n",
       "3DS      2011                 63.20      3DS             2011\n",
       "         2012                 51.36      3DS             2012\n",
       "         2013                 56.57      3DS             2013\n",
       "         2014                 43.76      3DS             2014\n",
       "         2015                 27.78      3DS             2015\n",
       "         2016                 15.14      3DS             2016\n",
       "PC       1985                  0.04       PC             1985\n",
       "         1988                  0.03       PC             1988\n",
       "         1992                  3.03       PC             1992\n",
       "         1994                 12.87       PC             1994\n",
       "         1995                  4.22       PC             1995\n",
       "         1996                 10.58       PC             1996\n",
       "         1997                 11.27       PC             1997\n",
       "         1998                  3.26       PC             1998\n",
       "         1999                  4.74       PC             1999\n",
       "         2000                  4.66       PC             2000\n",
       "         2001                  5.47       PC             2001\n",
       "         2002                  8.57       PC             2002\n",
       "         2003                  8.84       PC             2003\n",
       "         2004                 10.39       PC             2004"
      ]
     },
     "metadata": {},
     "output_type": "display_data"
    }
   ],
   "source": [
    "data_grouped=data.query('platform in @platform_names').groupby(['platform','year_of_release']).agg({'sum_sales':'sum'})\n",
    "data_grouped_merged=data_grouped.join(data_grouped.index.to_frame())\n",
    "display(data_grouped_merged.head(20)) \n"
   ]
  },
  {
   "cell_type": "code",
   "execution_count": 27,
   "metadata": {
    "scrolled": false
   },
   "outputs": [
    {
     "data": {
      "image/png": "[encoded data removed]",
      "text/plain": [
       "<Figure size 432x288 with 1 Axes>"
      ]
     },
     "metadata": {
      "needs_background": "light"
     },
     "output_type": "display_data"
    },
    {
     "data": {
      "image/png": "[encoded data removed]",
      "text/plain": [
       "<Figure size 432x288 with 1 Axes>"
      ]
     },
     "metadata": {
      "needs_background": "light"
     },
     "output_type": "display_data"
    },
    {
     "data": {
      "image/png": "[encoded data removed]",
      "text/plain": [
       "<Figure size 432x288 with 1 Axes>"
      ]
     },
     "metadata": {
      "needs_background": "light"
     },
     "output_type": "display_data"
    },
    {
     "data": {
      "image/png": "[encoded data removed]",
      "text/plain": [
       "<Figure size 432x288 with 1 Axes>"
      ]
     },
     "metadata": {
      "needs_background": "light"
     },
     "output_type": "display_data"
    },
    {
     "data": {
      "image/png": "[encoded data removed]",
      "text/plain": [
       "<Figure size 432x288 with 1 Axes>"
      ]
     },
     "metadata": {
      "needs_background": "light"
     },
     "output_type": "display_data"
    },
    {
     "data": {
      "image/png": "[encoded data removed]",
      "text/plain": [
       "<Figure size 432x288 with 1 Axes>"
      ]
     },
     "metadata": {
      "needs_background": "light"
     },
     "output_type": "display_data"
    },
    {
     "data": {
      "image/png": "[encoded data removed]",
      "text/plain": [
       "<Figure size 432x288 with 1 Axes>"
      ]
     },
     "metadata": {
      "needs_background": "light"
     },
     "output_type": "display_data"
    },
    {
     "data": {
      "image/png": "[encoded data removed]",
      "text/plain": [
       "<Figure size 432x288 with 1 Axes>"
      ]
     },
     "metadata": {
      "needs_background": "light"
     },
     "output_type": "display_data"
    },
    {
     "data": {
      "image/png": "[encoded data removed]",
      "text/plain": [
       "<Figure size 432x288 with 1 Axes>"
      ]
     },
     "metadata": {
      "needs_background": "light"
     },
     "output_type": "display_data"
    }
   ],
   "source": [
    "for name in platform_names:\n",
    "    data_grouped_merged.loc[data_grouped_merged['platform']==name].plot(x='year_of_release', y='sum_sales', title=name);\n",
    "    "
   ]
  },
  {
   "cell_type": "code",
   "execution_count": 28,
   "metadata": {},
   "outputs": [
    {
     "data": {
      "image/png": "[encoded data removed]",
      "text/plain": [
       "<Figure size 432x288 with 1 Axes>"
      ]
     },
     "metadata": {
      "needs_background": "light"
     },
     "output_type": "display_data"
    }
   ],
   "source": [
    "for name in platform_names:\n",
    "    plt.plot('year_of_release', 'sum_sales', data=data_grouped_merged.loc[data_grouped_merged['platform']==name], label = name)\n",
    "\n",
    "plt.xlabel(\"Год\")\n",
    "plt.ylabel(\"Суммарные продажи\")\n",
    "plt.legend()\n",
    "plt.title('Распределение по годам суммарных продаж наиболее продоваемых платформ')\n",
    "plt.show()"
   ]
  },
  {
   "cell_type": "markdown",
   "metadata": {},
   "source": [
    "**Вывод:** к 2016 году почти у всех платформ заметен спад, это может быть связано с тем, что данные за 2016 год не полные, но надо посмотртеь еще лидеров по прадажам в 2016 году и те платформы, которые на рынке еще меньше 10 лет, чтобы понять какие платформы еще будут на рынке. "
   ]
  },
  {
   "cell_type": "code",
   "execution_count": 29,
   "metadata": {
    "scrolled": true
   },
   "outputs": [
    {
     "data": {
      "text/plain": [
       "platform  year_of_release\n",
       "Wii       2016                0.18\n",
       "X360      2016                1.52\n",
       "PS3       2016                3.60\n",
       "PSV       2016                4.25\n",
       "WiiU      2016                4.60\n",
       "PC        2016                5.25\n",
       "3DS       2016               15.14\n",
       "XOne      2016               26.15\n",
       "PS4       2016               69.25\n",
       "Name: sum_sales, dtype: float64"
      ]
     },
     "execution_count": 29,
     "metadata": {},
     "output_type": "execute_result"
    }
   ],
   "source": [
    "data_grouped_merged.loc[data_grouped_merged['year_of_release']==2016,'sum_sales'].sort_values()"
   ]
  },
  {
   "cell_type": "markdown",
   "metadata": {},
   "source": [
    "По графикам видно, что платформы, которые на рынке меньше 10 лет XOne, WiiU, PSV, PS4, 3DS"
   ]
  },
  {
   "cell_type": "markdown",
   "metadata": {},
   "source": [
    "**Вывод:** как можно заметить, лидирующие позиции по продажам в 2016 году занимают платформы 3DS, XOne, PS4, а у всех остальных платформ продажи более чем в 3 раза меньше. Также все они существуют на рынке меньше 10 лет. Скорее всего можем их считать потенционально прибыльными в следующем году.  \n",
    "Если говорить именно про актуальный период, то я бы взяла 2013 - 2016, так как платформы в среднем живут 9-10 лет, а пик продаж приходится на первые 3-4 года. "
   ]
  },
  {
   "cell_type": "code",
   "execution_count": 30,
   "metadata": {},
   "outputs": [],
   "source": [
    "data_new=data.query('year_of_release>=2013')"
   ]
  },
  {
   "cell_type": "code",
   "execution_count": 31,
   "metadata": {
    "scrolled": true
   },
   "outputs": [
    {
     "data": {
      "text/html": [
       "<div>\n",
       "<style scoped>\n",
       "    .dataframe tbody tr th:only-of-type {\n",
       "        vertical-align: middle;\n",
       "    }\n",
       "\n",
       "    .dataframe tbody tr th {\n",
       "        vertical-align: top;\n",
       "    }\n",
       "\n",
       "    .dataframe thead th {\n",
       "        text-align: right;\n",
       "    }\n",
       "</style>\n",
       "<table border=\"1\" class=\"dataframe\">\n",
       "  <thead>\n",
       "    <tr style=\"text-align: right;\">\n",
       "      <th></th>\n",
       "      <th>name</th>\n",
       "      <th>platform</th>\n",
       "      <th>year_of_release</th>\n",
       "      <th>genre</th>\n",
       "      <th>na_sales</th>\n",
       "      <th>eu_sales</th>\n",
       "      <th>jp_sales</th>\n",
       "      <th>other_sales</th>\n",
       "      <th>critic_score</th>\n",
       "      <th>user_score</th>\n",
       "      <th>rating</th>\n",
       "      <th>sum_sales</th>\n",
       "    </tr>\n",
       "  </thead>\n",
       "  <tbody>\n",
       "    <tr>\n",
       "      <th>16</th>\n",
       "      <td>Grand Theft Auto V</td>\n",
       "      <td>PS3</td>\n",
       "      <td>2013</td>\n",
       "      <td>Action</td>\n",
       "      <td>7.02</td>\n",
       "      <td>9.09</td>\n",
       "      <td>0.98</td>\n",
       "      <td>3.96</td>\n",
       "      <td>97.0</td>\n",
       "      <td>8.2</td>\n",
       "      <td>M</td>\n",
       "      <td>21.05</td>\n",
       "    </tr>\n",
       "    <tr>\n",
       "      <th>23</th>\n",
       "      <td>Grand Theft Auto V</td>\n",
       "      <td>X360</td>\n",
       "      <td>2013</td>\n",
       "      <td>Action</td>\n",
       "      <td>9.66</td>\n",
       "      <td>5.14</td>\n",
       "      <td>0.06</td>\n",
       "      <td>1.41</td>\n",
       "      <td>97.0</td>\n",
       "      <td>8.1</td>\n",
       "      <td>M</td>\n",
       "      <td>16.27</td>\n",
       "    </tr>\n",
       "    <tr>\n",
       "      <th>31</th>\n",
       "      <td>Call of Duty: Black Ops 3</td>\n",
       "      <td>PS4</td>\n",
       "      <td>2015</td>\n",
       "      <td>Shooter</td>\n",
       "      <td>6.03</td>\n",
       "      <td>5.86</td>\n",
       "      <td>0.36</td>\n",
       "      <td>2.38</td>\n",
       "      <td>NaN</td>\n",
       "      <td>NaN</td>\n",
       "      <td>unknown</td>\n",
       "      <td>14.63</td>\n",
       "    </tr>\n",
       "    <tr>\n",
       "      <th>33</th>\n",
       "      <td>Pokemon X/Pokemon Y</td>\n",
       "      <td>3DS</td>\n",
       "      <td>2013</td>\n",
       "      <td>Role-Playing</td>\n",
       "      <td>5.28</td>\n",
       "      <td>4.19</td>\n",
       "      <td>4.35</td>\n",
       "      <td>0.78</td>\n",
       "      <td>NaN</td>\n",
       "      <td>NaN</td>\n",
       "      <td>unknown</td>\n",
       "      <td>14.60</td>\n",
       "    </tr>\n",
       "    <tr>\n",
       "      <th>42</th>\n",
       "      <td>Grand Theft Auto V</td>\n",
       "      <td>PS4</td>\n",
       "      <td>2014</td>\n",
       "      <td>Action</td>\n",
       "      <td>3.96</td>\n",
       "      <td>6.31</td>\n",
       "      <td>0.38</td>\n",
       "      <td>1.97</td>\n",
       "      <td>97.0</td>\n",
       "      <td>8.3</td>\n",
       "      <td>M</td>\n",
       "      <td>12.62</td>\n",
       "    </tr>\n",
       "    <tr>\n",
       "      <th>47</th>\n",
       "      <td>Pokemon Omega Ruby/Pokemon Alpha Sapphire</td>\n",
       "      <td>3DS</td>\n",
       "      <td>2014</td>\n",
       "      <td>Role-Playing</td>\n",
       "      <td>4.35</td>\n",
       "      <td>3.49</td>\n",
       "      <td>3.10</td>\n",
       "      <td>0.74</td>\n",
       "      <td>NaN</td>\n",
       "      <td>NaN</td>\n",
       "      <td>unknown</td>\n",
       "      <td>11.68</td>\n",
       "    </tr>\n",
       "    <tr>\n",
       "      <th>60</th>\n",
       "      <td>Call of Duty: Ghosts</td>\n",
       "      <td>X360</td>\n",
       "      <td>2013</td>\n",
       "      <td>Shooter</td>\n",
       "      <td>6.73</td>\n",
       "      <td>2.56</td>\n",
       "      <td>0.04</td>\n",
       "      <td>0.91</td>\n",
       "      <td>73.0</td>\n",
       "      <td>2.6</td>\n",
       "      <td>M</td>\n",
       "      <td>10.24</td>\n",
       "    </tr>\n",
       "    <tr>\n",
       "      <th>69</th>\n",
       "      <td>Call of Duty: Ghosts</td>\n",
       "      <td>PS3</td>\n",
       "      <td>2013</td>\n",
       "      <td>Shooter</td>\n",
       "      <td>4.10</td>\n",
       "      <td>3.63</td>\n",
       "      <td>0.38</td>\n",
       "      <td>1.25</td>\n",
       "      <td>71.0</td>\n",
       "      <td>2.6</td>\n",
       "      <td>M</td>\n",
       "      <td>9.36</td>\n",
       "    </tr>\n",
       "    <tr>\n",
       "      <th>72</th>\n",
       "      <td>Minecraft</td>\n",
       "      <td>X360</td>\n",
       "      <td>2013</td>\n",
       "      <td>Misc</td>\n",
       "      <td>5.70</td>\n",
       "      <td>2.65</td>\n",
       "      <td>0.02</td>\n",
       "      <td>0.81</td>\n",
       "      <td>NaN</td>\n",
       "      <td>NaN</td>\n",
       "      <td>unknown</td>\n",
       "      <td>9.18</td>\n",
       "    </tr>\n",
       "    <tr>\n",
       "      <th>77</th>\n",
       "      <td>FIFA 16</td>\n",
       "      <td>PS4</td>\n",
       "      <td>2015</td>\n",
       "      <td>Sports</td>\n",
       "      <td>1.12</td>\n",
       "      <td>6.12</td>\n",
       "      <td>0.06</td>\n",
       "      <td>1.28</td>\n",
       "      <td>82.0</td>\n",
       "      <td>4.3</td>\n",
       "      <td>E</td>\n",
       "      <td>8.58</td>\n",
       "    </tr>\n",
       "  </tbody>\n",
       "</table>\n",
       "</div>"
      ],
      "text/plain": [
       "                                         name platform  year_of_release  \\\n",
       "16                         Grand Theft Auto V      PS3             2013   \n",
       "23                         Grand Theft Auto V     X360             2013   \n",
       "31                  Call of Duty: Black Ops 3      PS4             2015   \n",
       "33                        Pokemon X/Pokemon Y      3DS             2013   \n",
       "42                         Grand Theft Auto V      PS4             2014   \n",
       "47  Pokemon Omega Ruby/Pokemon Alpha Sapphire      3DS             2014   \n",
       "60                       Call of Duty: Ghosts     X360             2013   \n",
       "69                       Call of Duty: Ghosts      PS3             2013   \n",
       "72                                  Minecraft     X360             2013   \n",
       "77                                    FIFA 16      PS4             2015   \n",
       "\n",
       "           genre  na_sales  eu_sales  jp_sales  other_sales  critic_score  \\\n",
       "16        Action      7.02      9.09      0.98         3.96          97.0   \n",
       "23        Action      9.66      5.14      0.06         1.41          97.0   \n",
       "31       Shooter      6.03      5.86      0.36         2.38           NaN   \n",
       "33  Role-Playing      5.28      4.19      4.35         0.78           NaN   \n",
       "42        Action      3.96      6.31      0.38         1.97          97.0   \n",
       "47  Role-Playing      4.35      3.49      3.10         0.74           NaN   \n",
       "60       Shooter      6.73      2.56      0.04         0.91          73.0   \n",
       "69       Shooter      4.10      3.63      0.38         1.25          71.0   \n",
       "72          Misc      5.70      2.65      0.02         0.81           NaN   \n",
       "77        Sports      1.12      6.12      0.06         1.28          82.0   \n",
       "\n",
       "    user_score   rating  sum_sales  \n",
       "16         8.2        M      21.05  \n",
       "23         8.1        M      16.27  \n",
       "31         NaN  unknown      14.63  \n",
       "33         NaN  unknown      14.60  \n",
       "42         8.3        M      12.62  \n",
       "47         NaN  unknown      11.68  \n",
       "60         2.6        M      10.24  \n",
       "69         2.6        M       9.36  \n",
       "72         NaN  unknown       9.18  \n",
       "77         4.3        E       8.58  "
      ]
     },
     "execution_count": 31,
     "metadata": {},
     "output_type": "execute_result"
    }
   ],
   "source": [
    "data_new.head(10)"
   ]
  },
  {
   "cell_type": "code",
   "execution_count": 32,
   "metadata": {
    "scrolled": false
   },
   "outputs": [
    {
     "name": "stdout",
     "output_type": "stream",
     "text": [
      "<class 'pandas.core.frame.DataFrame'>\n",
      "Int64Index: 2233 entries, 16 to 16714\n",
      "Data columns (total 12 columns):\n",
      " #   Column           Non-Null Count  Dtype  \n",
      "---  ------           --------------  -----  \n",
      " 0   name             2233 non-null   object \n",
      " 1   platform         2233 non-null   object \n",
      " 2   year_of_release  2233 non-null   int64  \n",
      " 3   genre            2233 non-null   object \n",
      " 4   na_sales         2233 non-null   float64\n",
      " 5   eu_sales         2233 non-null   float64\n",
      " 6   jp_sales         2233 non-null   float64\n",
      " 7   other_sales      2233 non-null   float64\n",
      " 8   critic_score     991 non-null    float64\n",
      " 9   user_score       1192 non-null   float64\n",
      " 10  rating           2233 non-null   object \n",
      " 11  sum_sales        2233 non-null   float64\n",
      "dtypes: float64(7), int64(1), object(4)\n",
      "memory usage: 226.8+ KB\n"
     ]
    }
   ],
   "source": [
    "data_new.info()"
   ]
  },
  {
   "cell_type": "code",
   "execution_count": 33,
   "metadata": {},
   "outputs": [
    {
     "data": {
      "text/plain": [
       "array(['PS3', 'X360', 'PS4', '3DS', 'XOne', 'WiiU', 'Wii', 'PC', 'PSV',\n",
       "       'DS', 'PSP'], dtype=object)"
      ]
     },
     "execution_count": 33,
     "metadata": {},
     "output_type": "execute_result"
    }
   ],
   "source": [
    "data_new['platform'].unique()"
   ]
  },
  {
   "cell_type": "code",
   "execution_count": 34,
   "id": "d0c5cdbd",
   "metadata": {
    "scrolled": false
   },
   "outputs": [
    {
     "data": {
      "image/png": "[encoded data removed]",
      "text/plain": [
       "<Figure size 1224x792 with 1 Axes>"
      ]
     },
     "metadata": {
      "needs_background": "light"
     },
     "output_type": "display_data"
    }
   ],
   "source": [
    "plt.figure(figsize=(17, 11))\n",
    "sns.boxplot(data=data_new, y='platform', x='sum_sales')\n",
    "plt.xlim(-0.1, 3)\n",
    "\n",
    "plt.title('Объемы продаж игр на разных платформах', size=17)\n",
    "plt.xlabel('Объем продаж', size=12)\n",
    "plt.ylabel('Название платформы', size=12)\n",
    "\n",
    "plt.show()"
   ]
  },
  {
   "cell_type": "markdown",
   "metadata": {},
   "source": [
    "Возьмем самую продаваемую платформу в 2016 году - PS4 и посмотрем влияют ли на ее продажи отзывы пользователей и критиков."
   ]
  },
  {
   "cell_type": "code",
   "execution_count": 35,
   "metadata": {},
   "outputs": [
    {
     "data": {
      "text/html": [
       "<div>\n",
       "<style scoped>\n",
       "    .dataframe tbody tr th:only-of-type {\n",
       "        vertical-align: middle;\n",
       "    }\n",
       "\n",
       "    .dataframe tbody tr th {\n",
       "        vertical-align: top;\n",
       "    }\n",
       "\n",
       "    .dataframe thead th {\n",
       "        text-align: right;\n",
       "    }\n",
       "</style>\n",
       "<table border=\"1\" class=\"dataframe\">\n",
       "  <thead>\n",
       "    <tr style=\"text-align: right;\">\n",
       "      <th></th>\n",
       "      <th>name</th>\n",
       "      <th>platform</th>\n",
       "      <th>year_of_release</th>\n",
       "      <th>genre</th>\n",
       "      <th>na_sales</th>\n",
       "      <th>eu_sales</th>\n",
       "      <th>jp_sales</th>\n",
       "      <th>other_sales</th>\n",
       "      <th>critic_score</th>\n",
       "      <th>user_score</th>\n",
       "      <th>rating</th>\n",
       "      <th>sum_sales</th>\n",
       "    </tr>\n",
       "  </thead>\n",
       "  <tbody>\n",
       "    <tr>\n",
       "      <th>31</th>\n",
       "      <td>Call of Duty: Black Ops 3</td>\n",
       "      <td>PS4</td>\n",
       "      <td>2015</td>\n",
       "      <td>Shooter</td>\n",
       "      <td>6.03</td>\n",
       "      <td>5.86</td>\n",
       "      <td>0.36</td>\n",
       "      <td>2.38</td>\n",
       "      <td>NaN</td>\n",
       "      <td>NaN</td>\n",
       "      <td>unknown</td>\n",
       "      <td>14.63</td>\n",
       "    </tr>\n",
       "    <tr>\n",
       "      <th>42</th>\n",
       "      <td>Grand Theft Auto V</td>\n",
       "      <td>PS4</td>\n",
       "      <td>2014</td>\n",
       "      <td>Action</td>\n",
       "      <td>3.96</td>\n",
       "      <td>6.31</td>\n",
       "      <td>0.38</td>\n",
       "      <td>1.97</td>\n",
       "      <td>97.0</td>\n",
       "      <td>8.3</td>\n",
       "      <td>M</td>\n",
       "      <td>12.62</td>\n",
       "    </tr>\n",
       "    <tr>\n",
       "      <th>77</th>\n",
       "      <td>FIFA 16</td>\n",
       "      <td>PS4</td>\n",
       "      <td>2015</td>\n",
       "      <td>Sports</td>\n",
       "      <td>1.12</td>\n",
       "      <td>6.12</td>\n",
       "      <td>0.06</td>\n",
       "      <td>1.28</td>\n",
       "      <td>82.0</td>\n",
       "      <td>4.3</td>\n",
       "      <td>E</td>\n",
       "      <td>8.58</td>\n",
       "    </tr>\n",
       "    <tr>\n",
       "      <th>87</th>\n",
       "      <td>Star Wars Battlefront (2015)</td>\n",
       "      <td>PS4</td>\n",
       "      <td>2015</td>\n",
       "      <td>Shooter</td>\n",
       "      <td>2.99</td>\n",
       "      <td>3.49</td>\n",
       "      <td>0.22</td>\n",
       "      <td>1.28</td>\n",
       "      <td>NaN</td>\n",
       "      <td>NaN</td>\n",
       "      <td>unknown</td>\n",
       "      <td>7.98</td>\n",
       "    </tr>\n",
       "    <tr>\n",
       "      <th>92</th>\n",
       "      <td>Call of Duty: Advanced Warfare</td>\n",
       "      <td>PS4</td>\n",
       "      <td>2014</td>\n",
       "      <td>Shooter</td>\n",
       "      <td>2.81</td>\n",
       "      <td>3.48</td>\n",
       "      <td>0.14</td>\n",
       "      <td>1.23</td>\n",
       "      <td>83.0</td>\n",
       "      <td>5.7</td>\n",
       "      <td>M</td>\n",
       "      <td>7.66</td>\n",
       "    </tr>\n",
       "  </tbody>\n",
       "</table>\n",
       "</div>"
      ],
      "text/plain": [
       "                              name platform  year_of_release    genre  \\\n",
       "31       Call of Duty: Black Ops 3      PS4             2015  Shooter   \n",
       "42              Grand Theft Auto V      PS4             2014   Action   \n",
       "77                         FIFA 16      PS4             2015   Sports   \n",
       "87    Star Wars Battlefront (2015)      PS4             2015  Shooter   \n",
       "92  Call of Duty: Advanced Warfare      PS4             2014  Shooter   \n",
       "\n",
       "    na_sales  eu_sales  jp_sales  other_sales  critic_score  user_score  \\\n",
       "31      6.03      5.86      0.36         2.38           NaN         NaN   \n",
       "42      3.96      6.31      0.38         1.97          97.0         8.3   \n",
       "77      1.12      6.12      0.06         1.28          82.0         4.3   \n",
       "87      2.99      3.49      0.22         1.28           NaN         NaN   \n",
       "92      2.81      3.48      0.14         1.23          83.0         5.7   \n",
       "\n",
       "     rating  sum_sales  \n",
       "31  unknown      14.63  \n",
       "42        M      12.62  \n",
       "77        E       8.58  \n",
       "87  unknown       7.98  \n",
       "92        M       7.66  "
      ]
     },
     "execution_count": 35,
     "metadata": {},
     "output_type": "execute_result"
    }
   ],
   "source": [
    "data_PS4=data.query('platform==\"PS4\"')\n",
    "data_PS4.head()"
   ]
  },
  {
   "cell_type": "code",
   "execution_count": 36,
   "metadata": {},
   "outputs": [
    {
     "name": "stdout",
     "output_type": "stream",
     "text": [
      "0.406567902061781\n",
      "-0.031957110204556376\n"
     ]
    }
   ],
   "source": [
    "print(data_PS4['sum_sales'].corr(data_PS4['critic_score']))\n",
    "print(data_PS4['sum_sales'].corr(data_PS4['user_score']))"
   ]
  },
  {
   "cell_type": "code",
   "execution_count": 37,
   "metadata": {},
   "outputs": [
    {
     "data": {
      "image/png": "[encoded data removed]",
      "text/plain": [
       "<Figure size 432x288 with 1 Axes>"
      ]
     },
     "metadata": {
      "needs_background": "light"
     },
     "output_type": "display_data"
    },
    {
     "data": {
      "image/png": "[encoded data removed]",
      "text/plain": [
       "<Figure size 576x432 with 2 Axes>"
      ]
     },
     "metadata": {
      "needs_background": "light"
     },
     "output_type": "display_data"
    },
    {
     "data": {
      "image/png": "[encoded data removed]",
      "text/plain": [
       "<Figure size 432x288 with 1 Axes>"
      ]
     },
     "metadata": {
      "needs_background": "light"
     },
     "output_type": "display_data"
    },
    {
     "data": {
      "image/png": "[encoded data removed]",
      "text/plain": [
       "<Figure size 576x432 with 2 Axes>"
      ]
     },
     "metadata": {
      "needs_background": "light"
     },
     "output_type": "display_data"
    }
   ],
   "source": [
    "data_PS4.plot(x='user_score', y='sum_sales', kind='scatter', title='Диаграмма рассеяния для общих продаж и отзывов пользователей')\n",
    "data_PS4.plot(x='user_score', y='sum_sales', kind='hexbin', gridsize=20, figsize=(8, 6), sharex=False, grid=True, title='Диаграмма рассеяния для общих продаж и отзывов пользователей'); \n",
    "data_PS4.plot(x='critic_score', y='sum_sales', kind='scatter', title='Диаграмма рассеяния для общих продаж и отзывов критиков')\n",
    "data_PS4.plot(x='critic_score', y='sum_sales', kind='hexbin', gridsize=20, figsize=(8, 6), sharex=False, grid=True, title='Диаграмма рассеяния для общих продаж и отзывов критиков'); \n",
    "\n"
   ]
  },
  {
   "cell_type": "markdown",
   "metadata": {},
   "source": [
    "**Вывод:** при увеличеннии на 1 отзыва пользователя общие продажи увеличиваются на 0.41 миллиона, а при увеличении на 1 отзыва критика общие продажи уменьшаются на 0.03. По диаграммам рассеяния заметно, что больше всего наблюдений имеют оценку пользоватателей 8, но приэтом количсетво проданных копий до 1 миллиона. Похожая ситуация и с оценками критиков: больше всего наблюдений имеют оценку 75-85, но приэтом количсетво проданных копий до 1 миллиона. Однако, что по коэффициентам корреляции, что по графикам можно сказать, что связь достаточно слабая. "
   ]
  },
  {
   "cell_type": "code",
   "execution_count": 38,
   "metadata": {
    "scrolled": true
   },
   "outputs": [
    {
     "name": "stdout",
     "output_type": "stream",
     "text": [
      "PS3\n",
      "0.33\n",
      "0.0\n",
      "\n",
      "X360\n",
      "0.35\n",
      "-0.01\n",
      "\n",
      "PS4\n",
      "0.41\n",
      "-0.03\n",
      "\n",
      "3DS\n",
      "0.36\n",
      "0.24\n",
      "\n",
      "XOne\n",
      "0.42\n",
      "-0.07\n",
      "\n",
      "WiiU\n",
      "0.38\n",
      "0.42\n",
      "\n",
      "Wii\n",
      "nan\n",
      "0.68\n",
      "\n",
      "PC\n",
      "0.2\n",
      "-0.09\n",
      "\n",
      "PSV\n",
      "0.25\n",
      "0.0\n",
      "\n",
      "DS\n",
      "nan\n",
      "nan\n",
      "\n",
      "PSP\n",
      "nan\n",
      "-1.0\n",
      "\n"
     ]
    },
    {
     "name": "stderr",
     "output_type": "stream",
     "text": [
      "/opt/conda/lib/python3.9/site-packages/numpy/lib/function_base.py:2683: RuntimeWarning: Degrees of freedom <= 0 for slice\n",
      "  c = cov(x, y, rowvar, dtype=dtype)\n",
      "/opt/conda/lib/python3.9/site-packages/numpy/lib/function_base.py:2542: RuntimeWarning: divide by zero encountered in true_divide\n",
      "  c *= np.true_divide(1, fact)\n"
     ]
    }
   ],
   "source": [
    "for platform in data_new['platform'].unique():\n",
    "    print(platform)\n",
    "    data_platform = data_new.loc[data_new['platform']==platform]\n",
    "    print(round(data_platform['sum_sales'].corr(data_platform['critic_score']),2))\n",
    "    print(round(data_platform['sum_sales'].corr(data_platform['user_score']),2))\n",
    "    print()\n"
   ]
  },
  {
   "cell_type": "markdown",
   "metadata": {},
   "source": [
    "**Вывод:** по коэффициентам корреляции на всех платформах то же самое: связь слабая. Из-за этого, можно не рассматривать графики, так как чего-то интересного они показать не смогут. "
   ]
  },
  {
   "cell_type": "code",
   "execution_count": 39,
   "metadata": {
    "scrolled": true
   },
   "outputs": [
    {
     "data": {
      "image/png": "[encoded data removed]",
      "text/plain": [
       "<Figure size 432x288 with 1 Axes>"
      ]
     },
     "metadata": {
      "needs_background": "light"
     },
     "output_type": "display_data"
    }
   ],
   "source": [
    "data_new.genre.value_counts().to_frame().plot(y = 'genre', kind = 'barh', title='Общее распределение количества игр по жанрам');"
   ]
  },
  {
   "cell_type": "code",
   "execution_count": 40,
   "metadata": {},
   "outputs": [
    {
     "data": {
      "image/png": "[encoded data removed]",
      "text/plain": [
       "<Figure size 432x288 with 1 Axes>"
      ]
     },
     "metadata": {
      "needs_background": "light"
     },
     "output_type": "display_data"
    },
    {
     "data": {
      "image/png": "[encoded data removed]",
      "text/plain": [
       "<Figure size 432x288 with 1 Axes>"
      ]
     },
     "metadata": {
      "needs_background": "light"
     },
     "output_type": "display_data"
    }
   ],
   "source": [
    "(\n",
    "    data_new\n",
    "    .groupby('genre')['sum_sales']\n",
    "    .agg({'sum', 'mean'})\n",
    "    .sort_values(by = 'sum', ascending = True).plot(y = 'sum', kind = 'barh', title='Распределение суммарных продаж игр по жанрам')\n",
    ");\n",
    "(\n",
    "    data_new\n",
    "    .groupby('genre')['sum_sales']\n",
    "    .agg({'sum', 'mean'})\n",
    "    .sort_values(by = 'mean', ascending = True).plot(y = 'mean', kind = 'barh', title='Распределение средних продаж игр по жанрам')\n",
    ");"
   ]
  },
  {
   "cell_type": "markdown",
   "metadata": {},
   "source": [
    "**Вывод:** самыми популярными жанрам являются Action и Role-Playing, а самыми прибыльными по сумме общих продаж являются Action и  Shooter, однако если смотреть на среднюю величину общих продаж, то лидируют Shooter и Platform. Жанр Puzzle имеет самую маленькую сумму общих продаж. "
   ]
  },
  {
   "cell_type": "markdown",
   "metadata": {},
   "source": [
    "## Портреты пользователей каждого региона"
   ]
  },
  {
   "cell_type": "code",
   "execution_count": 41,
   "metadata": {},
   "outputs": [
    {
     "data": {
      "text/html": [
       "<div>\n",
       "<style scoped>\n",
       "    .dataframe tbody tr th:only-of-type {\n",
       "        vertical-align: middle;\n",
       "    }\n",
       "\n",
       "    .dataframe tbody tr th {\n",
       "        vertical-align: top;\n",
       "    }\n",
       "\n",
       "    .dataframe thead th {\n",
       "        text-align: right;\n",
       "    }\n",
       "</style>\n",
       "<table border=\"1\" class=\"dataframe\">\n",
       "  <thead>\n",
       "    <tr style=\"text-align: right;\">\n",
       "      <th></th>\n",
       "      <th>sum_na_sales</th>\n",
       "      <th>persentage</th>\n",
       "    </tr>\n",
       "    <tr>\n",
       "      <th>platform</th>\n",
       "      <th></th>\n",
       "      <th></th>\n",
       "    </tr>\n",
       "  </thead>\n",
       "  <tbody>\n",
       "    <tr>\n",
       "      <th>PS4</th>\n",
       "      <td>108.74</td>\n",
       "      <td>0.25</td>\n",
       "    </tr>\n",
       "    <tr>\n",
       "      <th>XOne</th>\n",
       "      <td>93.12</td>\n",
       "      <td>0.21</td>\n",
       "    </tr>\n",
       "    <tr>\n",
       "      <th>X360</th>\n",
       "      <td>81.66</td>\n",
       "      <td>0.19</td>\n",
       "    </tr>\n",
       "    <tr>\n",
       "      <th>PS3</th>\n",
       "      <td>63.50</td>\n",
       "      <td>0.15</td>\n",
       "    </tr>\n",
       "    <tr>\n",
       "      <th>3DS</th>\n",
       "      <td>38.20</td>\n",
       "      <td>0.09</td>\n",
       "    </tr>\n",
       "  </tbody>\n",
       "</table>\n",
       "</div>"
      ],
      "text/plain": [
       "          sum_na_sales  persentage\n",
       "platform                          \n",
       "PS4             108.74        0.25\n",
       "XOne             93.12        0.21\n",
       "X360             81.66        0.19\n",
       "PS3              63.50        0.15\n",
       "3DS              38.20        0.09"
      ]
     },
     "execution_count": 41,
     "metadata": {},
     "output_type": "execute_result"
    }
   ],
   "source": [
    "data_na=data_new.groupby('platform').agg({'na_sales':'sum'})\n",
    "data_na.columns=['sum_na_sales']\n",
    "sum1=data_new['na_sales'].sum()\n",
    "data_na['persentage']=round(data_na['sum_na_sales']/sum1,2)\n",
    "data_na.sort_values(by='sum_na_sales', ascending=False).head()"
   ]
  },
  {
   "cell_type": "code",
   "execution_count": 42,
   "metadata": {
    "scrolled": false
   },
   "outputs": [
    {
     "data": {
      "text/html": [
       "<div>\n",
       "<style scoped>\n",
       "    .dataframe tbody tr th:only-of-type {\n",
       "        vertical-align: middle;\n",
       "    }\n",
       "\n",
       "    .dataframe tbody tr th {\n",
       "        vertical-align: top;\n",
       "    }\n",
       "\n",
       "    .dataframe thead th {\n",
       "        text-align: right;\n",
       "    }\n",
       "</style>\n",
       "<table border=\"1\" class=\"dataframe\">\n",
       "  <thead>\n",
       "    <tr style=\"text-align: right;\">\n",
       "      <th></th>\n",
       "      <th>sum_na_sales</th>\n",
       "      <th>persentage</th>\n",
       "    </tr>\n",
       "    <tr>\n",
       "      <th>genre</th>\n",
       "      <th></th>\n",
       "      <th></th>\n",
       "    </tr>\n",
       "  </thead>\n",
       "  <tbody>\n",
       "    <tr>\n",
       "      <th>Action</th>\n",
       "      <td>126.05</td>\n",
       "      <td>0.29</td>\n",
       "    </tr>\n",
       "    <tr>\n",
       "      <th>Shooter</th>\n",
       "      <td>109.74</td>\n",
       "      <td>0.25</td>\n",
       "    </tr>\n",
       "    <tr>\n",
       "      <th>Sports</th>\n",
       "      <td>65.27</td>\n",
       "      <td>0.15</td>\n",
       "    </tr>\n",
       "    <tr>\n",
       "      <th>Role-Playing</th>\n",
       "      <td>46.40</td>\n",
       "      <td>0.11</td>\n",
       "    </tr>\n",
       "    <tr>\n",
       "      <th>Misc</th>\n",
       "      <td>27.49</td>\n",
       "      <td>0.06</td>\n",
       "    </tr>\n",
       "  </tbody>\n",
       "</table>\n",
       "</div>"
      ],
      "text/plain": [
       "              sum_na_sales  persentage\n",
       "genre                                 \n",
       "Action              126.05        0.29\n",
       "Shooter             109.74        0.25\n",
       "Sports               65.27        0.15\n",
       "Role-Playing         46.40        0.11\n",
       "Misc                 27.49        0.06"
      ]
     },
     "execution_count": 42,
     "metadata": {},
     "output_type": "execute_result"
    }
   ],
   "source": [
    "data_na=data_new.groupby('genre').agg({'na_sales':'sum'})\n",
    "data_na.columns=['sum_na_sales']\n",
    "sum1=data_new['na_sales'].sum()\n",
    "data_na['persentage']=round(data_na['sum_na_sales']/sum1,2)\n",
    "data_na.sort_values(by='sum_na_sales', ascending=False).head()"
   ]
  },
  {
   "cell_type": "code",
   "execution_count": 43,
   "metadata": {},
   "outputs": [
    {
     "data": {
      "text/plain": [
       "array(['M', 'unknown', 'E', 'T', 'E10+'], dtype=object)"
      ]
     },
     "execution_count": 43,
     "metadata": {},
     "output_type": "execute_result"
    }
   ],
   "source": [
    "data_new['rating'].unique()"
   ]
  },
  {
   "cell_type": "code",
   "execution_count": 44,
   "metadata": {},
   "outputs": [
    {
     "data": {
      "text/html": [
       "<div>\n",
       "<style scoped>\n",
       "    .dataframe tbody tr th:only-of-type {\n",
       "        vertical-align: middle;\n",
       "    }\n",
       "\n",
       "    .dataframe tbody tr th {\n",
       "        vertical-align: top;\n",
       "    }\n",
       "\n",
       "    .dataframe thead th {\n",
       "        text-align: right;\n",
       "    }\n",
       "</style>\n",
       "<table border=\"1\" class=\"dataframe\">\n",
       "  <thead>\n",
       "    <tr style=\"text-align: right;\">\n",
       "      <th></th>\n",
       "      <th>rating</th>\n",
       "      <th>na_sales</th>\n",
       "    </tr>\n",
       "  </thead>\n",
       "  <tbody>\n",
       "    <tr>\n",
       "      <th>0</th>\n",
       "      <td>M</td>\n",
       "      <td>165.21</td>\n",
       "    </tr>\n",
       "    <tr>\n",
       "      <th>1</th>\n",
       "      <td>unknown</td>\n",
       "      <td>89.42</td>\n",
       "    </tr>\n",
       "    <tr>\n",
       "      <th>2</th>\n",
       "      <td>E</td>\n",
       "      <td>79.05</td>\n",
       "    </tr>\n",
       "    <tr>\n",
       "      <th>3</th>\n",
       "      <td>E10+</td>\n",
       "      <td>54.24</td>\n",
       "    </tr>\n",
       "    <tr>\n",
       "      <th>4</th>\n",
       "      <td>T</td>\n",
       "      <td>49.79</td>\n",
       "    </tr>\n",
       "  </tbody>\n",
       "</table>\n",
       "</div>"
      ],
      "text/plain": [
       "    rating  na_sales\n",
       "0        M    165.21\n",
       "1  unknown     89.42\n",
       "2        E     79.05\n",
       "3     E10+     54.24\n",
       "4        T     49.79"
      ]
     },
     "execution_count": 44,
     "metadata": {},
     "output_type": "execute_result"
    }
   ],
   "source": [
    "data_new.groupby('rating').agg({'na_sales': 'sum'}).sort_values(by='na_sales', ascending=False).reset_index()"
   ]
  },
  {
   "cell_type": "code",
   "execution_count": 45,
   "metadata": {
    "scrolled": true
   },
   "outputs": [
    {
     "data": {
      "image/png": "[encoded data removed]",
      "text/plain": [
       "<Figure size 432x288 with 1 Axes>"
      ]
     },
     "metadata": {
      "needs_background": "light"
     },
     "output_type": "display_data"
    }
   ],
   "source": [
    "(\n",
    "    data_new\n",
    "    .groupby('rating')['na_sales']\n",
    "    .agg('sum')\n",
    "    .sort_values(ascending = True).plot(y = 'sum', kind = 'barh')\n",
    ");"
   ]
  },
  {
   "cell_type": "markdown",
   "metadata": {},
   "source": [
    "**Вывод:** Если анализировать продажи в Северной Америке, то можно сделать топ-5 платформ по сумме проданных копий и туда войдут X360, PS3,  PS4, XOne, 3DS. В сумме на них приходится 80% от общего количесства проданных копий в Северной Америке. Что же касается жанров, то в аналогичный топ-5 входят Action, Shooter, Sports, Role-Playing, Misc и на них приходится 83%. Очень много игр с оценкой M,а с оценкой Е, Е10+, Т и с отсутствием рейтинга ESRB почти в два раза меньше. А продаж игр с другими оценками почти нет, следовательно, мне кажется, что рейтинг все-таки влияет."
   ]
  },
  {
   "cell_type": "code",
   "execution_count": 46,
   "metadata": {},
   "outputs": [
    {
     "data": {
      "text/html": [
       "<div>\n",
       "<style scoped>\n",
       "    .dataframe tbody tr th:only-of-type {\n",
       "        vertical-align: middle;\n",
       "    }\n",
       "\n",
       "    .dataframe tbody tr th {\n",
       "        vertical-align: top;\n",
       "    }\n",
       "\n",
       "    .dataframe thead th {\n",
       "        text-align: right;\n",
       "    }\n",
       "</style>\n",
       "<table border=\"1\" class=\"dataframe\">\n",
       "  <thead>\n",
       "    <tr style=\"text-align: right;\">\n",
       "      <th></th>\n",
       "      <th>sum_eu_sales</th>\n",
       "      <th>persentage</th>\n",
       "    </tr>\n",
       "    <tr>\n",
       "      <th>platform</th>\n",
       "      <th></th>\n",
       "      <th></th>\n",
       "    </tr>\n",
       "  </thead>\n",
       "  <tbody>\n",
       "    <tr>\n",
       "      <th>PS4</th>\n",
       "      <td>141.09</td>\n",
       "      <td>0.36</td>\n",
       "    </tr>\n",
       "    <tr>\n",
       "      <th>PS3</th>\n",
       "      <td>67.81</td>\n",
       "      <td>0.17</td>\n",
       "    </tr>\n",
       "    <tr>\n",
       "      <th>XOne</th>\n",
       "      <td>51.59</td>\n",
       "      <td>0.13</td>\n",
       "    </tr>\n",
       "    <tr>\n",
       "      <th>X360</th>\n",
       "      <td>42.52</td>\n",
       "      <td>0.11</td>\n",
       "    </tr>\n",
       "    <tr>\n",
       "      <th>3DS</th>\n",
       "      <td>30.96</td>\n",
       "      <td>0.08</td>\n",
       "    </tr>\n",
       "  </tbody>\n",
       "</table>\n",
       "</div>"
      ],
      "text/plain": [
       "          sum_eu_sales  persentage\n",
       "platform                          \n",
       "PS4             141.09        0.36\n",
       "PS3              67.81        0.17\n",
       "XOne             51.59        0.13\n",
       "X360             42.52        0.11\n",
       "3DS              30.96        0.08"
      ]
     },
     "execution_count": 46,
     "metadata": {},
     "output_type": "execute_result"
    }
   ],
   "source": [
    "data_eu=data_new.groupby('platform').agg({'eu_sales':'sum'})\n",
    "data_eu.columns=['sum_eu_sales']\n",
    "sum2=data_new['eu_sales'].sum()\n",
    "data_eu['persentage']=round(data_eu['sum_eu_sales']/sum2,2)\n",
    "data_eu.sort_values(by='sum_eu_sales', ascending=False).head()"
   ]
  },
  {
   "cell_type": "code",
   "execution_count": 47,
   "metadata": {
    "scrolled": true
   },
   "outputs": [
    {
     "data": {
      "text/html": [
       "<div>\n",
       "<style scoped>\n",
       "    .dataframe tbody tr th:only-of-type {\n",
       "        vertical-align: middle;\n",
       "    }\n",
       "\n",
       "    .dataframe tbody tr th {\n",
       "        vertical-align: top;\n",
       "    }\n",
       "\n",
       "    .dataframe thead th {\n",
       "        text-align: right;\n",
       "    }\n",
       "</style>\n",
       "<table border=\"1\" class=\"dataframe\">\n",
       "  <thead>\n",
       "    <tr style=\"text-align: right;\">\n",
       "      <th></th>\n",
       "      <th>sum_eu_sales</th>\n",
       "      <th>persentage</th>\n",
       "    </tr>\n",
       "    <tr>\n",
       "      <th>genre</th>\n",
       "      <th></th>\n",
       "      <th></th>\n",
       "    </tr>\n",
       "  </thead>\n",
       "  <tbody>\n",
       "    <tr>\n",
       "      <th>Action</th>\n",
       "      <td>118.13</td>\n",
       "      <td>0.30</td>\n",
       "    </tr>\n",
       "    <tr>\n",
       "      <th>Shooter</th>\n",
       "      <td>87.86</td>\n",
       "      <td>0.22</td>\n",
       "    </tr>\n",
       "    <tr>\n",
       "      <th>Sports</th>\n",
       "      <td>60.52</td>\n",
       "      <td>0.15</td>\n",
       "    </tr>\n",
       "    <tr>\n",
       "      <th>Role-Playing</th>\n",
       "      <td>36.97</td>\n",
       "      <td>0.09</td>\n",
       "    </tr>\n",
       "    <tr>\n",
       "      <th>Racing</th>\n",
       "      <td>20.19</td>\n",
       "      <td>0.05</td>\n",
       "    </tr>\n",
       "  </tbody>\n",
       "</table>\n",
       "</div>"
      ],
      "text/plain": [
       "              sum_eu_sales  persentage\n",
       "genre                                 \n",
       "Action              118.13        0.30\n",
       "Shooter              87.86        0.22\n",
       "Sports               60.52        0.15\n",
       "Role-Playing         36.97        0.09\n",
       "Racing               20.19        0.05"
      ]
     },
     "execution_count": 47,
     "metadata": {},
     "output_type": "execute_result"
    }
   ],
   "source": [
    "data_eu=data_new.groupby('genre').agg({'eu_sales':'sum'})\n",
    "data_eu.columns=['sum_eu_sales']\n",
    "sum2=data_new['eu_sales'].sum()\n",
    "data_eu['persentage']=round(data_eu['sum_eu_sales']/sum2,2)\n",
    "data_eu.sort_values(by='sum_eu_sales', ascending=False).head()"
   ]
  },
  {
   "cell_type": "code",
   "execution_count": 48,
   "metadata": {
    "scrolled": false
   },
   "outputs": [
    {
     "data": {
      "image/png": "[encoded data removed]",
      "text/plain": [
       "<Figure size 432x288 with 1 Axes>"
      ]
     },
     "metadata": {
      "needs_background": "light"
     },
     "output_type": "display_data"
    }
   ],
   "source": [
    "(\n",
    "    data_new\n",
    "    .groupby('rating')['eu_sales']\n",
    "    .agg('sum')\n",
    "    .sort_values( ascending = True).plot(y = 'sum', kind = 'barh')\n",
    ");"
   ]
  },
  {
   "cell_type": "code",
   "execution_count": 49,
   "metadata": {},
   "outputs": [
    {
     "data": {
      "text/html": [
       "<div>\n",
       "<style scoped>\n",
       "    .dataframe tbody tr th:only-of-type {\n",
       "        vertical-align: middle;\n",
       "    }\n",
       "\n",
       "    .dataframe tbody tr th {\n",
       "        vertical-align: top;\n",
       "    }\n",
       "\n",
       "    .dataframe thead th {\n",
       "        text-align: right;\n",
       "    }\n",
       "</style>\n",
       "<table border=\"1\" class=\"dataframe\">\n",
       "  <thead>\n",
       "    <tr style=\"text-align: right;\">\n",
       "      <th></th>\n",
       "      <th>rating</th>\n",
       "      <th>eu_sales</th>\n",
       "    </tr>\n",
       "  </thead>\n",
       "  <tbody>\n",
       "    <tr>\n",
       "      <th>0</th>\n",
       "      <td>M</td>\n",
       "      <td>145.32</td>\n",
       "    </tr>\n",
       "    <tr>\n",
       "      <th>1</th>\n",
       "      <td>E</td>\n",
       "      <td>83.36</td>\n",
       "    </tr>\n",
       "    <tr>\n",
       "      <th>2</th>\n",
       "      <td>unknown</td>\n",
       "      <td>78.91</td>\n",
       "    </tr>\n",
       "    <tr>\n",
       "      <th>3</th>\n",
       "      <td>E10+</td>\n",
       "      <td>42.69</td>\n",
       "    </tr>\n",
       "    <tr>\n",
       "      <th>4</th>\n",
       "      <td>T</td>\n",
       "      <td>41.95</td>\n",
       "    </tr>\n",
       "  </tbody>\n",
       "</table>\n",
       "</div>"
      ],
      "text/plain": [
       "    rating  eu_sales\n",
       "0        M    145.32\n",
       "1        E     83.36\n",
       "2  unknown     78.91\n",
       "3     E10+     42.69\n",
       "4        T     41.95"
      ]
     },
     "execution_count": 49,
     "metadata": {},
     "output_type": "execute_result"
    }
   ],
   "source": [
    "data_new.groupby('rating').agg({'eu_sales': 'sum'}).sort_values(by='eu_sales', ascending=False).reset_index()\n"
   ]
  },
  {
   "cell_type": "markdown",
   "metadata": {},
   "source": [
    "**Вывод:** Если анализировать продажи в Европе, то можно сделать топ-5 платформ по сумме проданных копий и туда войдут PS3,  X360, PS4, 3DS, PC. В сумме на них приходится 82% от общего количесства проданных копий в Европе. Что же касается жанров, то в аналогичный топ-5 входят Action, Shooter, Sports,  Role-Playing, Misc и на них приходится 78%. Очень много игр с оценкой M,а с оценкой Е, Е10+, Т и с отсутствием рейтинга ESRB почти в два раза меньше. А продаж игр с другими оценками почти нет, следовательно, мне кажется, что рейтинг все-таки влияет."
   ]
  },
  {
   "cell_type": "code",
   "execution_count": 50,
   "metadata": {},
   "outputs": [
    {
     "data": {
      "text/html": [
       "<div>\n",
       "<style scoped>\n",
       "    .dataframe tbody tr th:only-of-type {\n",
       "        vertical-align: middle;\n",
       "    }\n",
       "\n",
       "    .dataframe tbody tr th {\n",
       "        vertical-align: top;\n",
       "    }\n",
       "\n",
       "    .dataframe thead th {\n",
       "        text-align: right;\n",
       "    }\n",
       "</style>\n",
       "<table border=\"1\" class=\"dataframe\">\n",
       "  <thead>\n",
       "    <tr style=\"text-align: right;\">\n",
       "      <th></th>\n",
       "      <th>sum_jp_sales</th>\n",
       "      <th>persentage</th>\n",
       "    </tr>\n",
       "    <tr>\n",
       "      <th>platform</th>\n",
       "      <th></th>\n",
       "      <th></th>\n",
       "    </tr>\n",
       "  </thead>\n",
       "  <tbody>\n",
       "    <tr>\n",
       "      <th>3DS</th>\n",
       "      <td>67.81</td>\n",
       "      <td>0.48</td>\n",
       "    </tr>\n",
       "    <tr>\n",
       "      <th>PS3</th>\n",
       "      <td>23.35</td>\n",
       "      <td>0.17</td>\n",
       "    </tr>\n",
       "    <tr>\n",
       "      <th>PSV</th>\n",
       "      <td>18.59</td>\n",
       "      <td>0.13</td>\n",
       "    </tr>\n",
       "    <tr>\n",
       "      <th>PS4</th>\n",
       "      <td>15.96</td>\n",
       "      <td>0.11</td>\n",
       "    </tr>\n",
       "    <tr>\n",
       "      <th>WiiU</th>\n",
       "      <td>10.88</td>\n",
       "      <td>0.08</td>\n",
       "    </tr>\n",
       "  </tbody>\n",
       "</table>\n",
       "</div>"
      ],
      "text/plain": [
       "          sum_jp_sales  persentage\n",
       "platform                          \n",
       "3DS              67.81        0.48\n",
       "PS3              23.35        0.17\n",
       "PSV              18.59        0.13\n",
       "PS4              15.96        0.11\n",
       "WiiU             10.88        0.08"
      ]
     },
     "execution_count": 50,
     "metadata": {},
     "output_type": "execute_result"
    }
   ],
   "source": [
    "data_jp=data_new.groupby('platform').agg({'jp_sales':'sum'})\n",
    "data_jp.columns=['sum_jp_sales']\n",
    "sum3=data_new['jp_sales'].sum()\n",
    "data_jp['persentage']=round(data_jp['sum_jp_sales']/sum3,2)\n",
    "data_jp.sort_values(by='sum_jp_sales', ascending=False).head()"
   ]
  },
  {
   "cell_type": "code",
   "execution_count": 51,
   "metadata": {},
   "outputs": [
    {
     "data": {
      "text/html": [
       "<div>\n",
       "<style scoped>\n",
       "    .dataframe tbody tr th:only-of-type {\n",
       "        vertical-align: middle;\n",
       "    }\n",
       "\n",
       "    .dataframe tbody tr th {\n",
       "        vertical-align: top;\n",
       "    }\n",
       "\n",
       "    .dataframe thead th {\n",
       "        text-align: right;\n",
       "    }\n",
       "</style>\n",
       "<table border=\"1\" class=\"dataframe\">\n",
       "  <thead>\n",
       "    <tr style=\"text-align: right;\">\n",
       "      <th></th>\n",
       "      <th>sum_jp_sales</th>\n",
       "      <th>persentage</th>\n",
       "    </tr>\n",
       "    <tr>\n",
       "      <th>genre</th>\n",
       "      <th></th>\n",
       "      <th></th>\n",
       "    </tr>\n",
       "  </thead>\n",
       "  <tbody>\n",
       "    <tr>\n",
       "      <th>Role-Playing</th>\n",
       "      <td>51.04</td>\n",
       "      <td>0.36</td>\n",
       "    </tr>\n",
       "    <tr>\n",
       "      <th>Action</th>\n",
       "      <td>40.49</td>\n",
       "      <td>0.29</td>\n",
       "    </tr>\n",
       "    <tr>\n",
       "      <th>Misc</th>\n",
       "      <td>9.20</td>\n",
       "      <td>0.07</td>\n",
       "    </tr>\n",
       "    <tr>\n",
       "      <th>Fighting</th>\n",
       "      <td>7.65</td>\n",
       "      <td>0.05</td>\n",
       "    </tr>\n",
       "    <tr>\n",
       "      <th>Shooter</th>\n",
       "      <td>6.61</td>\n",
       "      <td>0.05</td>\n",
       "    </tr>\n",
       "  </tbody>\n",
       "</table>\n",
       "</div>"
      ],
      "text/plain": [
       "              sum_jp_sales  persentage\n",
       "genre                                 \n",
       "Role-Playing         51.04        0.36\n",
       "Action               40.49        0.29\n",
       "Misc                  9.20        0.07\n",
       "Fighting              7.65        0.05\n",
       "Shooter               6.61        0.05"
      ]
     },
     "execution_count": 51,
     "metadata": {},
     "output_type": "execute_result"
    }
   ],
   "source": [
    "data_jp=data_new.groupby('genre').agg({'jp_sales':'sum'})\n",
    "data_jp.columns=['sum_jp_sales']\n",
    "sum3=data_new['jp_sales'].sum()\n",
    "data_jp['persentage']=round(data_jp['sum_jp_sales']/sum3,2)\n",
    "data_jp.sort_values(by='sum_jp_sales', ascending=False).head()"
   ]
  },
  {
   "cell_type": "code",
   "execution_count": 52,
   "metadata": {
    "scrolled": true
   },
   "outputs": [
    {
     "data": {
      "image/png": "[encoded data removed]",
      "text/plain": [
       "<Figure size 432x288 with 1 Axes>"
      ]
     },
     "metadata": {
      "needs_background": "light"
     },
     "output_type": "display_data"
    }
   ],
   "source": [
    "(\n",
    "    data_new\n",
    "    .groupby('rating')['jp_sales']\n",
    "    .agg('sum')\n",
    "    .sort_values( ascending = True).plot(y = 'sum', kind = 'barh')\n",
    ");"
   ]
  },
  {
   "cell_type": "code",
   "execution_count": 53,
   "metadata": {},
   "outputs": [
    {
     "data": {
      "text/html": [
       "<div>\n",
       "<style scoped>\n",
       "    .dataframe tbody tr th:only-of-type {\n",
       "        vertical-align: middle;\n",
       "    }\n",
       "\n",
       "    .dataframe tbody tr th {\n",
       "        vertical-align: top;\n",
       "    }\n",
       "\n",
       "    .dataframe thead th {\n",
       "        text-align: right;\n",
       "    }\n",
       "</style>\n",
       "<table border=\"1\" class=\"dataframe\">\n",
       "  <thead>\n",
       "    <tr style=\"text-align: right;\">\n",
       "      <th></th>\n",
       "      <th>rating</th>\n",
       "      <th>jp_sales</th>\n",
       "    </tr>\n",
       "  </thead>\n",
       "  <tbody>\n",
       "    <tr>\n",
       "      <th>0</th>\n",
       "      <td>unknown</td>\n",
       "      <td>85.05</td>\n",
       "    </tr>\n",
       "    <tr>\n",
       "      <th>1</th>\n",
       "      <td>T</td>\n",
       "      <td>20.59</td>\n",
       "    </tr>\n",
       "    <tr>\n",
       "      <th>2</th>\n",
       "      <td>E</td>\n",
       "      <td>15.14</td>\n",
       "    </tr>\n",
       "    <tr>\n",
       "      <th>3</th>\n",
       "      <td>M</td>\n",
       "      <td>14.11</td>\n",
       "    </tr>\n",
       "    <tr>\n",
       "      <th>4</th>\n",
       "      <td>E10+</td>\n",
       "      <td>5.89</td>\n",
       "    </tr>\n",
       "  </tbody>\n",
       "</table>\n",
       "</div>"
      ],
      "text/plain": [
       "    rating  jp_sales\n",
       "0  unknown     85.05\n",
       "1        T     20.59\n",
       "2        E     15.14\n",
       "3        M     14.11\n",
       "4     E10+      5.89"
      ]
     },
     "execution_count": 53,
     "metadata": {},
     "output_type": "execute_result"
    }
   ],
   "source": [
    "data_new.groupby('rating').agg({'jp_sales': 'sum'}).sort_values(by='jp_sales', ascending=False).reset_index()\n"
   ]
  },
  {
   "cell_type": "markdown",
   "metadata": {},
   "source": [
    "**Вывод:** Если анализировать продажи в Японии, то можно сделать топ-5 платформ по сумме проданных копий и туда войдут 3DS, PS3,  PSP, PSV, WiiU. В сумме на них приходится 86% от общего количесства проданных копий в Европе. Что же касается жанров, то в аналогичный топ-5 входят Role-Playing, Action, Misc, Platform, Fighting и на них приходится 74%. Очень много игр с отсутвующей оценкой, а с оценкой Е, M, Т и с отсутствием рейтинга ESRB почти в три раза меньше. А продаж игр с другими оценками почти нет. Так как, очень много игр с отсуствием оценки, то можно предположить, что данный рейтинг не сильно влияет на продажи в Японии."
   ]
  },
  {
   "cell_type": "markdown",
   "metadata": {},
   "source": [
    "**Общий вывод пункта 4:** Топ-5 платформ достаточно сильно совпадают в Европе и в Северной Америке,а топ-5 почти полностью. А вот Япония сильно отличается от них. Стоит отметить, что в Японии первое место в распределении продаж по жанрам занимает Role-Playing, 32% от всех продаж. Рейтинг ESPB может оказывать влияние на продажи в Северной Америке и Европе, а вот в Японии слшком много пропусков, так что на продажи в этом регионе может не влиять рейтинг.  "
   ]
  },
  {
   "cell_type": "markdown",
   "metadata": {},
   "source": [
    "## Проверка гипотез"
   ]
  },
  {
   "cell_type": "code",
   "execution_count": 54,
   "metadata": {},
   "outputs": [
    {
     "data": {
      "text/plain": [
       "array(['PS3', 'X360', 'PS4', '3DS', 'XOne', 'WiiU', 'Wii', 'PC', 'PSV',\n",
       "       'DS', 'PSP'], dtype=object)"
      ]
     },
     "execution_count": 54,
     "metadata": {},
     "output_type": "execute_result"
    }
   ],
   "source": [
    "data_new['platform'].unique()"
   ]
  },
  {
   "cell_type": "code",
   "execution_count": 55,
   "metadata": {},
   "outputs": [
    {
     "name": "stdout",
     "output_type": "stream",
     "text": [
      "<class 'pandas.core.frame.DataFrame'>\n",
      "Int64Index: 2233 entries, 16 to 16714\n",
      "Data columns (total 12 columns):\n",
      " #   Column           Non-Null Count  Dtype  \n",
      "---  ------           --------------  -----  \n",
      " 0   name             2233 non-null   object \n",
      " 1   platform         2233 non-null   object \n",
      " 2   year_of_release  2233 non-null   int64  \n",
      " 3   genre            2233 non-null   object \n",
      " 4   na_sales         2233 non-null   float64\n",
      " 5   eu_sales         2233 non-null   float64\n",
      " 6   jp_sales         2233 non-null   float64\n",
      " 7   other_sales      2233 non-null   float64\n",
      " 8   critic_score     991 non-null    float64\n",
      " 9   user_score       1192 non-null   float64\n",
      " 10  rating           2233 non-null   object \n",
      " 11  sum_sales        2233 non-null   float64\n",
      "dtypes: float64(7), int64(1), object(4)\n",
      "memory usage: 291.3+ KB\n"
     ]
    }
   ],
   "source": [
    "data_new.info()"
   ]
  },
  {
   "cell_type": "code",
   "execution_count": 56,
   "metadata": {},
   "outputs": [],
   "source": [
    "data_full=data_new.dropna(subset=['user_score'])"
   ]
  },
  {
   "cell_type": "markdown",
   "metadata": {},
   "source": [
    "**Н0:** Средние пользовательские рейтинги платформ Xbox One и PC равны\n",
    "\n",
    "**Н1:** Средние пользовательские рейтинги платформ Xbox One и PC не равны\n",
    "   \n",
    "Пусть уровень значимости 𝛼=0,05"
   ]
  },
  {
   "cell_type": "code",
   "execution_count": 57,
   "metadata": {},
   "outputs": [
    {
     "name": "stdout",
     "output_type": "stream",
     "text": [
      "nan\n",
      "Не получилось отвергнуть нулевую гипотезу\n"
     ]
    }
   ],
   "source": [
    "results = st.ttest_ind(data_full[data_full['platform'] =='XOne']['user_score'],data_full[data_full['platform'] =='PS']['user_score'], equal_var = False)\n",
    "\n",
    "alpha = 0.05\n",
    "\n",
    "print(results.pvalue)\n",
    "if results.pvalue<alpha:\n",
    "    print(\"Отвергаем нулевую гипотезу\")\n",
    "else:\n",
    "    print(\"Не получилось отвергнуть нулевую гипотезу\")\n"
   ]
  },
  {
   "cell_type": "markdown",
   "metadata": {},
   "source": [
    "**Пояснение:** использовала функцию ttest_ind, так как надо было проверить гипотезу на равенство средних двух независимых выборок, равенство дисперсий не предполагается. \n",
    "\n",
    "**Вывод:** Средние пользовательские рейтинги платформ Xbox One и PC не равны"
   ]
  },
  {
   "cell_type": "markdown",
   "metadata": {},
   "source": [
    "**Н0:** Средние пользовательские рейтинги жанров Action и Sports равны\n",
    "\n",
    "**Н1:** Средние пользовательские рейтинги жанров Action и Sports не равны\n",
    "   \n",
    "Пусть уровень значимости 𝛼=0,05"
   ]
  },
  {
   "cell_type": "code",
   "execution_count": 58,
   "metadata": {},
   "outputs": [
    {
     "name": "stdout",
     "output_type": "stream",
     "text": [
      "1.4460039700704315e-20\n",
      "Отвергаем нулевую гипотезу\n"
     ]
    }
   ],
   "source": [
    "results = st.ttest_ind(data_full[data_full['genre'] =='Action']['user_score'],data_full[data_full['genre'] =='Sports']['user_score'], equal_var = False)\n",
    "\n",
    "alpha = 0.05\n",
    "\n",
    "print(results.pvalue)\n",
    "if results.pvalue<alpha:\n",
    "    print(\"Отвергаем нулевую гипотезу\")\n",
    "else:\n",
    "    print(\"Не получилось отвергнуть нулевую гипотезу\")"
   ]
  },
  {
   "cell_type": "markdown",
   "metadata": {},
   "source": [
    "**Пояснение:** использовала функцию ttest_ind, так как надо было проверить гипотезу на равенство средних двух независимых выборок, равенство дисперсий не предполагается. \n",
    "\n",
    "**Вывод:** Средние пользовательские рейтинги жанров Action и Sports равны"
   ]
  },
  {
   "cell_type": "markdown",
   "metadata": {},
   "source": [
    "## Общий вывод"
   ]
  },
  {
   "cell_type": "markdown",
   "metadata": {},
   "source": [
    "В заключение, хотелось бы сказать, что потенциально существующими и достаточно прибыльными в следующем году могут быть платформы 3DS, XOne, PS4. Самый популярными жанрамы видео игр являются Action и Sports. Эти жанры лидируют не только по общим продажам, но и по продажам в Северной Америке и Европе, а вот в Японии перед этими жанрыми оказывается Role-Playing. Также стоит отметить, что у этих двух жанров равны и пользоватьские рейтинги. Говоря про рейтинг пользователей и критиков, был сделан вывод, что связь между ними и суммарными продажами достаточно слабая. "
   ]
  }
 ],
 "metadata": {
  "ExecuteTimeLog": [
   {
    "duration": 352,
    "start_time": "2022-10-11T07:04:37.728Z"
   },
   {
    "duration": 99,
    "start_time": "2022-10-11T07:04:53.898Z"
   },
   {
    "duration": 91,
    "start_time": "2022-10-11T07:05:08.827Z"
   },
   {
    "duration": 23,
    "start_time": "2022-10-11T07:05:24.855Z"
   },
   {
    "duration": 14,
    "start_time": "2022-10-11T07:05:52.405Z"
   },
   {
    "duration": 1003,
    "start_time": "2022-10-11T07:08:59.542Z"
   },
   {
    "duration": 15,
    "start_time": "2022-10-11T07:12:45.453Z"
   },
   {
    "duration": 13,
    "start_time": "2022-10-11T07:13:03.940Z"
   },
   {
    "duration": 15,
    "start_time": "2022-10-11T07:13:41.430Z"
   },
   {
    "duration": 13,
    "start_time": "2022-10-11T07:13:50.269Z"
   },
   {
    "duration": 12,
    "start_time": "2022-10-11T07:14:05.372Z"
   },
   {
    "duration": 11,
    "start_time": "2022-10-11T07:14:17.259Z"
   },
   {
    "duration": 33,
    "start_time": "2022-10-11T07:15:13.128Z"
   },
   {
    "duration": 13,
    "start_time": "2022-10-11T07:16:12.960Z"
   },
   {
    "duration": 66,
    "start_time": "2022-10-11T07:19:11.710Z"
   },
   {
    "duration": 49,
    "start_time": "2022-10-11T07:19:21.499Z"
   },
   {
    "duration": 63,
    "start_time": "2022-10-11T07:19:24.085Z"
   },
   {
    "duration": 118,
    "start_time": "2022-10-11T07:19:25.953Z"
   },
   {
    "duration": 78,
    "start_time": "2022-10-11T07:19:26.522Z"
   },
   {
    "duration": 72,
    "start_time": "2022-10-11T07:19:26.913Z"
   },
   {
    "duration": 51,
    "start_time": "2022-10-11T07:19:27.221Z"
   },
   {
    "duration": 59,
    "start_time": "2022-10-11T07:19:27.439Z"
   },
   {
    "duration": 52,
    "start_time": "2022-10-11T07:19:27.623Z"
   },
   {
    "duration": 77,
    "start_time": "2022-10-11T07:19:27.769Z"
   },
   {
    "duration": 18,
    "start_time": "2022-10-11T07:20:20.166Z"
   },
   {
    "duration": 11,
    "start_time": "2022-10-11T07:20:51.059Z"
   },
   {
    "duration": 448,
    "start_time": "2022-10-11T14:35:39.455Z"
   },
   {
    "duration": 185,
    "start_time": "2022-10-11T14:35:41.445Z"
   },
   {
    "duration": 54,
    "start_time": "2022-10-11T14:35:42.997Z"
   },
   {
    "duration": 26,
    "start_time": "2022-10-11T14:35:44.270Z"
   },
   {
    "duration": 17,
    "start_time": "2022-10-11T14:35:46.411Z"
   },
   {
    "duration": 14,
    "start_time": "2022-10-11T14:35:48.045Z"
   },
   {
    "duration": 9,
    "start_time": "2022-10-11T14:36:03.750Z"
   },
   {
    "duration": 66,
    "start_time": "2022-10-11T14:49:44.871Z"
   },
   {
    "duration": 12,
    "start_time": "2022-10-11T14:50:01.673Z"
   },
   {
    "duration": 23,
    "start_time": "2022-10-11T14:50:09.281Z"
   },
   {
    "duration": 5,
    "start_time": "2022-10-11T14:50:43.879Z"
   },
   {
    "duration": 4,
    "start_time": "2022-10-11T14:51:03.173Z"
   },
   {
    "duration": 3,
    "start_time": "2022-10-11T14:51:14.062Z"
   },
   {
    "duration": 2,
    "start_time": "2022-10-11T14:51:21.061Z"
   },
   {
    "duration": 4,
    "start_time": "2022-10-11T14:51:32.533Z"
   },
   {
    "duration": 5,
    "start_time": "2022-10-11T14:51:42.781Z"
   },
   {
    "duration": 4,
    "start_time": "2022-10-11T14:52:04.004Z"
   },
   {
    "duration": 56,
    "start_time": "2022-10-11T14:52:11.019Z"
   },
   {
    "duration": 4,
    "start_time": "2022-10-11T14:52:14.395Z"
   },
   {
    "duration": 11,
    "start_time": "2022-10-11T14:52:18.978Z"
   },
   {
    "duration": 13,
    "start_time": "2022-10-11T14:52:20.601Z"
   },
   {
    "duration": 3,
    "start_time": "2022-10-11T14:52:29.569Z"
   },
   {
    "duration": 52,
    "start_time": "2022-10-11T14:52:30.913Z"
   },
   {
    "duration": 21,
    "start_time": "2022-10-11T14:52:34.170Z"
   },
   {
    "duration": 15,
    "start_time": "2022-10-11T14:52:36.910Z"
   },
   {
    "duration": 4,
    "start_time": "2022-10-11T14:52:39.394Z"
   },
   {
    "duration": 15,
    "start_time": "2022-10-11T14:52:42.811Z"
   },
   {
    "duration": 10,
    "start_time": "2022-10-11T14:52:43.897Z"
   },
   {
    "duration": 16,
    "start_time": "2022-10-11T14:52:49.257Z"
   },
   {
    "duration": 4,
    "start_time": "2022-10-11T14:53:13.139Z"
   },
   {
    "duration": 4,
    "start_time": "2022-10-11T14:53:24.632Z"
   },
   {
    "duration": 3,
    "start_time": "2022-10-11T14:54:21.233Z"
   },
   {
    "duration": 6,
    "start_time": "2022-10-11T14:54:41.792Z"
   },
   {
    "duration": 16,
    "start_time": "2022-10-11T14:55:32.274Z"
   },
   {
    "duration": 4,
    "start_time": "2022-10-11T14:57:25.232Z"
   },
   {
    "duration": 12,
    "start_time": "2022-10-11T14:58:12.612Z"
   },
   {
    "duration": 32,
    "start_time": "2022-10-11T14:59:11.636Z"
   },
   {
    "duration": 23,
    "start_time": "2022-10-11T14:59:17.011Z"
   },
   {
    "duration": 10,
    "start_time": "2022-10-11T15:00:26.670Z"
   },
   {
    "duration": 10,
    "start_time": "2022-10-11T15:04:58.919Z"
   },
   {
    "duration": 11,
    "start_time": "2022-10-11T15:05:05.358Z"
   },
   {
    "duration": 11,
    "start_time": "2022-10-11T15:05:10.190Z"
   },
   {
    "duration": 15,
    "start_time": "2022-10-11T15:05:21.934Z"
   },
   {
    "duration": 8,
    "start_time": "2022-10-11T15:05:27.734Z"
   },
   {
    "duration": 5,
    "start_time": "2022-10-11T15:06:32.906Z"
   },
   {
    "duration": 13,
    "start_time": "2022-10-11T15:06:47.297Z"
   },
   {
    "duration": 7,
    "start_time": "2022-10-11T15:06:54.424Z"
   },
   {
    "duration": 8,
    "start_time": "2022-10-11T15:07:02.592Z"
   },
   {
    "duration": 13,
    "start_time": "2022-10-11T15:07:07.832Z"
   },
   {
    "duration": 13,
    "start_time": "2022-10-11T15:07:14.976Z"
   },
   {
    "duration": 14,
    "start_time": "2022-10-11T15:07:25.015Z"
   },
   {
    "duration": 5,
    "start_time": "2022-10-11T15:07:51.710Z"
   },
   {
    "duration": 7,
    "start_time": "2022-10-11T15:08:00.221Z"
   },
   {
    "duration": 7,
    "start_time": "2022-10-11T15:08:21.315Z"
   },
   {
    "duration": 7,
    "start_time": "2022-10-11T15:09:38.881Z"
   },
   {
    "duration": 16,
    "start_time": "2022-10-11T15:09:43.034Z"
   },
   {
    "duration": 6,
    "start_time": "2022-10-11T15:11:41.545Z"
   },
   {
    "duration": 18,
    "start_time": "2022-10-11T15:11:58.952Z"
   },
   {
    "duration": 9,
    "start_time": "2022-10-11T15:16:52.353Z"
   },
   {
    "duration": 10,
    "start_time": "2022-10-11T15:22:14.625Z"
   },
   {
    "duration": 9,
    "start_time": "2022-10-11T15:22:57.723Z"
   },
   {
    "duration": 16,
    "start_time": "2022-10-11T15:27:56.341Z"
   },
   {
    "duration": 7,
    "start_time": "2022-10-11T15:32:13.098Z"
   },
   {
    "duration": 8,
    "start_time": "2022-10-11T15:32:19.284Z"
   },
   {
    "duration": 10,
    "start_time": "2022-10-11T15:32:20.365Z"
   },
   {
    "duration": 13,
    "start_time": "2022-10-11T15:32:58.853Z"
   },
   {
    "duration": 10,
    "start_time": "2022-10-11T15:33:17.645Z"
   },
   {
    "duration": 7,
    "start_time": "2022-10-11T15:33:57.677Z"
   },
   {
    "duration": 8,
    "start_time": "2022-10-11T15:34:25.896Z"
   },
   {
    "duration": 6,
    "start_time": "2022-10-11T15:34:53.479Z"
   },
   {
    "duration": 12,
    "start_time": "2022-10-11T15:34:57.631Z"
   },
   {
    "duration": 10,
    "start_time": "2022-10-11T15:35:07.622Z"
   },
   {
    "duration": 14,
    "start_time": "2022-10-11T15:35:15.142Z"
   },
   {
    "duration": 14,
    "start_time": "2022-10-11T15:35:24.510Z"
   },
   {
    "duration": 15,
    "start_time": "2022-10-11T15:35:34.470Z"
   },
   {
    "duration": 8,
    "start_time": "2022-10-11T16:05:50.475Z"
   },
   {
    "duration": 12,
    "start_time": "2022-10-11T16:05:54.800Z"
   },
   {
    "duration": 9,
    "start_time": "2022-10-11T16:06:19.677Z"
   },
   {
    "duration": 9,
    "start_time": "2022-10-11T16:09:10.179Z"
   },
   {
    "duration": 1016,
    "start_time": "2022-10-11T16:09:32.457Z"
   },
   {
    "duration": 52,
    "start_time": "2022-10-11T16:09:37.417Z"
   },
   {
    "duration": 7,
    "start_time": "2022-10-11T16:10:18.179Z"
   },
   {
    "duration": 13,
    "start_time": "2022-10-11T16:11:04.754Z"
   },
   {
    "duration": 13,
    "start_time": "2022-10-11T16:11:15.489Z"
   },
   {
    "duration": 14,
    "start_time": "2022-10-11T16:12:07.630Z"
   },
   {
    "duration": 10,
    "start_time": "2022-10-11T16:12:24.659Z"
   },
   {
    "duration": 9,
    "start_time": "2022-10-11T16:12:37.325Z"
   },
   {
    "duration": 12,
    "start_time": "2022-10-11T16:12:42.265Z"
   },
   {
    "duration": 71,
    "start_time": "2022-10-11T16:13:04.766Z"
   },
   {
    "duration": 10,
    "start_time": "2022-10-11T16:13:07.974Z"
   },
   {
    "duration": 12,
    "start_time": "2022-10-11T16:13:17.736Z"
   },
   {
    "duration": 93,
    "start_time": "2022-10-11T16:13:49.261Z"
   },
   {
    "duration": 17,
    "start_time": "2022-10-11T16:13:56.131Z"
   },
   {
    "duration": 17,
    "start_time": "2022-10-11T16:14:04.740Z"
   },
   {
    "duration": 22,
    "start_time": "2022-10-11T16:14:06.107Z"
   },
   {
    "duration": 38,
    "start_time": "2022-10-11T16:14:46.362Z"
   },
   {
    "duration": 1690,
    "start_time": "2022-10-11T16:19:58.422Z"
   },
   {
    "duration": 22,
    "start_time": "2022-10-11T16:21:12.814Z"
   },
   {
    "duration": 15,
    "start_time": "2022-10-11T16:21:19.183Z"
   },
   {
    "duration": 17,
    "start_time": "2022-10-11T16:21:20.424Z"
   },
   {
    "duration": 1624,
    "start_time": "2022-10-11T16:22:32.291Z"
   },
   {
    "duration": 6,
    "start_time": "2022-10-11T16:23:01.803Z"
   },
   {
    "duration": 4,
    "start_time": "2022-10-11T16:23:08.539Z"
   },
   {
    "duration": 91,
    "start_time": "2022-10-11T16:24:14.532Z"
   },
   {
    "duration": 11,
    "start_time": "2022-10-11T16:24:18.644Z"
   },
   {
    "duration": 14,
    "start_time": "2022-10-11T16:24:32.227Z"
   },
   {
    "duration": 9,
    "start_time": "2022-10-11T16:26:00.592Z"
   },
   {
    "duration": 9,
    "start_time": "2022-10-11T16:26:06.127Z"
   },
   {
    "duration": 20,
    "start_time": "2022-10-11T16:26:12.895Z"
   },
   {
    "duration": 14,
    "start_time": "2022-10-11T16:27:50.822Z"
   },
   {
    "duration": 5,
    "start_time": "2022-10-11T16:28:23.173Z"
   },
   {
    "duration": 16,
    "start_time": "2022-10-11T16:28:26.501Z"
   },
   {
    "duration": 14,
    "start_time": "2022-10-11T16:28:42.096Z"
   },
   {
    "duration": 13,
    "start_time": "2022-10-11T16:28:51.624Z"
   },
   {
    "duration": 12,
    "start_time": "2022-10-11T16:28:54.743Z"
   },
   {
    "duration": 17,
    "start_time": "2022-10-11T16:28:56.503Z"
   },
   {
    "duration": 5,
    "start_time": "2022-10-11T16:29:13.816Z"
   },
   {
    "duration": 20,
    "start_time": "2022-10-11T16:29:17.926Z"
   },
   {
    "duration": 803,
    "start_time": "2022-10-11T16:29:28.789Z"
   },
   {
    "duration": 19,
    "start_time": "2022-10-11T16:31:05.888Z"
   },
   {
    "duration": 788,
    "start_time": "2022-10-11T16:31:40.921Z"
   },
   {
    "duration": 205,
    "start_time": "2022-10-11T16:32:06.556Z"
   },
   {
    "duration": 306,
    "start_time": "2022-10-11T16:32:49.754Z"
   },
   {
    "duration": 776,
    "start_time": "2022-10-11T16:32:54.152Z"
   },
   {
    "duration": 9,
    "start_time": "2022-10-11T16:33:55.741Z"
   },
   {
    "duration": 12,
    "start_time": "2022-10-11T16:34:00.876Z"
   },
   {
    "duration": 15,
    "start_time": "2022-10-11T16:34:20.818Z"
   },
   {
    "duration": 13,
    "start_time": "2022-10-11T16:34:39.365Z"
   },
   {
    "duration": 794,
    "start_time": "2022-10-11T16:34:57.395Z"
   },
   {
    "duration": 769,
    "start_time": "2022-10-11T16:38:46.249Z"
   },
   {
    "duration": 830,
    "start_time": "2022-10-11T16:38:54.329Z"
   },
   {
    "duration": 802,
    "start_time": "2022-10-11T16:39:15.233Z"
   },
   {
    "duration": 758,
    "start_time": "2022-10-11T16:40:15.467Z"
   },
   {
    "duration": 3,
    "start_time": "2022-10-11T16:43:37.657Z"
   },
   {
    "duration": 9,
    "start_time": "2022-10-11T16:43:46.592Z"
   },
   {
    "duration": 127,
    "start_time": "2022-10-11T16:43:53.360Z"
   },
   {
    "duration": 116,
    "start_time": "2022-10-11T16:44:12.683Z"
   },
   {
    "duration": 162,
    "start_time": "2022-10-11T16:45:52.643Z"
   },
   {
    "duration": 258,
    "start_time": "2022-10-11T16:46:51.435Z"
   },
   {
    "duration": 7460,
    "start_time": "2022-10-11T16:47:52.930Z"
   },
   {
    "duration": 1438,
    "start_time": "2022-10-11T16:48:16.408Z"
   },
   {
    "duration": 1368,
    "start_time": "2022-10-11T16:48:27.376Z"
   },
   {
    "duration": 280,
    "start_time": "2022-10-11T16:48:33.760Z"
   },
   {
    "duration": 3,
    "start_time": "2022-10-11T16:49:51.649Z"
   },
   {
    "duration": 11,
    "start_time": "2022-10-11T16:50:27.367Z"
   },
   {
    "duration": 2,
    "start_time": "2022-10-11T16:50:58.430Z"
   },
   {
    "duration": 124,
    "start_time": "2022-10-11T16:51:00.526Z"
   },
   {
    "duration": 12,
    "start_time": "2022-10-11T16:55:47.337Z"
   },
   {
    "duration": 6,
    "start_time": "2022-10-11T16:55:48.664Z"
   },
   {
    "duration": 17,
    "start_time": "2022-10-11T16:55:50.115Z"
   },
   {
    "duration": 18,
    "start_time": "2022-10-11T16:55:53.553Z"
   },
   {
    "duration": 15,
    "start_time": "2022-10-11T16:56:05.465Z"
   },
   {
    "duration": 6,
    "start_time": "2022-10-11T16:56:09.377Z"
   },
   {
    "duration": 19,
    "start_time": "2022-10-11T16:56:12.176Z"
   },
   {
    "duration": 1266,
    "start_time": "2022-10-11T16:56:17.848Z"
   },
   {
    "duration": 897,
    "start_time": "2022-10-11T16:57:00.233Z"
   },
   {
    "duration": 15,
    "start_time": "2022-10-11T16:58:49.562Z"
   },
   {
    "duration": 891,
    "start_time": "2022-10-11T16:59:19.043Z"
   },
   {
    "duration": 960,
    "start_time": "2022-10-11T16:59:43.027Z"
   },
   {
    "duration": 17,
    "start_time": "2022-10-11T17:03:08.611Z"
   },
   {
    "duration": 7,
    "start_time": "2022-10-11T17:09:18.891Z"
   },
   {
    "duration": 18,
    "start_time": "2022-10-11T17:09:33.490Z"
   },
   {
    "duration": 11,
    "start_time": "2022-10-11T17:11:12.671Z"
   },
   {
    "duration": 14,
    "start_time": "2022-10-11T17:12:52.389Z"
   },
   {
    "duration": 13,
    "start_time": "2022-10-11T17:13:12.925Z"
   },
   {
    "duration": 22,
    "start_time": "2022-10-11T17:14:12.113Z"
   },
   {
    "duration": 31,
    "start_time": "2022-10-11T17:14:24.337Z"
   },
   {
    "duration": 33,
    "start_time": "2022-10-11T17:14:35.960Z"
   },
   {
    "duration": 56,
    "start_time": "2022-10-11T17:15:58.651Z"
   },
   {
    "duration": 46,
    "start_time": "2022-10-11T17:16:09.353Z"
   },
   {
    "duration": 21,
    "start_time": "2022-10-11T17:16:27.418Z"
   },
   {
    "duration": 54,
    "start_time": "2022-10-11T17:16:51.284Z"
   },
   {
    "duration": 2293,
    "start_time": "2022-10-11T17:17:20.261Z"
   },
   {
    "duration": 2145,
    "start_time": "2022-10-11T17:17:28.616Z"
   },
   {
    "duration": 30,
    "start_time": "2022-10-11T17:18:04.560Z"
   },
   {
    "duration": 28,
    "start_time": "2022-10-11T17:18:15.718Z"
   },
   {
    "duration": 2365,
    "start_time": "2022-10-11T17:19:34.481Z"
   },
   {
    "duration": 34,
    "start_time": "2022-10-11T17:21:21.212Z"
   },
   {
    "duration": 17,
    "start_time": "2022-10-11T17:22:24.996Z"
   },
   {
    "duration": 2359,
    "start_time": "2022-10-11T17:26:23.849Z"
   },
   {
    "duration": 72,
    "start_time": "2022-10-11T17:26:29.026Z"
   },
   {
    "duration": 18,
    "start_time": "2022-10-11T17:28:24.307Z"
   },
   {
    "duration": 81,
    "start_time": "2022-10-11T17:31:12.049Z"
   },
   {
    "duration": 16,
    "start_time": "2022-10-11T17:31:18.878Z"
   },
   {
    "duration": 62,
    "start_time": "2022-10-11T17:33:19.776Z"
   },
   {
    "duration": 19,
    "start_time": "2022-10-11T17:34:35.862Z"
   },
   {
    "duration": 1322,
    "start_time": "2022-10-11T17:35:32.443Z"
   },
   {
    "duration": 6,
    "start_time": "2022-10-11T17:39:36.182Z"
   },
   {
    "duration": 8,
    "start_time": "2022-10-11T17:39:52.513Z"
   },
   {
    "duration": 8,
    "start_time": "2022-10-11T17:46:02.001Z"
   },
   {
    "duration": 21,
    "start_time": "2022-10-11T17:46:12.288Z"
   },
   {
    "duration": 6,
    "start_time": "2022-10-11T17:50:44.600Z"
   },
   {
    "duration": 237,
    "start_time": "2022-10-11T17:51:39.330Z"
   },
   {
    "duration": 340,
    "start_time": "2022-10-11T17:52:45.819Z"
   },
   {
    "duration": 463,
    "start_time": "2022-10-11T17:52:54.243Z"
   },
   {
    "duration": 380,
    "start_time": "2022-10-11T17:54:10.130Z"
   },
   {
    "duration": 234,
    "start_time": "2022-10-11T17:55:19.449Z"
   },
   {
    "duration": 459,
    "start_time": "2022-10-11T17:56:08.702Z"
   },
   {
    "duration": 711,
    "start_time": "2022-10-11T17:59:17.194Z"
   },
   {
    "duration": 916,
    "start_time": "2022-10-11T17:59:59.812Z"
   },
   {
    "duration": 11,
    "start_time": "2022-10-11T18:03:43.043Z"
   },
   {
    "duration": 233,
    "start_time": "2022-10-11T18:05:12.894Z"
   },
   {
    "duration": 214,
    "start_time": "2022-10-11T18:09:11.893Z"
   },
   {
    "duration": 195,
    "start_time": "2022-10-11T18:10:02.683Z"
   },
   {
    "duration": 97,
    "start_time": "2022-10-11T18:11:02.620Z"
   },
   {
    "duration": 201,
    "start_time": "2022-10-11T18:11:07.411Z"
   },
   {
    "duration": 239,
    "start_time": "2022-10-11T18:11:12.868Z"
   },
   {
    "duration": 227,
    "start_time": "2022-10-11T18:11:36.668Z"
   },
   {
    "duration": 200,
    "start_time": "2022-10-11T18:11:53.101Z"
   },
   {
    "duration": 365,
    "start_time": "2022-10-11T18:12:06.906Z"
   },
   {
    "duration": 364,
    "start_time": "2022-10-11T18:17:25.401Z"
   },
   {
    "duration": 133,
    "start_time": "2022-10-11T18:18:28.326Z"
   },
   {
    "duration": 36,
    "start_time": "2022-10-11T18:20:36.925Z"
   },
   {
    "duration": 2119,
    "start_time": "2022-10-11T18:20:55.207Z"
   },
   {
    "duration": 2132,
    "start_time": "2022-10-11T18:21:18.633Z"
   },
   {
    "duration": 2085,
    "start_time": "2022-10-11T18:21:28.939Z"
   },
   {
    "duration": 2000,
    "start_time": "2022-10-11T18:21:52.777Z"
   },
   {
    "duration": 2230,
    "start_time": "2022-10-11T18:22:01.440Z"
   },
   {
    "duration": 2271,
    "start_time": "2022-10-11T18:22:09.647Z"
   },
   {
    "duration": 117,
    "start_time": "2022-10-11T18:22:37.823Z"
   },
   {
    "duration": 52,
    "start_time": "2022-10-12T16:14:03.955Z"
   },
   {
    "duration": 1365,
    "start_time": "2022-10-12T16:14:23.575Z"
   },
   {
    "duration": 478,
    "start_time": "2022-10-12T16:14:24.943Z"
   },
   {
    "duration": 25,
    "start_time": "2022-10-12T16:14:25.422Z"
   },
   {
    "duration": 19,
    "start_time": "2022-10-12T16:14:25.448Z"
   },
   {
    "duration": 7,
    "start_time": "2022-10-12T16:14:25.470Z"
   },
   {
    "duration": 27,
    "start_time": "2022-10-12T16:14:25.479Z"
   },
   {
    "duration": 9,
    "start_time": "2022-10-12T16:14:25.508Z"
   },
   {
    "duration": 29,
    "start_time": "2022-10-12T16:14:25.518Z"
   },
   {
    "duration": 6,
    "start_time": "2022-10-12T16:14:25.548Z"
   },
   {
    "duration": 22,
    "start_time": "2022-10-12T16:14:25.555Z"
   },
   {
    "duration": 28,
    "start_time": "2022-10-12T16:14:25.579Z"
   },
   {
    "duration": 17,
    "start_time": "2022-10-12T16:14:25.610Z"
   },
   {
    "duration": 40,
    "start_time": "2022-10-12T16:14:25.629Z"
   },
   {
    "duration": 7,
    "start_time": "2022-10-12T16:14:25.672Z"
   },
   {
    "duration": 31,
    "start_time": "2022-10-12T16:14:25.680Z"
   },
   {
    "duration": 15,
    "start_time": "2022-10-12T16:14:25.712Z"
   },
   {
    "duration": 33,
    "start_time": "2022-10-12T16:14:25.729Z"
   },
   {
    "duration": 18,
    "start_time": "2022-10-12T16:14:25.764Z"
   },
   {
    "duration": 1059,
    "start_time": "2022-10-12T16:14:25.783Z"
   },
   {
    "duration": 840,
    "start_time": "2022-10-12T16:14:26.843Z"
   },
   {
    "duration": 63,
    "start_time": "2022-10-12T16:14:27.688Z"
   },
   {
    "duration": 37,
    "start_time": "2022-10-12T16:14:27.753Z"
   },
   {
    "duration": 1375,
    "start_time": "2022-10-12T16:14:27.792Z"
   },
   {
    "duration": 7,
    "start_time": "2022-10-12T16:14:29.169Z"
   },
   {
    "duration": 30,
    "start_time": "2022-10-12T16:14:29.178Z"
   },
   {
    "duration": 8,
    "start_time": "2022-10-12T16:14:29.209Z"
   },
   {
    "duration": 795,
    "start_time": "2022-10-12T16:14:29.218Z"
   },
   {
    "duration": 208,
    "start_time": "2022-10-12T16:14:30.015Z"
   },
   {
    "duration": 365,
    "start_time": "2022-10-12T16:14:30.225Z"
   },
   {
    "duration": 4,
    "start_time": "2022-10-12T16:16:07.907Z"
   },
   {
    "duration": 1554,
    "start_time": "2022-10-12T16:17:24.388Z"
   },
   {
    "duration": 9,
    "start_time": "2022-10-12T16:17:31.799Z"
   },
   {
    "duration": 111,
    "start_time": "2022-10-12T16:17:57.836Z"
   },
   {
    "duration": 17,
    "start_time": "2022-10-12T16:18:15.353Z"
   },
   {
    "duration": 206,
    "start_time": "2022-10-12T16:19:00.501Z"
   },
   {
    "duration": 118,
    "start_time": "2022-10-12T16:19:07.307Z"
   },
   {
    "duration": 3,
    "start_time": "2022-10-12T16:24:23.706Z"
   },
   {
    "duration": 609,
    "start_time": "2022-10-12T16:25:05.192Z"
   },
   {
    "duration": 857,
    "start_time": "2022-10-12T16:25:15.780Z"
   },
   {
    "duration": 994,
    "start_time": "2022-10-12T16:30:05.523Z"
   },
   {
    "duration": 903,
    "start_time": "2022-10-12T16:30:34.540Z"
   },
   {
    "duration": 894,
    "start_time": "2022-10-12T16:30:43.123Z"
   },
   {
    "duration": 1008,
    "start_time": "2022-10-12T16:31:11.425Z"
   },
   {
    "duration": 1061,
    "start_time": "2022-10-12T16:31:30.568Z"
   },
   {
    "duration": 744,
    "start_time": "2022-10-12T16:39:13.540Z"
   },
   {
    "duration": 1043,
    "start_time": "2022-10-12T16:39:23.703Z"
   },
   {
    "duration": 967,
    "start_time": "2022-10-12T16:39:40.417Z"
   },
   {
    "duration": 858,
    "start_time": "2022-10-12T16:39:45.614Z"
   },
   {
    "duration": 1170,
    "start_time": "2022-10-12T16:40:00.453Z"
   },
   {
    "duration": 1257,
    "start_time": "2022-10-12T16:40:09.244Z"
   },
   {
    "duration": 1769,
    "start_time": "2022-10-12T16:40:18.098Z"
   },
   {
    "duration": 1089,
    "start_time": "2022-10-12T16:47:21.204Z"
   },
   {
    "duration": 1428,
    "start_time": "2022-10-12T16:47:35.447Z"
   },
   {
    "duration": 5,
    "start_time": "2022-10-12T16:57:08.218Z"
   },
   {
    "duration": 10,
    "start_time": "2022-10-12T16:58:33.190Z"
   },
   {
    "duration": 3,
    "start_time": "2022-10-12T16:58:54.784Z"
   },
   {
    "duration": 1371,
    "start_time": "2022-10-12T16:58:59.634Z"
   },
   {
    "duration": 11,
    "start_time": "2022-10-12T16:59:09.682Z"
   },
   {
    "duration": 10,
    "start_time": "2022-10-12T16:59:21.590Z"
   },
   {
    "duration": 13,
    "start_time": "2022-10-12T17:00:50.001Z"
   },
   {
    "duration": 13,
    "start_time": "2022-10-12T17:00:59.383Z"
   },
   {
    "duration": 13,
    "start_time": "2022-10-12T17:03:28.436Z"
   },
   {
    "duration": 15,
    "start_time": "2022-10-12T17:04:30.406Z"
   },
   {
    "duration": 6,
    "start_time": "2022-10-12T17:05:09.426Z"
   },
   {
    "duration": 10,
    "start_time": "2022-10-12T17:05:23.035Z"
   },
   {
    "duration": 8,
    "start_time": "2022-10-12T17:05:33.882Z"
   },
   {
    "duration": 8,
    "start_time": "2022-10-12T17:06:04.500Z"
   },
   {
    "duration": 8,
    "start_time": "2022-10-12T17:06:10.489Z"
   },
   {
    "duration": 12,
    "start_time": "2022-10-12T17:06:16.064Z"
   },
   {
    "duration": 9,
    "start_time": "2022-10-12T17:10:23.629Z"
   },
   {
    "duration": 74,
    "start_time": "2022-10-12T18:59:28.462Z"
   },
   {
    "duration": 11,
    "start_time": "2022-10-12T18:59:34.461Z"
   },
   {
    "duration": 91,
    "start_time": "2022-10-12T19:00:50.470Z"
   },
   {
    "duration": 15,
    "start_time": "2022-10-12T19:01:00.348Z"
   },
   {
    "duration": 15,
    "start_time": "2022-10-12T19:01:19.108Z"
   },
   {
    "duration": 15,
    "start_time": "2022-10-12T19:01:24.234Z"
   },
   {
    "duration": 21,
    "start_time": "2022-10-12T19:02:04.385Z"
   },
   {
    "duration": 1620,
    "start_time": "2022-10-13T05:09:17.355Z"
   },
   {
    "duration": 97,
    "start_time": "2022-10-13T05:09:18.978Z"
   },
   {
    "duration": 46,
    "start_time": "2022-10-13T05:09:19.078Z"
   },
   {
    "duration": 33,
    "start_time": "2022-10-13T05:09:19.127Z"
   },
   {
    "duration": 5,
    "start_time": "2022-10-13T05:09:19.164Z"
   },
   {
    "duration": 42,
    "start_time": "2022-10-13T05:09:19.172Z"
   },
   {
    "duration": 27,
    "start_time": "2022-10-13T05:09:19.217Z"
   },
   {
    "duration": 41,
    "start_time": "2022-10-13T05:09:19.247Z"
   },
   {
    "duration": 6,
    "start_time": "2022-10-13T05:09:19.291Z"
   },
   {
    "duration": 11,
    "start_time": "2022-10-13T05:09:19.300Z"
   },
   {
    "duration": 61,
    "start_time": "2022-10-13T05:09:19.313Z"
   },
   {
    "duration": 39,
    "start_time": "2022-10-13T05:09:19.377Z"
   },
   {
    "duration": 29,
    "start_time": "2022-10-13T05:09:19.418Z"
   },
   {
    "duration": 12,
    "start_time": "2022-10-13T05:09:19.457Z"
   },
   {
    "duration": 36,
    "start_time": "2022-10-13T05:09:19.471Z"
   },
   {
    "duration": 19,
    "start_time": "2022-10-13T05:09:19.510Z"
   },
   {
    "duration": 23,
    "start_time": "2022-10-13T05:09:19.531Z"
   },
   {
    "duration": 51,
    "start_time": "2022-10-13T05:09:19.557Z"
   },
   {
    "duration": 1414,
    "start_time": "2022-10-13T05:09:19.611Z"
   },
   {
    "duration": 1050,
    "start_time": "2022-10-13T05:09:21.027Z"
   },
   {
    "duration": 86,
    "start_time": "2022-10-13T05:09:22.079Z"
   },
   {
    "duration": 25,
    "start_time": "2022-10-13T05:09:22.168Z"
   },
   {
    "duration": 1559,
    "start_time": "2022-10-13T05:09:22.195Z"
   },
   {
    "duration": 10,
    "start_time": "2022-10-13T05:09:23.756Z"
   },
   {
    "duration": 1802,
    "start_time": "2022-10-13T05:09:23.768Z"
   },
   {
    "duration": 23,
    "start_time": "2022-10-13T05:09:25.572Z"
   },
   {
    "duration": 10,
    "start_time": "2022-10-13T05:09:25.599Z"
   },
   {
    "duration": 823,
    "start_time": "2022-10-13T05:09:25.611Z"
   },
   {
    "duration": 311,
    "start_time": "2022-10-13T05:09:26.436Z"
   },
   {
    "duration": 388,
    "start_time": "2022-10-13T05:09:26.749Z"
   },
   {
    "duration": 22,
    "start_time": "2022-10-13T05:09:27.139Z"
   },
   {
    "duration": 5,
    "start_time": "2022-10-13T05:09:27.163Z"
   },
   {
    "duration": 16,
    "start_time": "2022-10-13T05:09:27.170Z"
   },
   {
    "duration": 8,
    "start_time": "2022-10-13T05:09:27.188Z"
   },
   {
    "duration": 22,
    "start_time": "2022-10-13T05:09:27.199Z"
   },
   {
    "duration": 34,
    "start_time": "2022-10-13T05:09:27.224Z"
   },
   {
    "duration": 173,
    "start_time": "2022-10-13T05:13:09.857Z"
   },
   {
    "duration": 152,
    "start_time": "2022-10-13T05:13:53.083Z"
   },
   {
    "duration": 165,
    "start_time": "2022-10-13T05:14:03.642Z"
   },
   {
    "duration": 245,
    "start_time": "2022-10-13T05:20:45.169Z"
   },
   {
    "duration": 383,
    "start_time": "2022-10-13T05:22:00.590Z"
   },
   {
    "duration": 256,
    "start_time": "2022-10-13T05:22:06.477Z"
   },
   {
    "duration": 245,
    "start_time": "2022-10-13T05:23:48.385Z"
   },
   {
    "duration": 237,
    "start_time": "2022-10-13T05:23:52.958Z"
   },
   {
    "duration": 11,
    "start_time": "2022-10-13T05:26:06.180Z"
   },
   {
    "duration": 15,
    "start_time": "2022-10-13T05:26:59.912Z"
   },
   {
    "duration": 16,
    "start_time": "2022-10-13T05:27:08.933Z"
   },
   {
    "duration": 15,
    "start_time": "2022-10-13T05:29:01.076Z"
   },
   {
    "duration": 53,
    "start_time": "2022-10-13T05:31:09.834Z"
   },
   {
    "duration": 12,
    "start_time": "2022-10-13T05:31:19.686Z"
   },
   {
    "duration": 10,
    "start_time": "2022-10-13T05:31:26.175Z"
   },
   {
    "duration": 21,
    "start_time": "2022-10-13T05:31:43.414Z"
   },
   {
    "duration": 17,
    "start_time": "2022-10-13T05:31:56.820Z"
   },
   {
    "duration": 22,
    "start_time": "2022-10-13T05:32:07.523Z"
   },
   {
    "duration": 23,
    "start_time": "2022-10-13T05:32:36.106Z"
   },
   {
    "duration": 119,
    "start_time": "2022-10-13T05:32:55.890Z"
   },
   {
    "duration": 19,
    "start_time": "2022-10-13T05:33:04.938Z"
   },
   {
    "duration": 16,
    "start_time": "2022-10-13T05:33:40.297Z"
   },
   {
    "duration": 148,
    "start_time": "2022-10-13T05:35:27.979Z"
   },
   {
    "duration": 4992,
    "start_time": "2022-10-13T05:35:45.379Z"
   },
   {
    "duration": 6,
    "start_time": "2022-10-13T05:36:17.696Z"
   },
   {
    "duration": 176,
    "start_time": "2022-10-13T05:37:34.158Z"
   },
   {
    "duration": 162,
    "start_time": "2022-10-13T05:37:49.940Z"
   },
   {
    "duration": 170,
    "start_time": "2022-10-13T05:38:20.771Z"
   },
   {
    "duration": 33,
    "start_time": "2022-10-13T05:40:41.318Z"
   },
   {
    "duration": 241,
    "start_time": "2022-10-13T05:41:14.407Z"
   },
   {
    "duration": 16,
    "start_time": "2022-10-13T05:42:28.171Z"
   },
   {
    "duration": 16,
    "start_time": "2022-10-13T05:42:54.818Z"
   },
   {
    "duration": 17,
    "start_time": "2022-10-13T05:43:30.014Z"
   },
   {
    "duration": 195,
    "start_time": "2022-10-13T05:43:51.887Z"
   },
   {
    "duration": 16,
    "start_time": "2022-10-13T05:44:38.118Z"
   },
   {
    "duration": 15,
    "start_time": "2022-10-13T05:45:14.263Z"
   },
   {
    "duration": 157,
    "start_time": "2022-10-13T05:45:34.953Z"
   },
   {
    "duration": 13,
    "start_time": "2022-10-13T05:49:29.512Z"
   },
   {
    "duration": 13,
    "start_time": "2022-10-13T05:49:37.137Z"
   },
   {
    "duration": 142,
    "start_time": "2022-10-13T05:49:50.696Z"
   },
   {
    "duration": 155,
    "start_time": "2022-10-13T05:50:26.397Z"
   },
   {
    "duration": 119,
    "start_time": "2022-10-13T05:51:29.515Z"
   },
   {
    "duration": 117,
    "start_time": "2022-10-13T05:51:50.062Z"
   },
   {
    "duration": 195,
    "start_time": "2022-10-13T05:54:43.627Z"
   },
   {
    "duration": 322,
    "start_time": "2022-10-13T05:55:01.685Z"
   },
   {
    "duration": 383,
    "start_time": "2022-10-13T05:55:24.667Z"
   },
   {
    "duration": 519,
    "start_time": "2022-10-13T05:55:52.479Z"
   },
   {
    "duration": 410,
    "start_time": "2022-10-13T05:56:08.297Z"
   },
   {
    "duration": 28,
    "start_time": "2022-10-13T05:59:39.245Z"
   },
   {
    "duration": 17,
    "start_time": "2022-10-13T05:59:56.173Z"
   },
   {
    "duration": 15,
    "start_time": "2022-10-13T06:00:27.740Z"
   },
   {
    "duration": 14,
    "start_time": "2022-10-13T06:00:32.548Z"
   },
   {
    "duration": 15,
    "start_time": "2022-10-13T06:00:41.940Z"
   },
   {
    "duration": 16,
    "start_time": "2022-10-13T06:00:49.259Z"
   },
   {
    "duration": 15,
    "start_time": "2022-10-13T06:03:37.925Z"
   },
   {
    "duration": 958,
    "start_time": "2022-10-13T06:07:58.840Z"
   },
   {
    "duration": 20,
    "start_time": "2022-10-13T06:08:25.121Z"
   },
   {
    "duration": 22,
    "start_time": "2022-10-13T06:08:35.172Z"
   },
   {
    "duration": 19,
    "start_time": "2022-10-13T06:11:56.904Z"
   },
   {
    "duration": 21,
    "start_time": "2022-10-13T06:12:07.592Z"
   },
   {
    "duration": 61,
    "start_time": "2022-10-13T06:36:14.576Z"
   },
   {
    "duration": 1126,
    "start_time": "2022-10-13T06:36:24.970Z"
   },
   {
    "duration": 1814,
    "start_time": "2022-10-13T06:36:39.520Z"
   },
   {
    "duration": 1090,
    "start_time": "2022-10-13T13:50:46.699Z"
   },
   {
    "duration": 36,
    "start_time": "2022-10-13T13:50:47.791Z"
   },
   {
    "duration": 22,
    "start_time": "2022-10-13T13:50:47.828Z"
   },
   {
    "duration": 14,
    "start_time": "2022-10-13T13:50:47.852Z"
   },
   {
    "duration": 3,
    "start_time": "2022-10-13T13:50:47.867Z"
   },
   {
    "duration": 30,
    "start_time": "2022-10-13T13:50:47.871Z"
   },
   {
    "duration": 10,
    "start_time": "2022-10-13T13:50:47.902Z"
   },
   {
    "duration": 21,
    "start_time": "2022-10-13T13:50:47.913Z"
   },
   {
    "duration": 4,
    "start_time": "2022-10-13T13:50:47.935Z"
   },
   {
    "duration": 5,
    "start_time": "2022-10-13T13:50:47.941Z"
   },
   {
    "duration": 12,
    "start_time": "2022-10-13T13:50:47.947Z"
   },
   {
    "duration": 42,
    "start_time": "2022-10-13T13:50:47.960Z"
   },
   {
    "duration": 15,
    "start_time": "2022-10-13T13:50:48.003Z"
   },
   {
    "duration": 11,
    "start_time": "2022-10-13T13:50:48.020Z"
   },
   {
    "duration": 14,
    "start_time": "2022-10-13T13:50:48.033Z"
   },
   {
    "duration": 9,
    "start_time": "2022-10-13T13:50:48.048Z"
   },
   {
    "duration": 4,
    "start_time": "2022-10-13T13:50:48.059Z"
   },
   {
    "duration": 37,
    "start_time": "2022-10-13T13:50:48.064Z"
   },
   {
    "duration": 966,
    "start_time": "2022-10-13T13:50:48.102Z"
   },
   {
    "duration": 725,
    "start_time": "2022-10-13T13:50:49.070Z"
   },
   {
    "duration": 194,
    "start_time": "2022-10-13T13:50:49.800Z"
   },
   {
    "duration": 55,
    "start_time": "2022-10-13T13:50:49.995Z"
   },
   {
    "duration": 16,
    "start_time": "2022-10-13T13:50:50.052Z"
   },
   {
    "duration": 1170,
    "start_time": "2022-10-13T13:50:50.070Z"
   },
   {
    "duration": 206,
    "start_time": "2022-10-13T13:50:51.241Z"
   },
   {
    "duration": 8,
    "start_time": "2022-10-13T13:50:51.449Z"
   },
   {
    "duration": 1312,
    "start_time": "2022-10-13T13:50:51.459Z"
   },
   {
    "duration": 16,
    "start_time": "2022-10-13T13:50:52.775Z"
   },
   {
    "duration": 7,
    "start_time": "2022-10-13T13:50:52.793Z"
   },
   {
    "duration": 733,
    "start_time": "2022-10-13T13:50:52.802Z"
   },
   {
    "duration": 170,
    "start_time": "2022-10-13T13:50:53.537Z"
   },
   {
    "duration": 351,
    "start_time": "2022-10-13T13:50:53.709Z"
   },
   {
    "duration": 20,
    "start_time": "2022-10-13T13:50:54.062Z"
   },
   {
    "duration": 28,
    "start_time": "2022-10-13T13:50:54.084Z"
   },
   {
    "duration": 5,
    "start_time": "2022-10-13T13:50:54.114Z"
   },
   {
    "duration": 181,
    "start_time": "2022-10-13T13:50:54.121Z"
   },
   {
    "duration": 13,
    "start_time": "2022-10-13T13:50:54.304Z"
   },
   {
    "duration": 13,
    "start_time": "2022-10-13T13:50:54.319Z"
   },
   {
    "duration": 179,
    "start_time": "2022-10-13T13:50:54.334Z"
   },
   {
    "duration": 14,
    "start_time": "2022-10-13T13:50:54.515Z"
   },
   {
    "duration": 16,
    "start_time": "2022-10-13T13:50:54.532Z"
   },
   {
    "duration": 172,
    "start_time": "2022-10-13T13:50:54.551Z"
   },
   {
    "duration": 5,
    "start_time": "2022-10-13T13:50:54.724Z"
   },
   {
    "duration": 14,
    "start_time": "2022-10-13T13:50:54.731Z"
   },
   {
    "duration": 5,
    "start_time": "2022-10-13T13:50:54.747Z"
   },
   {
    "duration": 8,
    "start_time": "2022-10-13T13:50:54.755Z"
   },
   {
    "duration": 10,
    "start_time": "2022-10-13T13:50:54.764Z"
   },
   {
    "duration": 13,
    "start_time": "2022-10-13T13:59:10.398Z"
   },
   {
    "duration": 12,
    "start_time": "2022-10-13T13:59:28.275Z"
   },
   {
    "duration": 12,
    "start_time": "2022-10-13T13:59:40.894Z"
   },
   {
    "duration": 559,
    "start_time": "2022-10-13T14:08:53.736Z"
   },
   {
    "duration": 683,
    "start_time": "2022-10-13T14:09:06.786Z"
   },
   {
    "duration": 1118,
    "start_time": "2022-10-13T14:10:04.505Z"
   },
   {
    "duration": 587,
    "start_time": "2022-10-13T14:13:26.653Z"
   },
   {
    "duration": 664,
    "start_time": "2022-10-13T14:13:31.856Z"
   },
   {
    "duration": 1363,
    "start_time": "2022-10-14T14:22:26.609Z"
   },
   {
    "duration": 200,
    "start_time": "2022-10-14T14:22:30.302Z"
   },
   {
    "duration": 25,
    "start_time": "2022-10-14T14:22:31.287Z"
   },
   {
    "duration": 14,
    "start_time": "2022-10-14T14:22:32.844Z"
   },
   {
    "duration": 3,
    "start_time": "2022-10-14T14:22:33.812Z"
   },
   {
    "duration": 15,
    "start_time": "2022-10-14T14:22:37.988Z"
   },
   {
    "duration": 9,
    "start_time": "2022-10-14T14:22:40.195Z"
   },
   {
    "duration": 15,
    "start_time": "2022-10-14T14:22:42.972Z"
   },
   {
    "duration": 4,
    "start_time": "2022-10-14T14:22:44.061Z"
   },
   {
    "duration": 4,
    "start_time": "2022-10-14T14:22:46.675Z"
   },
   {
    "duration": 10,
    "start_time": "2022-10-14T14:22:47.563Z"
   },
   {
    "duration": 17,
    "start_time": "2022-10-14T14:22:49.937Z"
   },
   {
    "duration": 4,
    "start_time": "2022-10-14T14:50:29.865Z"
   },
   {
    "duration": 3,
    "start_time": "2022-10-14T14:51:08.206Z"
   },
   {
    "duration": 108,
    "start_time": "2022-10-14T14:51:16.799Z"
   },
   {
    "duration": 16,
    "start_time": "2022-10-14T14:52:42.757Z"
   },
   {
    "duration": 149,
    "start_time": "2022-10-14T14:56:20.625Z"
   },
   {
    "duration": 144,
    "start_time": "2022-10-14T14:56:41.803Z"
   },
   {
    "duration": 301,
    "start_time": "2022-10-14T14:57:19.418Z"
   },
   {
    "duration": 1309,
    "start_time": "2022-10-14T14:57:43.598Z"
   },
   {
    "duration": 79,
    "start_time": "2022-10-14T14:57:51.841Z"
   },
   {
    "duration": 447,
    "start_time": "2022-10-14T14:57:54.994Z"
   },
   {
    "duration": 468,
    "start_time": "2022-10-14T14:58:35.604Z"
   },
   {
    "duration": 345,
    "start_time": "2022-10-14T14:58:39.952Z"
   },
   {
    "duration": 351,
    "start_time": "2022-10-14T14:58:55.959Z"
   },
   {
    "duration": 350,
    "start_time": "2022-10-14T14:59:05.207Z"
   },
   {
    "duration": 9,
    "start_time": "2022-10-14T15:12:27.428Z"
   },
   {
    "duration": 16,
    "start_time": "2022-10-14T15:15:14.899Z"
   },
   {
    "duration": 13,
    "start_time": "2022-10-14T15:15:27.857Z"
   },
   {
    "duration": 20,
    "start_time": "2022-10-14T15:18:57.375Z"
   },
   {
    "duration": 11,
    "start_time": "2022-10-14T15:18:59.700Z"
   },
   {
    "duration": 4,
    "start_time": "2022-10-14T15:19:38.153Z"
   },
   {
    "duration": 17,
    "start_time": "2022-10-14T15:21:18.732Z"
   },
   {
    "duration": 12,
    "start_time": "2022-10-14T15:22:18.409Z"
   },
   {
    "duration": 16,
    "start_time": "2022-10-14T15:22:25.817Z"
   },
   {
    "duration": 4,
    "start_time": "2022-10-14T15:22:29.263Z"
   },
   {
    "duration": 18,
    "start_time": "2022-10-14T15:22:31.394Z"
   },
   {
    "duration": 8,
    "start_time": "2022-10-14T15:22:42.655Z"
   },
   {
    "duration": 22,
    "start_time": "2022-10-14T15:22:46.001Z"
   },
   {
    "duration": 23,
    "start_time": "2022-10-14T15:22:49.474Z"
   },
   {
    "duration": 4,
    "start_time": "2022-10-14T15:22:54.239Z"
   },
   {
    "duration": 307,
    "start_time": "2022-10-14T15:22:59.736Z"
   },
   {
    "duration": 399,
    "start_time": "2022-10-14T15:24:27.222Z"
   },
   {
    "duration": 98,
    "start_time": "2022-10-14T15:27:57.862Z"
   },
   {
    "duration": 80,
    "start_time": "2022-10-14T15:28:04.039Z"
   },
   {
    "duration": 9,
    "start_time": "2022-10-14T15:30:54.115Z"
   },
   {
    "duration": 49,
    "start_time": "2022-10-14T15:30:59.315Z"
   },
   {
    "duration": 30,
    "start_time": "2022-10-14T15:31:35.881Z"
   },
   {
    "duration": 29,
    "start_time": "2022-10-14T15:32:04.984Z"
   },
   {
    "duration": 37,
    "start_time": "2022-10-14T15:32:11.159Z"
   },
   {
    "duration": 162,
    "start_time": "2022-10-14T15:34:49.314Z"
   },
   {
    "duration": 333,
    "start_time": "2022-10-14T15:35:01.538Z"
   },
   {
    "duration": 20,
    "start_time": "2022-10-14T15:38:20.377Z"
   },
   {
    "duration": 12,
    "start_time": "2022-10-14T15:38:32.224Z"
   },
   {
    "duration": 14,
    "start_time": "2022-10-14T15:38:41.455Z"
   },
   {
    "duration": 5,
    "start_time": "2022-10-14T15:38:45.719Z"
   },
   {
    "duration": 134,
    "start_time": "2022-10-14T15:38:52.447Z"
   },
   {
    "duration": 15,
    "start_time": "2022-10-14T15:43:01.496Z"
   },
   {
    "duration": 12,
    "start_time": "2022-10-14T15:43:05.868Z"
   },
   {
    "duration": 13,
    "start_time": "2022-10-14T15:43:11.028Z"
   },
   {
    "duration": 141,
    "start_time": "2022-10-14T15:43:22.867Z"
   },
   {
    "duration": 19,
    "start_time": "2022-10-14T15:45:47.720Z"
   },
   {
    "duration": 17,
    "start_time": "2022-10-14T15:45:49.713Z"
   },
   {
    "duration": 16,
    "start_time": "2022-10-14T15:45:57.151Z"
   },
   {
    "duration": 152,
    "start_time": "2022-10-14T15:46:00.648Z"
   },
   {
    "duration": 78,
    "start_time": "2022-10-14T15:53:13.700Z"
   },
   {
    "duration": 71,
    "start_time": "2022-10-14T15:53:21.060Z"
   },
   {
    "duration": 12,
    "start_time": "2022-10-14T15:53:27.723Z"
   },
   {
    "duration": 13,
    "start_time": "2022-10-14T15:54:08.155Z"
   },
   {
    "duration": 1206,
    "start_time": "2022-10-14T15:54:28.704Z"
   },
   {
    "duration": 162,
    "start_time": "2022-10-14T15:54:35.073Z"
   },
   {
    "duration": 130,
    "start_time": "2022-10-14T15:55:41.173Z"
   },
   {
    "duration": 126,
    "start_time": "2022-10-14T15:57:20.253Z"
   },
   {
    "duration": 141,
    "start_time": "2022-10-14T15:57:54.999Z"
   },
   {
    "duration": 11,
    "start_time": "2022-10-14T15:59:12.870Z"
   },
   {
    "duration": 223,
    "start_time": "2022-10-14T15:59:24.728Z"
   },
   {
    "duration": 160,
    "start_time": "2022-10-14T15:59:51.944Z"
   },
   {
    "duration": 130,
    "start_time": "2022-10-14T16:00:15.038Z"
   },
   {
    "duration": 149,
    "start_time": "2022-10-14T16:00:47.523Z"
   },
   {
    "duration": 151,
    "start_time": "2022-10-14T16:00:50.107Z"
   },
   {
    "duration": 13,
    "start_time": "2022-10-14T16:02:25.036Z"
   },
   {
    "duration": 17,
    "start_time": "2022-10-14T16:02:40.027Z"
   },
   {
    "duration": 15,
    "start_time": "2022-10-14T16:02:50.626Z"
   },
   {
    "duration": 14,
    "start_time": "2022-10-14T16:03:18.017Z"
   },
   {
    "duration": 11,
    "start_time": "2022-10-14T16:03:22.809Z"
   },
   {
    "duration": 19,
    "start_time": "2022-10-14T16:03:34.377Z"
   },
   {
    "duration": 15,
    "start_time": "2022-10-14T16:04:39.501Z"
   },
   {
    "duration": 11,
    "start_time": "2022-10-14T16:05:13.807Z"
   },
   {
    "duration": 6,
    "start_time": "2022-10-14T16:14:31.810Z"
   },
   {
    "duration": 13,
    "start_time": "2022-10-14T16:14:35.708Z"
   },
   {
    "duration": 12,
    "start_time": "2022-10-14T16:14:44.903Z"
   },
   {
    "duration": 1321,
    "start_time": "2022-10-15T07:34:50.797Z"
   },
   {
    "duration": 43,
    "start_time": "2022-10-15T07:34:52.121Z"
   },
   {
    "duration": 26,
    "start_time": "2022-10-15T07:34:52.166Z"
   },
   {
    "duration": 17,
    "start_time": "2022-10-15T07:34:52.194Z"
   },
   {
    "duration": 5,
    "start_time": "2022-10-15T07:34:52.213Z"
   },
   {
    "duration": 42,
    "start_time": "2022-10-15T07:34:52.220Z"
   },
   {
    "duration": 10,
    "start_time": "2022-10-15T07:34:52.264Z"
   },
   {
    "duration": 27,
    "start_time": "2022-10-15T07:34:52.276Z"
   },
   {
    "duration": 4,
    "start_time": "2022-10-15T07:34:52.305Z"
   },
   {
    "duration": 12,
    "start_time": "2022-10-15T07:34:52.311Z"
   },
   {
    "duration": 37,
    "start_time": "2022-10-15T07:34:52.325Z"
   },
   {
    "duration": 25,
    "start_time": "2022-10-15T07:34:52.364Z"
   },
   {
    "duration": 18,
    "start_time": "2022-10-15T07:34:52.391Z"
   },
   {
    "duration": 5,
    "start_time": "2022-10-15T07:34:52.413Z"
   },
   {
    "duration": 41,
    "start_time": "2022-10-15T07:34:52.420Z"
   },
   {
    "duration": 30,
    "start_time": "2022-10-15T07:34:52.464Z"
   },
   {
    "duration": 510,
    "start_time": "2022-10-15T07:34:52.497Z"
   },
   {
    "duration": 21,
    "start_time": "2022-10-15T07:34:53.009Z"
   },
   {
    "duration": 80,
    "start_time": "2022-10-15T07:34:53.032Z"
   },
   {
    "duration": 12,
    "start_time": "2022-10-15T07:34:53.115Z"
   },
   {
    "duration": 38,
    "start_time": "2022-10-15T07:34:53.129Z"
   },
   {
    "duration": 1258,
    "start_time": "2022-10-15T07:34:53.169Z"
   },
   {
    "duration": 1123,
    "start_time": "2022-10-15T07:34:54.429Z"
   },
   {
    "duration": 246,
    "start_time": "2022-10-15T07:34:55.555Z"
   },
   {
    "duration": 74,
    "start_time": "2022-10-15T07:34:55.804Z"
   },
   {
    "duration": 22,
    "start_time": "2022-10-15T07:34:55.880Z"
   },
   {
    "duration": 1382,
    "start_time": "2022-10-15T07:34:55.904Z"
   },
   {
    "duration": 262,
    "start_time": "2022-10-15T07:34:57.287Z"
   },
   {
    "duration": 9,
    "start_time": "2022-10-15T07:34:57.553Z"
   },
   {
    "duration": 11,
    "start_time": "2022-10-15T07:34:57.565Z"
   },
   {
    "duration": 30,
    "start_time": "2022-10-15T07:34:57.579Z"
   },
   {
    "duration": 18,
    "start_time": "2022-10-15T07:34:57.611Z"
   },
   {
    "duration": 26,
    "start_time": "2022-10-15T07:34:57.631Z"
   },
   {
    "duration": 1734,
    "start_time": "2022-10-15T07:34:57.659Z"
   },
   {
    "duration": 336,
    "start_time": "2022-10-15T07:34:59.395Z"
   },
   {
    "duration": 32,
    "start_time": "2022-10-15T07:34:59.733Z"
   },
   {
    "duration": 5,
    "start_time": "2022-10-15T07:34:59.767Z"
   },
   {
    "duration": 796,
    "start_time": "2022-10-15T07:34:59.774Z"
   },
   {
    "duration": 31,
    "start_time": "2022-10-15T07:35:00.572Z"
   },
   {
    "duration": 221,
    "start_time": "2022-10-15T07:35:00.606Z"
   },
   {
    "duration": 428,
    "start_time": "2022-10-15T07:35:00.831Z"
   },
   {
    "duration": 16,
    "start_time": "2022-10-15T07:35:01.261Z"
   },
   {
    "duration": 26,
    "start_time": "2022-10-15T07:35:01.279Z"
   },
   {
    "duration": 20,
    "start_time": "2022-10-15T07:35:01.307Z"
   },
   {
    "duration": 39,
    "start_time": "2022-10-15T07:35:01.329Z"
   },
   {
    "duration": 205,
    "start_time": "2022-10-15T07:35:01.370Z"
   },
   {
    "duration": 18,
    "start_time": "2022-10-15T07:35:01.577Z"
   },
   {
    "duration": 37,
    "start_time": "2022-10-15T07:35:01.597Z"
   },
   {
    "duration": 183,
    "start_time": "2022-10-15T07:35:01.636Z"
   },
   {
    "duration": 18,
    "start_time": "2022-10-15T07:35:01.821Z"
   },
   {
    "duration": 48,
    "start_time": "2022-10-15T07:35:01.840Z"
   },
   {
    "duration": 16,
    "start_time": "2022-10-15T07:35:01.890Z"
   },
   {
    "duration": 273,
    "start_time": "2022-10-15T07:35:01.907Z"
   },
   {
    "duration": 14,
    "start_time": "2022-10-15T07:35:02.182Z"
   },
   {
    "duration": 14,
    "start_time": "2022-10-15T07:35:02.198Z"
   },
   {
    "duration": 50,
    "start_time": "2022-10-15T07:35:02.214Z"
   },
   {
    "duration": 20,
    "start_time": "2022-10-15T07:35:02.266Z"
   },
   {
    "duration": 27,
    "start_time": "2022-10-15T07:35:02.288Z"
   },
   {
    "duration": 23,
    "start_time": "2022-10-15T07:35:02.318Z"
   },
   {
    "duration": 149,
    "start_time": "2022-10-15T07:37:16.968Z"
   },
   {
    "duration": 162,
    "start_time": "2022-10-15T07:37:30.200Z"
   },
   {
    "duration": 52,
    "start_time": "2022-10-15T07:37:54.508Z"
   },
   {
    "duration": 50,
    "start_time": "2022-10-15T07:37:57.679Z"
   },
   {
    "duration": 188,
    "start_time": "2022-10-15T07:38:03.328Z"
   },
   {
    "duration": 216,
    "start_time": "2022-10-15T07:39:51.110Z"
   },
   {
    "duration": 55,
    "start_time": "2022-10-15T10:31:54.393Z"
   },
   {
    "duration": 1173,
    "start_time": "2022-10-15T11:21:28.213Z"
   },
   {
    "duration": 198,
    "start_time": "2022-10-15T11:21:29.388Z"
   },
   {
    "duration": 46,
    "start_time": "2022-10-15T11:21:29.588Z"
   },
   {
    "duration": 15,
    "start_time": "2022-10-15T11:21:29.636Z"
   },
   {
    "duration": 4,
    "start_time": "2022-10-15T11:21:29.652Z"
   },
   {
    "duration": 31,
    "start_time": "2022-10-15T11:21:29.658Z"
   },
   {
    "duration": 10,
    "start_time": "2022-10-15T11:21:29.691Z"
   },
   {
    "duration": 16,
    "start_time": "2022-10-15T11:21:29.702Z"
   },
   {
    "duration": 3,
    "start_time": "2022-10-15T11:21:29.719Z"
   },
   {
    "duration": 5,
    "start_time": "2022-10-15T11:21:29.725Z"
   },
   {
    "duration": 16,
    "start_time": "2022-10-15T11:21:29.731Z"
   },
   {
    "duration": 54,
    "start_time": "2022-10-15T11:21:29.748Z"
   },
   {
    "duration": 22,
    "start_time": "2022-10-15T11:21:29.804Z"
   },
   {
    "duration": 4,
    "start_time": "2022-10-15T11:21:29.828Z"
   },
   {
    "duration": 22,
    "start_time": "2022-10-15T11:21:29.833Z"
   },
   {
    "duration": 11,
    "start_time": "2022-10-15T11:21:29.856Z"
   },
   {
    "duration": 188,
    "start_time": "2022-10-15T11:21:29.885Z"
   },
   {
    "duration": 295,
    "start_time": "2022-10-15T11:21:30.075Z"
   },
   {
    "duration": 20,
    "start_time": "2022-10-15T11:21:30.372Z"
   },
   {
    "duration": 15,
    "start_time": "2022-10-15T11:21:30.394Z"
   },
   {
    "duration": 8,
    "start_time": "2022-10-15T11:21:30.410Z"
   },
   {
    "duration": 29,
    "start_time": "2022-10-15T11:21:30.420Z"
   },
   {
    "duration": 1053,
    "start_time": "2022-10-15T11:21:30.452Z"
   },
   {
    "duration": 851,
    "start_time": "2022-10-15T11:21:31.507Z"
   },
   {
    "duration": 199,
    "start_time": "2022-10-15T11:21:32.360Z"
   },
   {
    "duration": 65,
    "start_time": "2022-10-15T11:21:32.561Z"
   },
   {
    "duration": 19,
    "start_time": "2022-10-15T11:21:32.628Z"
   },
   {
    "duration": 1227,
    "start_time": "2022-10-15T11:21:32.651Z"
   },
   {
    "duration": 216,
    "start_time": "2022-10-15T11:21:33.881Z"
   },
   {
    "duration": 7,
    "start_time": "2022-10-15T11:21:34.099Z"
   },
   {
    "duration": 6,
    "start_time": "2022-10-15T11:21:34.107Z"
   },
   {
    "duration": 19,
    "start_time": "2022-10-15T11:21:34.115Z"
   },
   {
    "duration": 12,
    "start_time": "2022-10-15T11:21:34.135Z"
   },
   {
    "duration": 4,
    "start_time": "2022-10-15T11:21:34.149Z"
   },
   {
    "duration": 1536,
    "start_time": "2022-10-15T11:21:34.155Z"
   },
   {
    "duration": 306,
    "start_time": "2022-10-15T11:21:35.692Z"
   },
   {
    "duration": 16,
    "start_time": "2022-10-15T11:21:36.000Z"
   },
   {
    "duration": 7,
    "start_time": "2022-10-15T11:21:36.018Z"
   },
   {
    "duration": 732,
    "start_time": "2022-10-15T11:21:36.026Z"
   },
   {
    "duration": 44,
    "start_time": "2022-10-15T11:21:36.760Z"
   },
   {
    "duration": 224,
    "start_time": "2022-10-15T11:21:36.805Z"
   },
   {
    "duration": 419,
    "start_time": "2022-10-15T11:21:37.031Z"
   },
   {
    "duration": 13,
    "start_time": "2022-10-15T11:21:37.452Z"
   },
   {
    "duration": 27,
    "start_time": "2022-10-15T11:21:37.466Z"
   },
   {
    "duration": 5,
    "start_time": "2022-10-15T11:21:37.495Z"
   },
   {
    "duration": 10,
    "start_time": "2022-10-15T11:21:37.502Z"
   },
   {
    "duration": 128,
    "start_time": "2022-10-15T11:21:37.514Z"
   },
   {
    "duration": 12,
    "start_time": "2022-10-15T11:21:37.644Z"
   },
   {
    "duration": 12,
    "start_time": "2022-10-15T11:21:37.658Z"
   },
   {
    "duration": 206,
    "start_time": "2022-10-15T11:21:37.685Z"
   },
   {
    "duration": 11,
    "start_time": "2022-10-15T11:21:37.893Z"
   },
   {
    "duration": 14,
    "start_time": "2022-10-15T11:21:37.906Z"
   },
   {
    "duration": 15,
    "start_time": "2022-10-15T11:21:37.922Z"
   },
   {
    "duration": 130,
    "start_time": "2022-10-15T11:21:37.939Z"
   },
   {
    "duration": 18,
    "start_time": "2022-10-15T11:21:38.070Z"
   },
   {
    "duration": 8,
    "start_time": "2022-10-15T11:21:38.089Z"
   },
   {
    "duration": 14,
    "start_time": "2022-10-15T11:21:38.098Z"
   },
   {
    "duration": 5,
    "start_time": "2022-10-15T11:21:38.114Z"
   },
   {
    "duration": 8,
    "start_time": "2022-10-15T11:21:38.121Z"
   },
   {
    "duration": 8,
    "start_time": "2022-10-15T11:21:38.130Z"
   },
   {
    "duration": 1366,
    "start_time": "2023-02-09T07:03:58.946Z"
   },
   {
    "duration": 168,
    "start_time": "2023-02-09T07:04:00.316Z"
   },
   {
    "duration": 40,
    "start_time": "2023-02-09T07:04:00.486Z"
   },
   {
    "duration": 144,
    "start_time": "2023-02-09T07:04:00.528Z"
   },
   {
    "duration": 85,
    "start_time": "2023-02-09T07:04:00.675Z"
   },
   {
    "duration": 58,
    "start_time": "2023-02-09T07:04:00.761Z"
   },
   {
    "duration": 132,
    "start_time": "2023-02-09T07:04:00.825Z"
   },
   {
    "duration": 113,
    "start_time": "2023-02-09T07:04:00.959Z"
   },
   {
    "duration": 91,
    "start_time": "2023-02-09T07:04:01.073Z"
   },
   {
    "duration": 92,
    "start_time": "2023-02-09T07:04:01.166Z"
   },
   {
    "duration": 38,
    "start_time": "2023-02-09T07:04:01.260Z"
   },
   {
    "duration": 73,
    "start_time": "2023-02-09T07:04:01.300Z"
   },
   {
    "duration": 28,
    "start_time": "2023-02-09T07:04:01.375Z"
   },
   {
    "duration": 6,
    "start_time": "2023-02-09T07:04:01.407Z"
   },
   {
    "duration": 61,
    "start_time": "2023-02-09T07:04:01.415Z"
   },
   {
    "duration": 84,
    "start_time": "2023-02-09T07:04:01.478Z"
   },
   {
    "duration": 270,
    "start_time": "2023-02-09T07:04:01.565Z"
   },
   {
    "duration": 20,
    "start_time": "2023-02-09T07:04:01.840Z"
   },
   {
    "duration": 25,
    "start_time": "2023-02-09T07:04:01.862Z"
   },
   {
    "duration": 43,
    "start_time": "2023-02-09T07:04:01.889Z"
   },
   {
    "duration": 41,
    "start_time": "2023-02-09T07:04:01.937Z"
   },
   {
    "duration": 1551,
    "start_time": "2023-02-09T07:04:01.980Z"
   },
   {
    "duration": 1173,
    "start_time": "2023-02-09T07:04:03.532Z"
   },
   {
    "duration": 385,
    "start_time": "2023-02-09T07:04:04.707Z"
   },
   {
    "duration": 109,
    "start_time": "2023-02-09T07:04:05.095Z"
   },
   {
    "duration": 33,
    "start_time": "2023-02-09T07:04:05.206Z"
   },
   {
    "duration": 1798,
    "start_time": "2023-02-09T07:04:05.240Z"
   },
   {
    "duration": 320,
    "start_time": "2023-02-09T07:04:07.040Z"
   },
   {
    "duration": 10,
    "start_time": "2023-02-09T07:04:07.362Z"
   },
   {
    "duration": 10,
    "start_time": "2023-02-09T07:04:07.373Z"
   },
   {
    "duration": 50,
    "start_time": "2023-02-09T07:04:07.384Z"
   },
   {
    "duration": 24,
    "start_time": "2023-02-09T07:04:07.437Z"
   },
   {
    "duration": 9,
    "start_time": "2023-02-09T07:04:07.462Z"
   },
   {
    "duration": 405,
    "start_time": "2023-02-09T07:04:07.472Z"
   },
   {
    "duration": 29,
    "start_time": "2023-02-09T07:04:07.879Z"
   },
   {
    "duration": 52,
    "start_time": "2023-02-09T07:04:07.911Z"
   },
   {
    "duration": 1164,
    "start_time": "2023-02-09T07:04:07.965Z"
   },
   {
    "duration": 33,
    "start_time": "2023-02-09T07:04:09.132Z"
   },
   {
    "duration": 289,
    "start_time": "2023-02-09T07:04:09.167Z"
   },
   {
    "duration": 432,
    "start_time": "2023-02-09T07:04:09.458Z"
   },
   {
    "duration": 19,
    "start_time": "2023-02-09T07:04:09.895Z"
   },
   {
    "duration": 56,
    "start_time": "2023-02-09T07:04:09.917Z"
   },
   {
    "duration": 6,
    "start_time": "2023-02-09T07:04:09.975Z"
   },
   {
    "duration": 24,
    "start_time": "2023-02-09T07:04:09.982Z"
   },
   {
    "duration": 181,
    "start_time": "2023-02-09T07:04:10.008Z"
   },
   {
    "duration": 22,
    "start_time": "2023-02-09T07:04:10.190Z"
   },
   {
    "duration": 60,
    "start_time": "2023-02-09T07:04:10.214Z"
   },
   {
    "duration": 185,
    "start_time": "2023-02-09T07:04:10.276Z"
   },
   {
    "duration": 12,
    "start_time": "2023-02-09T07:04:10.463Z"
   },
   {
    "duration": 21,
    "start_time": "2023-02-09T07:04:10.477Z"
   },
   {
    "duration": 57,
    "start_time": "2023-02-09T07:04:10.502Z"
   },
   {
    "duration": 204,
    "start_time": "2023-02-09T07:04:10.564Z"
   },
   {
    "duration": 11,
    "start_time": "2023-02-09T07:04:10.770Z"
   },
   {
    "duration": 11,
    "start_time": "2023-02-09T07:04:10.783Z"
   },
   {
    "duration": 82,
    "start_time": "2023-02-09T07:04:10.798Z"
   },
   {
    "duration": 10,
    "start_time": "2023-02-09T07:04:10.882Z"
   },
   {
    "duration": 62,
    "start_time": "2023-02-09T07:04:10.898Z"
   },
   {
    "duration": 10,
    "start_time": "2023-02-09T07:04:10.961Z"
   }
  ],
  "kernelspec": {
   "display_name": "Python 3 (ipykernel)",
   "language": "python",
   "name": "python3"
  },
  "language_info": {
   "codemirror_mode": {
    "name": "ipython",
    "version": 3
   },
   "file_extension": ".py",
   "mimetype": "text/x-python",
   "name": "python",
   "nbconvert_exporter": "python",
   "pygments_lexer": "ipython3",
   "version": "3.9.5"
  },
  "toc": {
   "base_numbering": 1,
   "nav_menu": {},
   "number_sections": true,
   "sideBar": true,
   "skip_h1_title": true,
   "title_cell": "Table of Contents",
   "title_sidebar": "Contents",
   "toc_cell": false,
   "toc_position": {},
   "toc_section_display": true,
   "toc_window_display": false
  }
 },
 "nbformat": 4,
 "nbformat_minor": 2
}
